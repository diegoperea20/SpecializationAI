{
  "nbformat": 4,
  "nbformat_minor": 0,
  "metadata": {
    "colab": {
      "provenance": []
    },
    "kernelspec": {
      "name": "python3",
      "display_name": "Python 3"
    },
    "language_info": {
      "name": "python"
    }
  },
  "cells": [
    {
      "cell_type": "markdown",
      "source": [
        "# Aplicación de álgebra lineal en un caso real de regresión lineal a partir del \"Student Performance Data Set\"\n",
        "\n",
        "##Samir Hassan - 2190041\n",
        "## Gabriel Jeannot - 2185887\n",
        "##Carlos Osorio - 2230894\n",
        "##Luis Pareja - 2185833\n",
        "##Diego Perea - 2185751\n"
      ],
      "metadata": {
        "id": "Ke2rl6zmV9Aj"
      }
    },
    {
      "cell_type": "markdown",
      "source": [
        "**Data Set** :[Student](https://archive.ics.uci.edu/ml/datasets/Student+Performance)"
      ],
      "metadata": {
        "id": "AzTpEDbXzWOg"
      }
    },
    {
      "cell_type": "code",
      "source": [
        "import pandas as pd\n",
        "import numpy as np\n",
        "import matplotlib.pyplot as plt\n",
        "from sklearn.linear_model import LinearRegression\n",
        "from sklearn.metrics import mean_squared_error\n",
        "from sklearn.model_selection import train_test_split\n",
        "from scipy.linalg import svd\n",
        "\n",
        "df = pd.read_csv('https://raw.githubusercontent.com/guipsamora/pandas_exercises/master/04_Apply/Students_Alcohol_Consumption/student-mat.csv')\n"
      ],
      "metadata": {
        "id": "wwsbJeOSB03_"
      },
      "execution_count": null,
      "outputs": []
    },
    {
      "cell_type": "code",
      "source": [
        "url = \"https://raw.githubusercontent.com/guipsamora/pandas_exercises/master/04_Apply/Students_Alcohol_Consumption/student-mat.csv\"\n",
        "pd.set_option('display.max_columns', None)\n",
        "dataset = pd.read_csv(url)\n",
        "dataset.head(5)"
      ],
      "metadata": {
        "id": "Ls_g_MynRNLA",
        "colab": {
          "base_uri": "https://localhost:8080/",
          "height": 270
        },
        "outputId": "f958dc41-af14-4a76-bbf8-5e8f41717c73"
      },
      "execution_count": null,
      "outputs": [
        {
          "output_type": "execute_result",
          "data": {
            "text/plain": [
              "  school sex  age address famsize Pstatus  Medu  Fedu     Mjob      Fjob  \\\n",
              "0     GP   F   18       U     GT3       A     4     4  at_home   teacher   \n",
              "1     GP   F   17       U     GT3       T     1     1  at_home     other   \n",
              "2     GP   F   15       U     LE3       T     1     1  at_home     other   \n",
              "3     GP   F   15       U     GT3       T     4     2   health  services   \n",
              "4     GP   F   16       U     GT3       T     3     3    other     other   \n",
              "\n",
              "   reason guardian  traveltime  studytime  failures schoolsup famsup paid  \\\n",
              "0  course   mother           2          2         0       yes     no   no   \n",
              "1  course   father           1          2         0        no    yes   no   \n",
              "2   other   mother           1          2         3       yes     no  yes   \n",
              "3    home   mother           1          3         0        no    yes  yes   \n",
              "4    home   father           1          2         0        no    yes  yes   \n",
              "\n",
              "  activities nursery higher internet romantic  famrel  freetime  goout  Dalc  \\\n",
              "0         no     yes    yes       no       no       4         3      4     1   \n",
              "1         no      no    yes      yes       no       5         3      3     1   \n",
              "2         no     yes    yes      yes       no       4         3      2     2   \n",
              "3        yes     yes    yes      yes      yes       3         2      2     1   \n",
              "4         no     yes    yes       no       no       4         3      2     1   \n",
              "\n",
              "   Walc  health  absences  G1  G2  G3  \n",
              "0     1       3         6   5   6   6  \n",
              "1     1       3         4   5   5   6  \n",
              "2     3       3        10   7   8  10  \n",
              "3     1       5         2  15  14  15  \n",
              "4     2       5         4   6  10  10  "
            ],
            "text/html": [
              "\n",
              "  <div id=\"df-93005370-ff1b-4654-9679-5a3345a518aa\">\n",
              "    <div class=\"colab-df-container\">\n",
              "      <div>\n",
              "<style scoped>\n",
              "    .dataframe tbody tr th:only-of-type {\n",
              "        vertical-align: middle;\n",
              "    }\n",
              "\n",
              "    .dataframe tbody tr th {\n",
              "        vertical-align: top;\n",
              "    }\n",
              "\n",
              "    .dataframe thead th {\n",
              "        text-align: right;\n",
              "    }\n",
              "</style>\n",
              "<table border=\"1\" class=\"dataframe\">\n",
              "  <thead>\n",
              "    <tr style=\"text-align: right;\">\n",
              "      <th></th>\n",
              "      <th>school</th>\n",
              "      <th>sex</th>\n",
              "      <th>age</th>\n",
              "      <th>address</th>\n",
              "      <th>famsize</th>\n",
              "      <th>Pstatus</th>\n",
              "      <th>Medu</th>\n",
              "      <th>Fedu</th>\n",
              "      <th>Mjob</th>\n",
              "      <th>Fjob</th>\n",
              "      <th>reason</th>\n",
              "      <th>guardian</th>\n",
              "      <th>traveltime</th>\n",
              "      <th>studytime</th>\n",
              "      <th>failures</th>\n",
              "      <th>schoolsup</th>\n",
              "      <th>famsup</th>\n",
              "      <th>paid</th>\n",
              "      <th>activities</th>\n",
              "      <th>nursery</th>\n",
              "      <th>higher</th>\n",
              "      <th>internet</th>\n",
              "      <th>romantic</th>\n",
              "      <th>famrel</th>\n",
              "      <th>freetime</th>\n",
              "      <th>goout</th>\n",
              "      <th>Dalc</th>\n",
              "      <th>Walc</th>\n",
              "      <th>health</th>\n",
              "      <th>absences</th>\n",
              "      <th>G1</th>\n",
              "      <th>G2</th>\n",
              "      <th>G3</th>\n",
              "    </tr>\n",
              "  </thead>\n",
              "  <tbody>\n",
              "    <tr>\n",
              "      <th>0</th>\n",
              "      <td>GP</td>\n",
              "      <td>F</td>\n",
              "      <td>18</td>\n",
              "      <td>U</td>\n",
              "      <td>GT3</td>\n",
              "      <td>A</td>\n",
              "      <td>4</td>\n",
              "      <td>4</td>\n",
              "      <td>at_home</td>\n",
              "      <td>teacher</td>\n",
              "      <td>course</td>\n",
              "      <td>mother</td>\n",
              "      <td>2</td>\n",
              "      <td>2</td>\n",
              "      <td>0</td>\n",
              "      <td>yes</td>\n",
              "      <td>no</td>\n",
              "      <td>no</td>\n",
              "      <td>no</td>\n",
              "      <td>yes</td>\n",
              "      <td>yes</td>\n",
              "      <td>no</td>\n",
              "      <td>no</td>\n",
              "      <td>4</td>\n",
              "      <td>3</td>\n",
              "      <td>4</td>\n",
              "      <td>1</td>\n",
              "      <td>1</td>\n",
              "      <td>3</td>\n",
              "      <td>6</td>\n",
              "      <td>5</td>\n",
              "      <td>6</td>\n",
              "      <td>6</td>\n",
              "    </tr>\n",
              "    <tr>\n",
              "      <th>1</th>\n",
              "      <td>GP</td>\n",
              "      <td>F</td>\n",
              "      <td>17</td>\n",
              "      <td>U</td>\n",
              "      <td>GT3</td>\n",
              "      <td>T</td>\n",
              "      <td>1</td>\n",
              "      <td>1</td>\n",
              "      <td>at_home</td>\n",
              "      <td>other</td>\n",
              "      <td>course</td>\n",
              "      <td>father</td>\n",
              "      <td>1</td>\n",
              "      <td>2</td>\n",
              "      <td>0</td>\n",
              "      <td>no</td>\n",
              "      <td>yes</td>\n",
              "      <td>no</td>\n",
              "      <td>no</td>\n",
              "      <td>no</td>\n",
              "      <td>yes</td>\n",
              "      <td>yes</td>\n",
              "      <td>no</td>\n",
              "      <td>5</td>\n",
              "      <td>3</td>\n",
              "      <td>3</td>\n",
              "      <td>1</td>\n",
              "      <td>1</td>\n",
              "      <td>3</td>\n",
              "      <td>4</td>\n",
              "      <td>5</td>\n",
              "      <td>5</td>\n",
              "      <td>6</td>\n",
              "    </tr>\n",
              "    <tr>\n",
              "      <th>2</th>\n",
              "      <td>GP</td>\n",
              "      <td>F</td>\n",
              "      <td>15</td>\n",
              "      <td>U</td>\n",
              "      <td>LE3</td>\n",
              "      <td>T</td>\n",
              "      <td>1</td>\n",
              "      <td>1</td>\n",
              "      <td>at_home</td>\n",
              "      <td>other</td>\n",
              "      <td>other</td>\n",
              "      <td>mother</td>\n",
              "      <td>1</td>\n",
              "      <td>2</td>\n",
              "      <td>3</td>\n",
              "      <td>yes</td>\n",
              "      <td>no</td>\n",
              "      <td>yes</td>\n",
              "      <td>no</td>\n",
              "      <td>yes</td>\n",
              "      <td>yes</td>\n",
              "      <td>yes</td>\n",
              "      <td>no</td>\n",
              "      <td>4</td>\n",
              "      <td>3</td>\n",
              "      <td>2</td>\n",
              "      <td>2</td>\n",
              "      <td>3</td>\n",
              "      <td>3</td>\n",
              "      <td>10</td>\n",
              "      <td>7</td>\n",
              "      <td>8</td>\n",
              "      <td>10</td>\n",
              "    </tr>\n",
              "    <tr>\n",
              "      <th>3</th>\n",
              "      <td>GP</td>\n",
              "      <td>F</td>\n",
              "      <td>15</td>\n",
              "      <td>U</td>\n",
              "      <td>GT3</td>\n",
              "      <td>T</td>\n",
              "      <td>4</td>\n",
              "      <td>2</td>\n",
              "      <td>health</td>\n",
              "      <td>services</td>\n",
              "      <td>home</td>\n",
              "      <td>mother</td>\n",
              "      <td>1</td>\n",
              "      <td>3</td>\n",
              "      <td>0</td>\n",
              "      <td>no</td>\n",
              "      <td>yes</td>\n",
              "      <td>yes</td>\n",
              "      <td>yes</td>\n",
              "      <td>yes</td>\n",
              "      <td>yes</td>\n",
              "      <td>yes</td>\n",
              "      <td>yes</td>\n",
              "      <td>3</td>\n",
              "      <td>2</td>\n",
              "      <td>2</td>\n",
              "      <td>1</td>\n",
              "      <td>1</td>\n",
              "      <td>5</td>\n",
              "      <td>2</td>\n",
              "      <td>15</td>\n",
              "      <td>14</td>\n",
              "      <td>15</td>\n",
              "    </tr>\n",
              "    <tr>\n",
              "      <th>4</th>\n",
              "      <td>GP</td>\n",
              "      <td>F</td>\n",
              "      <td>16</td>\n",
              "      <td>U</td>\n",
              "      <td>GT3</td>\n",
              "      <td>T</td>\n",
              "      <td>3</td>\n",
              "      <td>3</td>\n",
              "      <td>other</td>\n",
              "      <td>other</td>\n",
              "      <td>home</td>\n",
              "      <td>father</td>\n",
              "      <td>1</td>\n",
              "      <td>2</td>\n",
              "      <td>0</td>\n",
              "      <td>no</td>\n",
              "      <td>yes</td>\n",
              "      <td>yes</td>\n",
              "      <td>no</td>\n",
              "      <td>yes</td>\n",
              "      <td>yes</td>\n",
              "      <td>no</td>\n",
              "      <td>no</td>\n",
              "      <td>4</td>\n",
              "      <td>3</td>\n",
              "      <td>2</td>\n",
              "      <td>1</td>\n",
              "      <td>2</td>\n",
              "      <td>5</td>\n",
              "      <td>4</td>\n",
              "      <td>6</td>\n",
              "      <td>10</td>\n",
              "      <td>10</td>\n",
              "    </tr>\n",
              "  </tbody>\n",
              "</table>\n",
              "</div>\n",
              "      <button class=\"colab-df-convert\" onclick=\"convertToInteractive('df-93005370-ff1b-4654-9679-5a3345a518aa')\"\n",
              "              title=\"Convert this dataframe to an interactive table.\"\n",
              "              style=\"display:none;\">\n",
              "        \n",
              "  <svg xmlns=\"http://www.w3.org/2000/svg\" height=\"24px\"viewBox=\"0 0 24 24\"\n",
              "       width=\"24px\">\n",
              "    <path d=\"M0 0h24v24H0V0z\" fill=\"none\"/>\n",
              "    <path d=\"M18.56 5.44l.94 2.06.94-2.06 2.06-.94-2.06-.94-.94-2.06-.94 2.06-2.06.94zm-11 1L8.5 8.5l.94-2.06 2.06-.94-2.06-.94L8.5 2.5l-.94 2.06-2.06.94zm10 10l.94 2.06.94-2.06 2.06-.94-2.06-.94-.94-2.06-.94 2.06-2.06.94z\"/><path d=\"M17.41 7.96l-1.37-1.37c-.4-.4-.92-.59-1.43-.59-.52 0-1.04.2-1.43.59L10.3 9.45l-7.72 7.72c-.78.78-.78 2.05 0 2.83L4 21.41c.39.39.9.59 1.41.59.51 0 1.02-.2 1.41-.59l7.78-7.78 2.81-2.81c.8-.78.8-2.07 0-2.86zM5.41 20L4 18.59l7.72-7.72 1.47 1.35L5.41 20z\"/>\n",
              "  </svg>\n",
              "      </button>\n",
              "      \n",
              "  <style>\n",
              "    .colab-df-container {\n",
              "      display:flex;\n",
              "      flex-wrap:wrap;\n",
              "      gap: 12px;\n",
              "    }\n",
              "\n",
              "    .colab-df-convert {\n",
              "      background-color: #E8F0FE;\n",
              "      border: none;\n",
              "      border-radius: 50%;\n",
              "      cursor: pointer;\n",
              "      display: none;\n",
              "      fill: #1967D2;\n",
              "      height: 32px;\n",
              "      padding: 0 0 0 0;\n",
              "      width: 32px;\n",
              "    }\n",
              "\n",
              "    .colab-df-convert:hover {\n",
              "      background-color: #E2EBFA;\n",
              "      box-shadow: 0px 1px 2px rgba(60, 64, 67, 0.3), 0px 1px 3px 1px rgba(60, 64, 67, 0.15);\n",
              "      fill: #174EA6;\n",
              "    }\n",
              "\n",
              "    [theme=dark] .colab-df-convert {\n",
              "      background-color: #3B4455;\n",
              "      fill: #D2E3FC;\n",
              "    }\n",
              "\n",
              "    [theme=dark] .colab-df-convert:hover {\n",
              "      background-color: #434B5C;\n",
              "      box-shadow: 0px 1px 3px 1px rgba(0, 0, 0, 0.15);\n",
              "      filter: drop-shadow(0px 1px 2px rgba(0, 0, 0, 0.3));\n",
              "      fill: #FFFFFF;\n",
              "    }\n",
              "  </style>\n",
              "\n",
              "      <script>\n",
              "        const buttonEl =\n",
              "          document.querySelector('#df-93005370-ff1b-4654-9679-5a3345a518aa button.colab-df-convert');\n",
              "        buttonEl.style.display =\n",
              "          google.colab.kernel.accessAllowed ? 'block' : 'none';\n",
              "\n",
              "        async function convertToInteractive(key) {\n",
              "          const element = document.querySelector('#df-93005370-ff1b-4654-9679-5a3345a518aa');\n",
              "          const dataTable =\n",
              "            await google.colab.kernel.invokeFunction('convertToInteractive',\n",
              "                                                     [key], {});\n",
              "          if (!dataTable) return;\n",
              "\n",
              "          const docLinkHtml = 'Like what you see? Visit the ' +\n",
              "            '<a target=\"_blank\" href=https://colab.research.google.com/notebooks/data_table.ipynb>data table notebook</a>'\n",
              "            + ' to learn more about interactive tables.';\n",
              "          element.innerHTML = '';\n",
              "          dataTable['output_type'] = 'display_data';\n",
              "          await google.colab.output.renderOutput(dataTable, element);\n",
              "          const docLink = document.createElement('div');\n",
              "          docLink.innerHTML = docLinkHtml;\n",
              "          element.appendChild(docLink);\n",
              "        }\n",
              "      </script>\n",
              "    </div>\n",
              "  </div>\n",
              "  "
            ]
          },
          "metadata": {},
          "execution_count": 2
        }
      ]
    },
    {
      "cell_type": "code",
      "source": [
        "X = df[['age', 'Medu', 'Fedu', 'traveltime', 'studytime']]\n",
        "y = df['G3']\n"
      ],
      "metadata": {
        "id": "Os-VbvG4CwUt"
      },
      "execution_count": null,
      "outputs": []
    },
    {
      "cell_type": "code",
      "source": [
        "X_train, X_test, y_train, y_test = train_test_split(X, y, test_size=0.3, random_state=0)\n",
        "reg = LinearRegression().fit(X_train, y_train)\n",
        "y_pred = reg.predict(X_test)\n"
      ],
      "metadata": {
        "id": "vCuhlrMtCy3g"
      },
      "execution_count": null,
      "outputs": []
    },
    {
      "cell_type": "code",
      "source": [
        "rmse_orig = np.sqrt(mean_squared_error(y_test, y_pred))\n",
        "print('RMSE con todas las variables de entrada:', rmse_orig)\n"
      ],
      "metadata": {
        "colab": {
          "base_uri": "https://localhost:8080/"
        },
        "id": "7vHo4jvvC1ht",
        "outputId": "96d6faa4-bfdc-4fb4-8e9f-a51b0de69953"
      },
      "execution_count": null,
      "outputs": [
        {
          "output_type": "stream",
          "name": "stdout",
          "text": [
            "RMSE con todas las variables de entrada: 5.447230239494682\n"
          ]
        }
      ]
    },
    {
      "cell_type": "code",
      "source": [
        "U, s, VT = svd(X)\n",
        "X_2 = U[:, :2] @ np.diag(s[:2]) @ VT[:2, :]\n",
        "X_train_2, X_test_2, y_train, y_test = train_test_split(X_2, y, test_size=0.3, random_state=0)\n",
        "reg_2 = LinearRegression().fit(X_train_2, y_train)\n",
        "y_pred_2 = reg_2.predict(X_test_2)\n"
      ],
      "metadata": {
        "id": "DsntgbiYC5RC"
      },
      "execution_count": null,
      "outputs": []
    },
    {
      "cell_type": "code",
      "source": [
        "rmse_2 = np.sqrt(mean_squared_error(y_test, y_pred_2))\n",
        "print('RMSE con 2 variables de entrada:', rmse_2)\n"
      ],
      "metadata": {
        "colab": {
          "base_uri": "https://localhost:8080/"
        },
        "id": "leeEtBbfC7k_",
        "outputId": "5601743f-7c15-4910-9cd5-75f40a93bdef"
      },
      "execution_count": null,
      "outputs": [
        {
          "output_type": "stream",
          "name": "stdout",
          "text": [
            "RMSE con 2 variables de entrada: 5.374443215391654\n"
          ]
        }
      ]
    },
    {
      "cell_type": "code",
      "source": [
        "X_1 = U[:, :1] @ np.diag(s[:1]) @ VT[:1, :]\n",
        "X_train_1, X_test_1, y_train, y_test = train_test_split(X_1, y, test_size=0.3, random_state=0)\n",
        "reg_1 = LinearRegression().fit(X_train_1, y_train)\n",
        "y_pred_1 = reg_1.predict(X_test_1)\n"
      ],
      "metadata": {
        "id": "AbKYwccrC8l7"
      },
      "execution_count": null,
      "outputs": []
    },
    {
      "cell_type": "code",
      "source": [
        "rmse_1 = np.sqrt(mean_squared_error(y_test, y_pred_1))\n",
        "print('RMSE con 1 variable de entrada:', rmse_1)\n"
      ],
      "metadata": {
        "colab": {
          "base_uri": "https://localhost:8080/"
        },
        "id": "5-gjMwuxDCLn",
        "outputId": "25d9e446-6008-42c9-886a-89a3fdcea405"
      },
      "execution_count": null,
      "outputs": [
        {
          "output_type": "stream",
          "name": "stdout",
          "text": [
            "RMSE con 1 variable de entrada: 5.378508787845286\n"
          ]
        }
      ]
    },
    {
      "cell_type": "code",
      "source": [
        "print('RMSE con todas las variables de entrada:', rmse_orig)\n",
        "print('RMSE con 2 variables de entrada:', rmse_2)\n",
        "print('RMSE con 1 variable de entrada:', rmse_1)\n"
      ],
      "metadata": {
        "colab": {
          "base_uri": "https://localhost:8080/"
        },
        "id": "Vq2MOR53DEq6",
        "outputId": "c7c5c72b-4ef8-4088-e724-a80617fb5701"
      },
      "execution_count": null,
      "outputs": [
        {
          "output_type": "stream",
          "name": "stdout",
          "text": [
            "RMSE con todas las variables de entrada: 5.447230239494682\n",
            "RMSE con 2 variables de entrada: 5.374443215391654\n",
            "RMSE con 1 variable de entrada: 5.378508787845286\n"
          ]
        }
      ]
    },
    {
      "cell_type": "markdown",
      "source": [
        "# Conclusiones "
      ],
      "metadata": {
        "id": "yofGnl0IXoFh"
      }
    },
    {
      "cell_type": "markdown",
      "source": [
        "Es posible que con más variables se puedan dispersar más los datos. Esto se debe a que al agregar más variables de entrada al modelo, también aumenta la complejidad del modelo, lo que puede llevar a una mayor variabilidad en los resultados. Además, también puede haber una mayor correlación entre las variables de entrada, lo que puede llevar a la multicolinealidad y, por lo tanto, a una mayor dispersión en los datos.\n",
        "\n",
        "Sin embargo, esto no siempre es el caso y puede depender de la relación entre las variables de entrada y la variable de salida, así como de la calidad de los datos y la elección del modelo. Es importante tener en cuenta que agregar más variables no siempre mejorará la precisión del modelo y puede incluso empeorarla si las variables adicionales no son relevantes para la predicción de la variable de salida.\n",
        "\n",
        "Por lo que **el mejor RMSE fue el de dos variables con 5.374443215391654** debido a que tuvo el menor valor, comparado con los demás, dando mayor  cercanía a la linealidad. Cabe recordar que, entre menor sea el valor, mejor desempeño tendrá el modelo.\n",
        "\n",
        "De esta forma entendemos que la multidimensionalidad que pueda tener una red neuronal artificial no define el desempeño de sus resultados. Es viable e imperante reducir al máximo la cantidad de entradas para ahorrar costo de cómputo, siempre y cuando la calidad del modelo no disminuya.\n",
        "\n",
        "la técnica de SVD es una herramienta muy útil para reducir la cantidad de variables de entrada en un contexto de regresión lineal, ya que permite eliminar variables redundantes y reducir la complejidad del modelo. Esto no solo mejora el rendimiento y la eficiencia del modelo, sino que también puede ayudar a prevenir el sobreajuste. Además, la reducción de dimensiones puede facilitar la visualización y comprensión de los datos y hacer más fácil su interpretación."
      ],
      "metadata": {
        "id": "pzu72DWKX-gn"
      }
    },
    {
      "cell_type": "markdown",
      "source": [
        "# Explicación"
      ],
      "metadata": {
        "id": "IO_gMuv8YJBQ"
      }
    },
    {
      "cell_type": "markdown",
      "source": [
        "\n",
        "\n",
        "```\n",
        "X = df[['age', 'Medu', 'Fedu', 'traveltime', 'studytime']]\n",
        "y = df['G3']\n",
        "```\n",
        "Leer un archivo CSV usando la biblioteca Pandas y asignar las columnas 'age', 'Medu', 'Fedu', 'traveltime' y 'studytime' que son las del dataset a la variable X y la columna 'G3' a la variable y.\n",
        "\n",
        "```\n",
        "X_train, X_test, y_train, y_test = train_test_split(X, y, test_size=0.3, random_state=0)\n",
        "reg = LinearRegression().fit(X_train, y_train)\n",
        "y_pred = reg.predict(X_test)\n",
        "```\n",
        "Construcción de un modelo de regresión lineal utilizando la biblioteca sklearn de Python.\n",
        "\n",
        "train_test_split es una función que se utiliza para dividir los datos en conjuntos de entrenamiento y prueba. En este caso, la función divide los datos X e y en cuatro conjuntos diferentes: X_train (conjunto de entrenamiento para las variables independientes), X_test (conjunto de prueba para las variables independientes), y_train (conjunto de entrenamiento para la variable dependiente) y y_test (conjunto de prueba para la variable dependiente). El parámetro test_size indica el tamaño del conjunto de prueba, que se establece en el 30% de los datos, mientras que random_state establece una semilla para la generación de números aleatorios, lo que asegura que los resultados sean reproducibles.\n",
        "\n",
        "Una vez que se han dividido los datos en conjuntos de entrenamiento y prueba, se ajusta un modelo de regresión lineal utilizando la función LinearRegression(). La función fit() se utiliza para entrenar el modelo con los datos de entrenamiento (X_train e y_train).\n",
        "\n",
        "Finalmente, se utiliza el modelo entrenado para hacer predicciones en el conjunto de prueba X_test utilizando la función predict(), lo que devuelve un arreglo de predicciones y_pred.\n",
        "\n"
      ],
      "metadata": {
        "id": "hS-xEcO8YCda"
      }
    },
    {
      "cell_type": "markdown",
      "source": [
        "\n",
        "\n",
        "```\n",
        "rmse_orig = np.sqrt(mean_squared_error(y_test, y_pred))\n",
        "print('RMSE con todas las variables de entrada:', rmse_orig)\n",
        "```\n",
        "Se calcula la raíz del error cuadrático medio (RMSE, por sus siglas en inglés) entre las respuestas verdaderas y las predicciones del modelo de regresión lineal. El valor de y_test contiene los resultados verdaderos, mientras que y_pred contiene las predicciones del modelo. El resultado se almacena en la variable rmse_orig. El RMSE se utiliza comúnmente para evaluar el rendimiento de un modelo de regresión, y cuanto menor sea su valor, mejor será el rendimiento del modelo. Al imprimir este valor, el código proporciona una medida de qué tan bien el modelo se ajusta a los datos utilizando todas las variables de entrada en X."
      ],
      "metadata": {
        "id": "wmdNOs_Jysjg"
      }
    },
    {
      "cell_type": "markdown",
      "source": [
        "\n",
        "```\n",
        "U, s, VT = svd(X)\n",
        "X_2 = U[:, :2] @ np.diag(s[:2]) @ VT[:2, :]\n",
        "X_train_2, X_test_2, y_train, y_test = train_test_split(X_2, y, test_size=0.3, random_state=0)\n",
        "reg_2 = LinearRegression().fit(X_train_2, y_train)\n",
        "y_pred_2 = reg_2.predict(X_test_2)\n",
        "```\n",
        "Primero, se aplica la descomposición SVD al conjunto de datos X para obtener tres matrices U, s y VT. U y VT son matrices unitarias y s es una matriz diagonal de valores singulares. Luego, se utiliza esta descomposición para reducir la dimensionalidad del conjunto de datos a solo 2 características (columnas) y se almacena en X_2. La matriz X_2 se calcula utilizando las dos primeras columnas de U, los dos primeros valores singulares en s y las dos primeras filas de VT.\n",
        "\n",
        "A continuación, se divide el conjunto de datos reducido X_2 y el vector de salida y en conjuntos de entrenamiento y prueba usando la función train_test_split de Scikit-Learn.\n",
        "\n",
        "Luego, se entrena un modelo de regresión lineal en el conjunto de entrenamiento utilizando la función LinearRegression().fit() de Scikit-Learn y se utilizan las características reducidas en X_train_2 y el vector de salida correspondiente y_train.\n",
        "\n",
        "Finalmente, se utilizan las características reducidas en el conjunto de prueba X_test_2 para hacer predicciones en el conjunto de prueba y se almacenan en y_pred_2.\n",
        "\n",
        "Recapitulando, el código realiza una reducción de dimensionalidad utilizando SVD, luego entrena y evalúa un modelo de regresión lineal en las características reducidas. Esto se hace para explorar si la reducción de dimensionalidad puede mejorar la precisión del modelo al eliminar características redundantes o irrelevantes en los datos."
      ],
      "metadata": {
        "id": "G-XEMu5CzLGv"
      }
    },
    {
      "cell_type": "markdown",
      "source": [
        "\n",
        "\n",
        "```\n",
        "rmse_2 = np.sqrt(mean_squared_error(y_test, y_pred_2))\n",
        "print('RMSE con 2 variables de entrada:', rmse_2)\n",
        "```\n",
        "Se calcula la raíz del error cuadrático medio (RMSE, por sus siglas en inglés) entre las respuestas verdaderas y las predicciones del modelo de regresión lineal pero en dos variables.\n"
      ],
      "metadata": {
        "id": "ur_p_DvG0dBb"
      }
    },
    {
      "cell_type": "markdown",
      "source": [
        "\n",
        "```\n",
        "X_1 = U[:, :1] @ np.diag(s[:1]) @ VT[:1, :]\n",
        "X_train_1, X_test_1, y_train, y_test = train_test_split(X_1, y, test_size=0.3, random_state=0)\n",
        "reg_1 = LinearRegression().fit(X_train_1, y_train)\n",
        "y_pred_1 = reg_1.predict(X_test_1)\n",
        "```\n",
        "descomposición en valores singulares (SVD) para reducir la dimensionalidad del conjunto de datos X de 5 variables a 1 variable. Luego, utiliza la misma función train_test_split para dividir el conjunto de datos en conjuntos de entrenamiento y prueba, esta vez usando la matriz reducida X_1. Finalmente, entrena un nuevo modelo de regresión lineal reg_1 utilizando la matriz reducida de entrenamiento X_train_1 y realiza predicciones en el conjunto de prueba X_test_1. Los valores predichos se almacenan en y_pred_1.\n",
        "\n",
        "```\n",
        "rmse_1 = np.sqrt(mean_squared_error(y_test, y_pred_1))\n",
        "print('RMSE con 1 variable de entrada:', rmse_1)\n",
        "```\n",
        "Se calcula la raíz del error cuadrático medio (RMSE, por sus siglas en inglés) entre las respuestas verdaderas y las predicciones del modelo de regresión lineal  en una variables.\n",
        "\n"
      ],
      "metadata": {
        "id": "591zBchA01X_"
      }
    },
    {
      "cell_type": "markdown",
      "source": [
        "\n",
        "```\n",
        "print('RMSE con todas las variables de entrada:', rmse_orig)\n",
        "print('RMSE con 2 variables de entrada:', rmse_2)\n",
        "print('RMSE con 1 variable de entrada:', rmse_1)\n",
        "```\n",
        "Comparación de RMSE de todas las variables de entrada, con 2 variables de entrada y 1 variable de entrada respectivamente."
      ],
      "metadata": {
        "id": "SD-MVaz31Yv9"
      }
    }
  ]
}
{
  "nbformat": 4,
  "nbformat_minor": 0,
  "metadata": {
    "colab": {
      "provenance": [],
      "collapsed_sections": [
        "pMK6p80uNk8U",
        "b4oBHDLTgThB",
        "4mtYzZ8uQI4N",
        "3_hS8EzAPMzR",
        "L3UvB6Wp7MMO",
        "Te-bdc8d3z-M",
        "kmgG36Sq3INV",
        "RbDA9wlX3tEr",
        "ELwpIDYt7O3G",
        "72r29n0XHbc5"
      ]
    },
    "kernelspec": {
      "name": "python3",
      "display_name": "Python 3"
    },
    "language_info": {
      "name": "python"
    }
  },
  "cells": [
    {
      "cell_type": "markdown",
      "source": [
        "## **Trabajo final de Herramientas matematicas y computacionales para I.A.**\n",
        "\n",
        "### **Team conciencIA**\n",
        "\n",
        "Samir Hassan - 2190041\n",
        "\n",
        "Gabriel Jeannot - 2185887\n",
        "\n",
        "Carlos Osorio - 2230894\n",
        "\n",
        "Luis Pareja - 2185833\n",
        "\n",
        "Diego Perea - 2185751"
      ],
      "metadata": {
        "id": "SwoHov5z4QHQ"
      }
    },
    {
      "cell_type": "markdown",
      "source": [
        "# Punto 1"
      ],
      "metadata": {
        "id": "6ge5huIo1RI9"
      }
    },
    {
      "cell_type": "markdown",
      "source": [
        "1.    Para el primer punto, una vez leido el articulo y buscado en internet. Se ha determinado por escoger un data set de kaggle.com, el cual cumple con un patron lineal de los datos expuestos de manera multivariable. Este data set, esta hecho para predecir las ventas de compañías en función del presupuesto de marketing invertido en redes sociales (YouTube, Facebook y periódico), por lo cuál, a manera de puesta en práctica y demostración, es un grupo de datos muy interesante para probar la regresion lineal multivariable."
      ],
      "metadata": {
        "id": "afI0IcIH4c3b"
      }
    },
    {
      "cell_type": "markdown",
      "source": [
        "Por favor seleccionar de la carpeta que se adjunto en el parcial, el data set llamado 'Marketing_Data.csv' para poder ejercutar el primer punto, debido a que este data set se almaceno localmente."
      ],
      "metadata": {
        "id": "H0eN1nmBZWxw"
      }
    },
    {
      "cell_type": "code",
      "execution_count": null,
      "metadata": {
        "colab": {
          "base_uri": "https://localhost:8080/",
          "height": 145
        },
        "id": "VNUQJDmY33V2",
        "outputId": "35e337d8-eb7b-40ed-b042-f8e5c6af1652"
      },
      "outputs": [
        {
          "output_type": "stream",
          "name": "stdout",
          "text": [
            "Mounted at /content/drive/\n",
            "Por favor seleccionar de la carpeta que se adjunto en el parcial, el data set llamado 'Marketing_Data.csv' para poder ejercutar el primer punto, debido a que este data set se almaceno localmente.\n"
          ]
        },
        {
          "output_type": "display_data",
          "data": {
            "text/plain": [
              "<IPython.core.display.HTML object>"
            ],
            "text/html": [
              "\n",
              "     <input type=\"file\" id=\"files-8fa0e2bc-c923-430b-86dc-7c9f3083e866\" name=\"files[]\" multiple disabled\n",
              "        style=\"border:none\" />\n",
              "     <output id=\"result-8fa0e2bc-c923-430b-86dc-7c9f3083e866\">\n",
              "      Upload widget is only available when the cell has been executed in the\n",
              "      current browser session. Please rerun this cell to enable.\n",
              "      </output>\n",
              "      <script>// Copyright 2017 Google LLC\n",
              "//\n",
              "// Licensed under the Apache License, Version 2.0 (the \"License\");\n",
              "// you may not use this file except in compliance with the License.\n",
              "// You may obtain a copy of the License at\n",
              "//\n",
              "//      http://www.apache.org/licenses/LICENSE-2.0\n",
              "//\n",
              "// Unless required by applicable law or agreed to in writing, software\n",
              "// distributed under the License is distributed on an \"AS IS\" BASIS,\n",
              "// WITHOUT WARRANTIES OR CONDITIONS OF ANY KIND, either express or implied.\n",
              "// See the License for the specific language governing permissions and\n",
              "// limitations under the License.\n",
              "\n",
              "/**\n",
              " * @fileoverview Helpers for google.colab Python module.\n",
              " */\n",
              "(function(scope) {\n",
              "function span(text, styleAttributes = {}) {\n",
              "  const element = document.createElement('span');\n",
              "  element.textContent = text;\n",
              "  for (const key of Object.keys(styleAttributes)) {\n",
              "    element.style[key] = styleAttributes[key];\n",
              "  }\n",
              "  return element;\n",
              "}\n",
              "\n",
              "// Max number of bytes which will be uploaded at a time.\n",
              "const MAX_PAYLOAD_SIZE = 100 * 1024;\n",
              "\n",
              "function _uploadFiles(inputId, outputId) {\n",
              "  const steps = uploadFilesStep(inputId, outputId);\n",
              "  const outputElement = document.getElementById(outputId);\n",
              "  // Cache steps on the outputElement to make it available for the next call\n",
              "  // to uploadFilesContinue from Python.\n",
              "  outputElement.steps = steps;\n",
              "\n",
              "  return _uploadFilesContinue(outputId);\n",
              "}\n",
              "\n",
              "// This is roughly an async generator (not supported in the browser yet),\n",
              "// where there are multiple asynchronous steps and the Python side is going\n",
              "// to poll for completion of each step.\n",
              "// This uses a Promise to block the python side on completion of each step,\n",
              "// then passes the result of the previous step as the input to the next step.\n",
              "function _uploadFilesContinue(outputId) {\n",
              "  const outputElement = document.getElementById(outputId);\n",
              "  const steps = outputElement.steps;\n",
              "\n",
              "  const next = steps.next(outputElement.lastPromiseValue);\n",
              "  return Promise.resolve(next.value.promise).then((value) => {\n",
              "    // Cache the last promise value to make it available to the next\n",
              "    // step of the generator.\n",
              "    outputElement.lastPromiseValue = value;\n",
              "    return next.value.response;\n",
              "  });\n",
              "}\n",
              "\n",
              "/**\n",
              " * Generator function which is called between each async step of the upload\n",
              " * process.\n",
              " * @param {string} inputId Element ID of the input file picker element.\n",
              " * @param {string} outputId Element ID of the output display.\n",
              " * @return {!Iterable<!Object>} Iterable of next steps.\n",
              " */\n",
              "function* uploadFilesStep(inputId, outputId) {\n",
              "  const inputElement = document.getElementById(inputId);\n",
              "  inputElement.disabled = false;\n",
              "\n",
              "  const outputElement = document.getElementById(outputId);\n",
              "  outputElement.innerHTML = '';\n",
              "\n",
              "  const pickedPromise = new Promise((resolve) => {\n",
              "    inputElement.addEventListener('change', (e) => {\n",
              "      resolve(e.target.files);\n",
              "    });\n",
              "  });\n",
              "\n",
              "  const cancel = document.createElement('button');\n",
              "  inputElement.parentElement.appendChild(cancel);\n",
              "  cancel.textContent = 'Cancel upload';\n",
              "  const cancelPromise = new Promise((resolve) => {\n",
              "    cancel.onclick = () => {\n",
              "      resolve(null);\n",
              "    };\n",
              "  });\n",
              "\n",
              "  // Wait for the user to pick the files.\n",
              "  const files = yield {\n",
              "    promise: Promise.race([pickedPromise, cancelPromise]),\n",
              "    response: {\n",
              "      action: 'starting',\n",
              "    }\n",
              "  };\n",
              "\n",
              "  cancel.remove();\n",
              "\n",
              "  // Disable the input element since further picks are not allowed.\n",
              "  inputElement.disabled = true;\n",
              "\n",
              "  if (!files) {\n",
              "    return {\n",
              "      response: {\n",
              "        action: 'complete',\n",
              "      }\n",
              "    };\n",
              "  }\n",
              "\n",
              "  for (const file of files) {\n",
              "    const li = document.createElement('li');\n",
              "    li.append(span(file.name, {fontWeight: 'bold'}));\n",
              "    li.append(span(\n",
              "        `(${file.type || 'n/a'}) - ${file.size} bytes, ` +\n",
              "        `last modified: ${\n",
              "            file.lastModifiedDate ? file.lastModifiedDate.toLocaleDateString() :\n",
              "                                    'n/a'} - `));\n",
              "    const percent = span('0% done');\n",
              "    li.appendChild(percent);\n",
              "\n",
              "    outputElement.appendChild(li);\n",
              "\n",
              "    const fileDataPromise = new Promise((resolve) => {\n",
              "      const reader = new FileReader();\n",
              "      reader.onload = (e) => {\n",
              "        resolve(e.target.result);\n",
              "      };\n",
              "      reader.readAsArrayBuffer(file);\n",
              "    });\n",
              "    // Wait for the data to be ready.\n",
              "    let fileData = yield {\n",
              "      promise: fileDataPromise,\n",
              "      response: {\n",
              "        action: 'continue',\n",
              "      }\n",
              "    };\n",
              "\n",
              "    // Use a chunked sending to avoid message size limits. See b/62115660.\n",
              "    let position = 0;\n",
              "    do {\n",
              "      const length = Math.min(fileData.byteLength - position, MAX_PAYLOAD_SIZE);\n",
              "      const chunk = new Uint8Array(fileData, position, length);\n",
              "      position += length;\n",
              "\n",
              "      const base64 = btoa(String.fromCharCode.apply(null, chunk));\n",
              "      yield {\n",
              "        response: {\n",
              "          action: 'append',\n",
              "          file: file.name,\n",
              "          data: base64,\n",
              "        },\n",
              "      };\n",
              "\n",
              "      let percentDone = fileData.byteLength === 0 ?\n",
              "          100 :\n",
              "          Math.round((position / fileData.byteLength) * 100);\n",
              "      percent.textContent = `${percentDone}% done`;\n",
              "\n",
              "    } while (position < fileData.byteLength);\n",
              "  }\n",
              "\n",
              "  // All done.\n",
              "  yield {\n",
              "    response: {\n",
              "      action: 'complete',\n",
              "    }\n",
              "  };\n",
              "}\n",
              "\n",
              "scope.google = scope.google || {};\n",
              "scope.google.colab = scope.google.colab || {};\n",
              "scope.google.colab._files = {\n",
              "  _uploadFiles,\n",
              "  _uploadFilesContinue,\n",
              "};\n",
              "})(self);\n",
              "</script> "
            ]
          },
          "metadata": {}
        },
        {
          "output_type": "stream",
          "name": "stdout",
          "text": [
            "Saving Marketing_Data.csv to Marketing_Data.csv\n",
            "Archivo Marketing_Data.csv cargado exitosamente\n"
          ]
        }
      ],
      "source": [
        "import numpy as np #Se importa la biblioteca de numpy\n",
        "import matplotlib.pyplot as plt #Se importa la biblioteca de matplotlib\n",
        "import pandas as pd #Se importa la biblioteca de pandas\n",
        "from google.colab import drive #\n",
        "drive.mount('/content/drive/') \n",
        "print(\"Por favor seleccionar de la carpeta que se adjunto en el parcial, el data set llamado 'Marketing_Data.csv' para poder ejercutar el primer punto, debido a que este data set se almaceno localmente.\")\n",
        "from google.colab import files\n",
        "uploaded = files.upload()\n",
        "for filename in uploaded.keys():\n",
        "  print(f\"Archivo {filename} cargado exitosamente\")\n",
        "\n",
        "mu = []\n",
        "std = []"
      ]
    },
    {
      "cell_type": "code",
      "source": [
        "def plot_data(x, y): #Se define una funcion para graficar los datos y evaluar la viabilidad de la RL en este caso.\n",
        "\tplt.xlabel('y') #Se nombra eje x\n",
        "\tplt.ylabel('Sales') #Se nombra el eje Y\n",
        "\tplt.plot(x[:,0], y, 'bo', label='Youtube') #Se realiza la grafica solo en función de los datos de la columna Youtube\n",
        "\tplt.plot(x[:,1], y, 'ro', label='Facebook')\n",
        "\tplt.plot(x[:,2], y, 'go', label='Newspaper')\n",
        "\tplt.show() #Se muestra la gráfica"
      ],
      "metadata": {
        "id": "EA71kasUAq-S"
      },
      "execution_count": null,
      "outputs": []
    },
    {
      "cell_type": "code",
      "source": [
        "def normalize(data): #Se procede a crear la función de normalizacion posteriomente llamada.\n",
        "\tfor i in range(0,data.shape[1]-1): #Se crea un ciclo para recorrer el conjunto de los datos.\n",
        "\t\tdata[:,i] = ((data[:,i] - np.mean(data[:,i]))/np.std(data[:, i])) #Z = (X - μ) / σ, donde μ = media y σ= desviacion estandar.\n",
        "\t\tmu.append(np.mean(data[:,i]))\n",
        "\t\tstd.append(np.std(data[:, i]))"
      ],
      "metadata": {
        "id": "CbJzLSTB5LrK"
      },
      "execution_count": null,
      "outputs": []
    },
    {
      "cell_type": "code",
      "source": [
        "#filename= \"/content/drive/MyDrive/2023_1_HMCIA_conciencIA_TrabajoFinal/Marketing_Data.csv\"\n",
        "def load_data(filename): #Se crea una función para cargar el data-set\n",
        "\tdf = pd.read_csv(filename, sep=\",\", index_col=False) #Se lee el archivo donde se encuentran los datos\n",
        "\tdf.columns = [\"youtube\", \"facebook\", \"newspaper\", \"sales\"] #Se definen las columnas con las variables del data set\n",
        "\tdata = np.array(df, dtype=float) #Se crea un arreglo del conjunto de datos\n",
        "\tplot_data(data[:,:3], data[:, -1]) #Se usa para graficar una RL multivariante y su etiqueta (Y)\n",
        "\tnormalize(data) #Se normalizan sus valores para un correcto entrenamiento del modelo y evitar desequilibrios.\n",
        "  #Comentario: Normalizacion de caracteristicas: Z = (X - μ) / σ, donde μ = media y σ= desviacion estandar.\n",
        "\treturn data[:,:3], data[:, -1] #Devuelve X (varaibles para predecir) y Y (su etiqueta o salida).\n",
        "\n",
        "load_data(filename)"
      ],
      "metadata": {
        "id": "JE9HPRhS4pD1",
        "colab": {
          "base_uri": "https://localhost:8080/",
          "height": 1000
        },
        "outputId": "29b1aa28-2de5-4127-ad29-e4d2d9ddffd7"
      },
      "execution_count": null,
      "outputs": [
        {
          "output_type": "display_data",
          "data": {
            "text/plain": [
              "<Figure size 432x288 with 1 Axes>"
            ],
            "image/png": "[encoded data removed]"
          },
          "metadata": {
            "needs_background": "light"
          }
        },
        {
          "output_type": "execute_result",
          "data": {
            "text/plain": [
              "(array([[-0.9133766 , -0.47430395,  0.55255749],\n",
              "        [ 1.69808742,  0.35207403,  0.66854624],\n",
              "        [-0.41645835, -0.38024467,  0.44623448],\n",
              "        [-0.60089373, -1.44848939,  0.03060814],\n",
              "        [ 1.37738131, -0.20556315, -1.40475257],\n",
              "        [-0.61851494, -1.45520791, -1.0616192 ],\n",
              "        [ 1.67224297, -1.27380786, -1.0084577 ],\n",
              "        [ 1.39265303,  1.39344467, -1.17760795],\n",
              "        [-0.86521195,  1.7696818 ,  0.78936785],\n",
              "        [-1.23643221,  0.24457771,  0.27708422],\n",
              "        [ 0.9356762 ,  0.98361493,  0.12726543],\n",
              "        [ 0.63611555, -0.05103718,  0.10793397],\n",
              "        [ 0.3365549 ,  0.69471856,  0.45106734],\n",
              "        [ 1.70631066,  0.31176291, -1.33225961],\n",
              "        [ 0.68780444, -0.98491149, -0.14337498],\n",
              "        [-1.44788678,  0.17739251,  0.6733791 ],\n",
              "        [ 0.31423469, -0.03760014,  0.10310111],\n",
              "        [-0.6889998 , -0.88413369,  0.30608141],\n",
              "        [ 1.07547117,  1.2389187 , -0.52517126],\n",
              "        [ 0.92627822, -0.48774099,  0.99234815],\n",
              "        [-0.95684226, -0.76320032,  0.35924292],\n",
              "        [ 0.60439736, -1.34099306,  0.2529199 ],\n",
              "        [-0.5633018 , -0.90428925, -1.24526805],\n",
              "        [ 0.79940547,  1.25235574,  0.49456312],\n",
              "        [ 0.40234076,  1.55468915,  1.41764021],\n",
              "        [ 1.34331363,  0.38566663, -0.65082573],\n",
              "        [ 0.59382463,  1.7696818 ,  1.48046745],\n",
              "        [-1.65699186,  0.33863699,  0.58155468],\n",
              "        [-0.14274214, -0.25931131, -0.61699568],\n",
              "        [ 0.7336196 ,  1.78311884,  0.4027387 ],\n",
              "        [ 0.73244485,  0.43269628, -0.96979478],\n",
              "        [-1.11425845, -1.41489678, -0.38501819],\n",
              "        [ 1.32686716,  1.31954095,  1.22432564],\n",
              "        [ 1.06842268, -0.50789656, -0.0998792 ],\n",
              "        [-0.53628261,  0.4394148 , -1.01329056],\n",
              "        [-0.20265427,  1.32625947, -0.02255337],\n",
              "        [-0.93217256, -0.92444481, -1.37575539],\n",
              "        [-1.37270293,  0.10348879, -1.31292815],\n",
              "        [-0.10632497, -0.57508176, -0.926299  ],\n",
              "        [ 1.04610248,  0.29832587, -0.88763609],\n",
              "        [ 0.80410446,  1.40016319, -0.10471206],\n",
              "        [ 0.59617413,  0.5066    ,  0.45106734],\n",
              "        [-0.45287552, -0.5885188 ,  0.11276684],\n",
              "        [-1.42791607,  0.66784448, -0.48650835],\n",
              "        [-0.22262498, -1.16631154,  0.09343538],\n",
              "        [ 0.76416304,  0.10348879, -0.78614594],\n",
              "        [-1.54421609,  1.38672615,  2.90132957],\n",
              "        [-1.41969284, -1.44177087, -0.41884824],\n",
              "        [-0.32717753,  0.36551107, -0.73298443],\n",
              "        [-1.67931207,  0.45957036, -0.96496192],\n",
              "        [-0.38004117, -1.03194113, -0.3028595 ],\n",
              "        [-0.84524124,  0.24457771, -0.34152241],\n",
              "        [ 1.07429642, -1.27380786,  0.36407578],\n",
              "        [-0.85816346, -0.18540758,  0.15142975],\n",
              "        [-0.93922105,  1.44047431,  0.30124855],\n",
              "        [ 0.76533779,  1.33969651,  0.21425699],\n",
              "        [ 0.52686402, -0.31305947,  1.75594072],\n",
              "        [-0.84641599,  0.29832587, -0.64599287],\n",
              "        [-0.44230279,  1.17845202,  1.63511911],\n",
              "        [-0.70544627,  0.16395547,  2.12807127],\n",
              "        [-0.45287552,  1.66218548,  1.06484111],\n",
              "        [-0.16506235, -1.2200597 , -0.96979478],\n",
              "        [-1.40677061, -1.44848939,  0.17559407],\n",
              "        [ 0.81467719,  0.70143708,  1.4321388 ],\n",
              "        [ 1.20469341,  0.90299269,  2.07490976],\n",
              "        [-0.48106947, -0.60867436, -0.89246895],\n",
              "        [ 0.17561447,  0.5737852 ,  1.13733408],\n",
              "        [ 0.57855291, -1.31411898, -1.13411217],\n",
              "        [ 0.42935996, -0.13837794, -0.35602101],\n",
              "        [ 1.6604955 ,  1.29266686,  1.05517538],\n",
              "        [-0.15448962,  1.25235574,  0.79903357],\n",
              "        [ 0.86989033, -1.26037082,  0.98751528],\n",
              "        [ 1.73920359,  0.88955565,  3.45710897],\n",
              "        [ 1.54889447, -0.87069665, -0.38501819],\n",
              "        [ 0.46460239, -0.39368171, -0.55416845],\n",
              "        [ 1.05550046,  0.75518525, -1.16310936],\n",
              "        [-0.12277143,  1.56812619,  1.4321388 ],\n",
              "        [-1.44906153, -0.81022996,  0.01610955],\n",
              "        [-0.68077657, -1.52911163, -0.29802664],\n",
              "        [-1.5888565 , -1.52239311, -0.18203789],\n",
              "        [ 1.25755705,  0.25801475, -1.15344363],\n",
              "        [ 0.90983175, -0.99834853,  1.3113172 ],\n",
              "        [ 1.09661663,  1.00377049, -0.29802664],\n",
              "        [ 0.32128318, -0.51461508, -1.30326242],\n",
              "        [ 0.71952263, -0.16525202, -0.90213468],\n",
              "        [-0.82409578,  1.59500027,  0.24808704],\n",
              "        [-0.86051296,  0.80221489,  1.12766835],\n",
              "        [-0.10749971, -0.5885188 , -0.18203789],\n",
              "        [-0.84524124, -1.49551903, -0.70398724],\n",
              "        [-0.26609065,  0.92986677,  2.40837741],\n",
              "        [-1.5148474 , -0.47430395, -0.34152241],\n",
              "        [-0.08283001,  0.25129623,  0.81353217],\n",
              "        [-1.52189588, -0.0913483 ,  1.01651247],\n",
              "        [ 0.88868629, -1.3880227 , -0.66532433],\n",
              "        [-0.29663409,  0.77534081, -0.81997599],\n",
              "        [ 0.95329741,  0.62081484,  2.16673419],\n",
              "        [-0.71836849, -0.7564818 , -0.1675393 ],\n",
              "        [-1.65111813,  1.06423718,  1.0261782 ],\n",
              "        [-0.80060083, -1.54926719, -0.97462765],\n",
              "        [ 0.84522063,  1.74280772, -1.26459951],\n",
              "        [-1.04259884, -0.74304476,  0.66371337],\n",
              "        [-1.73452521,  1.11126682, -0.99879197],\n",
              "        [ 1.37268232, -1.3544301 ,  0.65888051],\n",
              "        [-1.64406964,  0.27817031, -1.31776102],\n",
              "        [ 0.83934689,  0.70143708,  0.76037066],\n",
              "        [-1.30926656,  1.04408162,  1.75110785],\n",
              "        [-1.17534533,  1.60843731, -1.0084577 ],\n",
              "        [-1.44201304,  1.0709557 , -0.96979478],\n",
              "        [ 1.47253587,  0.39238515,  1.46596886],\n",
              "        [-1.23760695,  0.19082955, -0.42851397],\n",
              "        [ 0.42935996,  1.40016319, -1.33709247],\n",
              "        [-0.88048367, -0.40711875, -0.79581166],\n",
              "        [ 0.53273775,  0.82908897,  2.23439429],\n",
              "        [ 0.84757012,  0.68128152,  0.41240443],\n",
              "        [-0.5139624 , -1.16631154,  0.24325417],\n",
              "        [-0.6126412 , -0.5549262 ,  0.46073307],\n",
              "        [-0.09457749, -1.42161531, -0.98429337],\n",
              "        [ 1.07782066, -1.05881521, -0.99879197],\n",
              "        [ 1.11423784,  1.74280772,  0.72170774],\n",
              "        [-1.29634434,  1.15829646, -0.84414031],\n",
              "        [-1.21763624,  0.18411103, -0.42368111],\n",
              "        [ 1.55476821, -0.61539288,  0.36890865],\n",
              "        [-0.32130379, -0.98491149,  0.93435378],\n",
              "        [ 0.57855291,  0.01614802, -0.73298443],\n",
              "        [ 0.26959428,  1.11798534,  0.4027387 ],\n",
              "        [ 0.46342764, -0.13165942, -0.96012905],\n",
              "        [-1.69458379, -0.76991884, -1.1437779 ],\n",
              "        [-0.6396604 ,  1.37328911,  1.02134533],\n",
              "        [ 0.01702354, -1.46192643, -0.24486513],\n",
              "        [-1.60530297,  0.92986677,  0.76520352],\n",
              "        [-0.19560579, -0.31305947,  0.2529199 ],\n",
              "        [ 0.28369125, -0.33321503,  0.06443819],\n",
              "        [-0.73598971,  0.85596305,  0.96335096],\n",
              "        [ 0.47047613, -0.33321503, -0.18203789],\n",
              "        [ 0.17796396,  0.92314825, -1.0616192 ],\n",
              "        [-0.3659442 , -0.56164472, -1.15827649],\n",
              "        [ 1.01203479, -1.3208375 ,  2.67901781],\n",
              "        [-1.53246861,  0.97689641, -0.37535247],\n",
              "        [ 0.6866297 , -1.19990414, -0.48167548],\n",
              "        [ 0.78765799,  0.03630358,  1.3644787 ],\n",
              "        [ 1.59705912, -0.83710405, -1.10994785],\n",
              "        [-1.15537462, -0.76991884, -0.53000412],\n",
              "        [ 0.18971144, -0.14509646,  0.87152654],\n",
              "        [-1.5124979 , -0.19884462, -0.59766423],\n",
              "        [ 0.2355266 , -1.07225225, -0.80064453],\n",
              "        [ 0.86989033, -1.3208375 , -0.78614594],\n",
              "        [ 1.5101278 ,  1.7360892 ,  0.60088614],\n",
              "        [ 1.17532472,  0.47972592, -0.4381797 ],\n",
              "        [ 0.25667206, -1.02522261,  0.28191709],\n",
              "        [ 1.5077783 , -1.39474122, -0.27386231],\n",
              "        [ 0.20263366, -0.87741517, -0.56866704],\n",
              "        [ 0.09690638, -1.37458566, -1.01812342],\n",
              "        [ 0.82407517, -1.1864671 , -0.09504633],\n",
              "        [-1.08254026, -1.16631154,  0.01610955],\n",
              "        [ 1.6358258 ,  1.33969651,  2.05074544],\n",
              "        [ 1.23876109, -0.11822238,  0.03060814],\n",
              "        [ 0.66548424,  1.48078543, -0.47200975],\n",
              "        [-0.10397547, -1.40817826, -0.13370925],\n",
              "        [ 0.50219432,  0.37894811, -0.53966985],\n",
              "        [ 1.61702983, -0.61539288, -1.24043519],\n",
              "        [-1.52307063, -0.73632624, -0.28836091],\n",
              "        [-1.27872312,  1.21204462, -1.13894503],\n",
              "        [-0.85581397, -0.82366701, -1.12927931],\n",
              "        [-1.54069185, -1.27380786,  0.10793397],\n",
              "        [ 0.21673064,  1.2725113 , -1.24526805],\n",
              "        [ 0.01584879,  0.84252601, -1.12927931],\n",
              "        [-1.29399484, -1.30068194, -0.75231589],\n",
              "        [-0.63613616, -1.2200597 , -1.02778915],\n",
              "        [ 0.3365549 , -0.92444481, -1.10994785],\n",
              "        [ 1.58883589,  1.2725113 ,  1.78010504],\n",
              "        [ 0.98384085, -0.97147445, -0.99879197]]),\n",
              " array([12.6 , 25.68, 14.28, 11.52, 20.88, 11.4 , 15.36, 30.48, 17.64,\n",
              "        12.12, 25.8 , 19.92, 20.52, 24.84, 15.48, 10.2 , 17.88, 12.72,\n",
              "        27.84, 17.76, 11.64, 13.68, 12.84, 27.12, 25.44, 24.24, 28.44,\n",
              "         6.6 , 15.84, 28.56, 22.08,  9.72, 29.04, 18.84, 16.8 , 21.6 ,\n",
              "        11.16, 11.4 , 16.08, 22.68, 26.76, 21.96, 14.88, 10.56, 13.2 ,\n",
              "        20.4 , 10.44,  8.28, 17.04,  6.36, 13.2 , 14.16, 14.76, 13.56,\n",
              "        16.32, 26.04, 18.24, 14.4 , 19.2 , 15.48, 20.04, 13.44,  8.76,\n",
              "        23.28, 26.64, 13.8 , 20.28, 14.04, 18.6 , 30.48, 20.64, 14.04,\n",
              "        28.56, 17.76, 17.64, 24.84, 23.04,  8.64, 10.44,  6.36, 23.76,\n",
              "        16.08, 26.16, 16.92, 19.08, 17.52, 15.12, 14.64, 11.28, 19.08,\n",
              "         7.92, 18.6 ,  8.4 , 13.92, 18.24, 23.64, 12.72,  7.92, 10.56,\n",
              "        29.64, 11.64,  1.92, 15.24,  6.84, 23.52, 12.96, 13.92, 11.4 ,\n",
              "        24.96, 11.52, 24.84, 13.08, 23.04, 24.12, 12.48, 13.68, 12.36,\n",
              "        15.84, 30.48, 13.08, 12.12, 19.32, 13.92, 19.92, 22.8 , 18.72,\n",
              "         3.84, 18.36, 12.12,  8.76, 15.48, 17.28, 15.96, 17.88, 21.6 ,\n",
              "        14.28, 14.28,  9.6 , 14.64, 20.52, 18.  , 10.08, 17.4 ,  9.12,\n",
              "        14.04, 13.8 , 32.4 , 24.24, 14.04, 14.16, 15.12, 12.6 , 14.64,\n",
              "        10.44, 31.44, 21.12, 27.12, 12.36, 20.76, 19.08,  8.04, 12.96,\n",
              "        11.88,  7.08, 23.52, 20.76,  9.12, 11.64, 15.36, 30.6 , 16.08]))"
            ]
          },
          "metadata": {},
          "execution_count": 4
        }
      ]
    },
    {
      "cell_type": "markdown",
      "source": [
        "Comentario: Como se pudo observar en la grafica realizada anteriormente, los datos cumplen con un patron de crecimiento lineal o en pendiente, y aunque muestra una mayor dispersion de estos a medida que aumentan las entradas (X), sigue con la misma tendencia de crecimiento la cual es posible ajustar aproximadamente, trazando una linea."
      ],
      "metadata": {
        "id": "aSeEYuM_Xzfg"
      }
    },
    {
      "cell_type": "markdown",
      "source": [
        "Comentario: Para el desarrollo de la hipotesis, segun el data set de tres caracteristicas, es el siguiente: hθ ( x ) = θ0 + θ1x1 + θ2x2 + 03x3. Esto se pondra, segun el articulo, en una funcion de python que regresa la hipotesis."
      ],
      "metadata": {
        "id": "WzNqLxsqIrjq"
      }
    },
    {
      "cell_type": "code",
      "source": [
        "def h(x,theta): #Funcion de hipotesis de RL.\n",
        "\treturn np.matmul(x, theta) #Funcion de numpy multiplicacion matricial."
      ],
      "metadata": {
        "id": "iyXKxEqcJIaj"
      },
      "execution_count": null,
      "outputs": []
    },
    {
      "cell_type": "markdown",
      "source": [
        "Comnentario: Se realiza la función de costo descrita en el articulo, la cual evaluara la calidad del modelo."
      ],
      "metadata": {
        "id": "iSvbaBreJkU2"
      }
    },
    {
      "cell_type": "code",
      "source": [
        "def cost_function(x, y, theta): #Se define el nombre de la funcion de costo\n",
        "\treturn ((h(x, theta)-y).T@(h(x, theta)-y))/(2*y.shape[0]) #Regresa el costo del modelo de RL."
      ],
      "metadata": {
        "id": "MiLtPTN0JbZu"
      },
      "execution_count": null,
      "outputs": []
    },
    {
      "cell_type": "markdown",
      "source": [
        "Comentario: Se realiza la funcion de gradiente de descenso usada en el articulo solicitado, el cuál tendra como función ajustar los parámetros para minimizar la función de costo"
      ],
      "metadata": {
        "id": "8CLiPEn0LX3L"
      }
    },
    {
      "cell_type": "code",
      "source": [
        "def gradient_descent(x, y, theta, learning_rate=0.1, num_epochs=10): #Se define la funcion de gradiente de descenso\n",
        "\tm = x.shape[0]\n",
        "\tJ_all = []\n",
        "\t\n",
        "\tfor _ in range(num_epochs): #Se realiza un ciclo en funcion del numero de epocas.\n",
        "\t\th_x = h(x, theta)\n",
        "\t\tcost_ = (1/m)*(x.T@(h_x - y)) #Funcion de costo\n",
        "\t\ttheta = theta - (learning_rate)*cost_ #Vector de parametros de 0s para la hipotesis\n",
        "\t\tJ_all.append(cost_function(x, y, theta))\n",
        "\n",
        "\treturn theta, J_all #retorna los valores de theta (vector de parametros) y J_all (lista que contiene función de costo despues de cada epoca)"
      ],
      "metadata": {
        "id": "VSEWc1pzLTT1"
      },
      "execution_count": null,
      "outputs": []
    },
    {
      "cell_type": "code",
      "source": [
        "mu = []\n",
        "std = []\n",
        "\n",
        "def test(theta, x): #Se define la función de test, con el fin de poner a prueba el modelo y predecir algunos valores reales (inventados por nosotros).\n",
        "  x[0] = (x[0] - mu[0])/std[0] #Variable independiente 'youtube'.\n",
        "  x[1] = (x[1] - mu[1])/std[1] #Variable independiente 'facebook'.\n",
        "  x[2] = (x[2] - mu[2])/std[2] #Variable independiente 'periodico'.\n",
        "\t\n",
        "  y= theta[0] + theta[1]*x[0] + theta[2]*x[1] + theta[3]*x[2] #Le da el valor a predecir de la cantidad de ventas en una compañia, a partir de las variables independientes 'x'.\n",
        "  print(\"Company sales: \", y)"
      ],
      "metadata": {
        "id": "5bXQhRZsM2UK"
      },
      "execution_count": null,
      "outputs": []
    },
    {
      "cell_type": "code",
      "source": [
        "def plot_cost(J_all, num_epochs): #Se define una función para plotear la grafica de costo\n",
        "\tplt.xlabel('Epochs') #Se nombra el eje x\n",
        "\tplt.ylabel('Cost') #Se nombra el eje y\n",
        "\tplt.plot(num_epochs, J_all, 'm', linewidth = \"3\") #Se configura la grafica\n",
        "\tplt.show() #Se muestra la grafica"
      ],
      "metadata": {
        "id": "QYCSZxINMxKw"
      },
      "execution_count": null,
      "outputs": []
    },
    {
      "cell_type": "code",
      "source": [
        "#filename= \"/content/drive/MyDrive/2023_1_HMCIA_conciencIA_TrabajoFinal/Marketing_Data.csv\" #Se define la ruta del datas set\n",
        "x,y = load_data(filename) #Se llama la funcion load_data para cargar en x y y los valores del dataset.\n",
        "y = np.reshape(y, (171,1)) #Se aplica un reshape al conjunto de datos.\n",
        "x = np.hstack((np.ones((x.shape[0],1)), x)) #Agrega una columna adicional de unos (1) \n",
        "theta = np.zeros((x.shape[1], 1)) #Inicializa el vector de theta con ceros.\n",
        "learning_rate = 0.1 #Se especifica la tasa de aprendizaje del modelo\n",
        "num_epochs = 50 #Se define el numero de epocas para el entrenamiento\n",
        "theta, J_all = gradient_descent(x, y, theta, learning_rate, num_epochs) #Se llama a la funcion de descenso de gradiente que devuelve un historial de todas las funcionesde costo y el vector final de parametros theta\n",
        "J = cost_function(x, y, theta) #Define el valor de la funcion de costo\n",
        "print(\"Cost: \", J) #Imprime el valor de J\n",
        "print(\"Parameters: \", theta) #Imprime los valores de theta (vector)\n",
        "\n",
        "\n",
        "#Comentario: A modo de evaluar el cambio en la funcion de costo de acuerdo a las epocas de entrenamiento del modelo, se realiza un grafico que plotea la vairable J_all, la cual se define como el historial de de todos esos\n",
        "#resultados de la función de costo. Por tanto, con este grafico, se puede observar como dichos valores en la función de costo disminuyen progresivamente en cada epoca.\n",
        "\n",
        "#for testing and plotting cost \n",
        "n_epochs = [] #Se define un arreglo para el numero de epocas del modelo RL.\n",
        "jplot = [] #Se define un arreglo para los valores de la funcion de costo en cada epoca.\n",
        "count = 0 #Contador del ciclo\n",
        "for i in J_all: #Se define el ciclo for\n",
        "\tjplot.append(i[0][0]) #Se inicia la grafica en Y.\n",
        "\tn_epochs.append(count) #Se inicia la grafica en X\n",
        "\tcount += 1 #Contador +1\n",
        "jplot = np.array(jplot) #Se toma el arreglo de jplot\n",
        "n_epochs = np.array(n_epochs) #Se toma el arreglo de epocas\n",
        "plot_cost(jplot, n_epochs) #Se grafica estos dos arreglos\n",
        "\n",
        "# Comentario: Con esto ya definido, nuestro modelo de RL esta listo para predecir el numero de ventas de una compañia en función de su estrategia de marketing plasmada en la inversión en medios publicitarios.\n",
        "\n",
        "#Comentario: Ahora se procedera a probar el codigo llamando a una función de prueba que tomará como entrada la inversión en medios publicitarios: youtube, facebook y periodico. Y el vector theta devuelto por el modelo\n",
        "#de RL y que nos dara la cantidad de ventas de cada compañia.\n",
        "\n",
        "print(mu)\n",
        "test(theta, [124, 12, 30])"
      ],
      "metadata": {
        "id": "_sALRPs7LiPL",
        "colab": {
          "base_uri": "https://localhost:8080/",
          "height": 662
        },
        "outputId": "1d12a86b-82d3-4a45-b0e9-edbe50831248"
      },
      "execution_count": null,
      "outputs": [
        {
          "output_type": "display_data",
          "data": {
            "text/plain": [
              "<Figure size 432x288 with 1 Axes>"
            ],
            "image/png": "[encoded data removed]"
          },
          "metadata": {
            "needs_background": "light"
          }
        },
        {
          "output_type": "stream",
          "name": "stdout",
          "text": [
            "Cost:  [[1.97822241]]\n",
            "Parameters:  [[16.83559067]\n",
            " [ 4.59463357]\n",
            " [ 3.32418679]\n",
            " [ 0.15657126]]\n"
          ]
        },
        {
          "output_type": "display_data",
          "data": {
            "text/plain": [
              "<Figure size 432x288 with 1 Axes>"
            ],
            "image/png": "[encoded data removed]"
          },
          "metadata": {
            "needs_background": "light"
          }
        },
        {
          "output_type": "stream",
          "name": "stdout",
          "text": [
            "[2.1814908554038162e-16, 2.5970129230997812e-17, -1.0388051692399125e-16]\n",
            "Company sales:  [631.15753301]\n"
          ]
        }
      ]
    },
    {
      "cell_type": "markdown",
      "source": [
        "Comentario: Una vez evaluado el modelo, se tiene que la función de costo que arroja el modelo es de 1.97, por lo cual podriamos decir que el error cuadratico medio de los valores del data set, entre sus reales y estimados, es de + ó - 1.97."
      ],
      "metadata": {
        "id": "YuKSGRjJQJL9"
      }
    },
    {
      "cell_type": "markdown",
      "source": [
        "## Ahora, se procederá a realizar regresion lineal, usando la librería SKLEARN para comparar los dos modelos y poder tener una idea de la precision de sus algoritmos."
      ],
      "metadata": {
        "id": "-oTesRRnV07J"
      }
    },
    {
      "cell_type": "code",
      "source": [
        "#Se importan los paquetes necesaios de la libreria sklearn\n",
        "import seaborn as sns\n",
        "from sklearn.model_selection import train_test_split\n",
        "from sklearn.linear_model import LinearRegression\n",
        "from sklearn.metrics import mean_squared_error, mean_absolute_error\n",
        "from sklearn import preprocessing"
      ],
      "metadata": {
        "id": "3fAqH02_WREk"
      },
      "execution_count": null,
      "outputs": []
    },
    {
      "cell_type": "code",
      "source": [
        "#filename= \"/content/drive/MyDrive/2023_1_HMCIA_conciencIA_TrabajoFinal/Marketing_Data.csv\" #Nuevamente se llama la ruta del archivo csv del data set en una variable llamada filename.\n",
        "df = pd.read_csv(filename) #Se importa y lee el data set con la funcion pf.read\n",
        "#df.drop(columns= 0, inplace = True,axis=1)\n",
        "  \n",
        "print(df.head()) #Se imprimen las 5 primeras filas de datos.\n",
        "print(df.columns) #Se imprimen las columnas de datos."
      ],
      "metadata": {
        "id": "UMB42cq_a7eV",
        "colab": {
          "base_uri": "https://localhost:8080/"
        },
        "outputId": "f5913f8f-6593-4c2e-a91e-75db8bcbbc36"
      },
      "execution_count": null,
      "outputs": [
        {
          "output_type": "stream",
          "name": "stdout",
          "text": [
            "   youtube  facebook  newspaper  sales\n",
            "0    84.72     19.20      48.96  12.60\n",
            "1   351.48     33.96      51.84  25.68\n",
            "2   135.48     20.88      46.32  14.28\n",
            "3   116.64      1.80      36.00  11.52\n",
            "4   318.72     24.00       0.36  20.88\n",
            "Index(['youtube', 'facebook', 'newspaper', 'sales'], dtype='object')\n"
          ]
        }
      ]
    },
    {
      "cell_type": "code",
      "source": [
        "#Se crea una trama dispersa para visualizar la relación entre la variable independiente 'youtube' y 'sales'\n",
        "sns.scatterplot(x='youtube',\n",
        "                y='sales', data=df)"
      ],
      "metadata": {
        "id": "e9n84F53d4uI",
        "colab": {
          "base_uri": "https://localhost:8080/",
          "height": 296
        },
        "outputId": "6916eb6e-e79d-4988-faee-91dab18a8f0b"
      },
      "execution_count": null,
      "outputs": [
        {
          "output_type": "execute_result",
          "data": {
            "text/plain": [
              "<Axes: xlabel='youtube', ylabel='sales'>"
            ]
          },
          "metadata": {},
          "execution_count": 13
        },
        {
          "output_type": "display_data",
          "data": {
            "text/plain": [
              "<Figure size 432x288 with 1 Axes>"
            ],
            "image/png": "[encoded data removed]"
          },
          "metadata": {
            "needs_background": "light"
          }
        }
      ]
    },
    {
      "cell_type": "code",
      "source": [
        "#Se procede a agrupar las caracteristicas en variables, dado que 'x' contiene variables independientes y 'y' una variable dependiente.\n",
        "\n",
        "X = df.drop('sales',axis= 1) #Agrupa las variables independientes\n",
        "y = df['sales'] #Agrupa las variables dependientes\n",
        "print(X) #Se imprime para observar el resultado\n",
        "print(y) #\"\""
      ],
      "metadata": {
        "id": "0eKMLLGmegCh",
        "colab": {
          "base_uri": "https://localhost:8080/"
        },
        "outputId": "d53b3eec-0edc-43f4-f9bf-79cc30c0e59b"
      },
      "execution_count": null,
      "outputs": [
        {
          "output_type": "stream",
          "name": "stdout",
          "text": [
            "     youtube  facebook  newspaper\n",
            "0      84.72     19.20      48.96\n",
            "1     351.48     33.96      51.84\n",
            "2     135.48     20.88      46.32\n",
            "3     116.64      1.80      36.00\n",
            "4     318.72     24.00       0.36\n",
            "..       ...       ...        ...\n",
            "166    45.84      4.44      16.56\n",
            "167   113.04      5.88       9.72\n",
            "168   212.40     11.16       7.68\n",
            "169   340.32     50.40      79.44\n",
            "170   278.52     10.32      10.44\n",
            "\n",
            "[171 rows x 3 columns]\n",
            "0      12.60\n",
            "1      25.68\n",
            "2      14.28\n",
            "3      11.52\n",
            "4      20.88\n",
            "       ...  \n",
            "166     9.12\n",
            "167    11.64\n",
            "168    15.36\n",
            "169    30.60\n",
            "170    16.08\n",
            "Name: sales, Length: 171, dtype: float64\n"
          ]
        }
      ]
    },
    {
      "cell_type": "code",
      "source": [
        "#Se crea un conjunto de datos para entrenamiento y pruebas del modelo, y se ajusta el tamaño de la prueba al 30% de los datos. Por tanto el conjunto de datos de\n",
        "#entrenamiento queda al 70%.\n",
        "X_train, X_test, y_train, y_test = train_test_split(\n",
        "    X, y, test_size=0.3, random_state=101)"
      ],
      "metadata": {
        "id": "sTvdnnoRh4X4"
      },
      "execution_count": null,
      "outputs": []
    },
    {
      "cell_type": "code",
      "source": [
        "#Se procede a crear un modelo de regresion lineal\n",
        "model = LinearRegression() #con este metodo se cre un modelo de RL simple, y este se importa de la clase sklearn.linear_model"
      ],
      "metadata": {
        "id": "-v2_bEjYNTaJ"
      },
      "execution_count": null,
      "outputs": []
    },
    {
      "cell_type": "code",
      "source": [
        "#Se procede a ajustar el modelo con los datos de entrenamiento anteriormente configurados.\n",
        "model.fit(X_train,y_train)"
      ],
      "metadata": {
        "id": "dO0J1cjBNWW-",
        "colab": {
          "base_uri": "https://localhost:8080/",
          "height": 74
        },
        "outputId": "f12810e3-3d3a-48cd-ac38-f74b45896bb9"
      },
      "execution_count": null,
      "outputs": [
        {
          "output_type": "execute_result",
          "data": {
            "text/plain": [
              "LinearRegression()"
            ],
            "text/html": [
              "<style>#sk-container-id-1 {color: black;background-color: white;}#sk-container-id-1 pre{padding: 0;}#sk-container-id-1 div.sk-toggleable {background-color: white;}#sk-container-id-1 label.sk-toggleable__label {cursor: pointer;display: block;width: 100%;margin-bottom: 0;padding: 0.3em;box-sizing: border-box;text-align: center;}#sk-container-id-1 label.sk-toggleable__label-arrow:before {content: \"▸\";float: left;margin-right: 0.25em;color: #696969;}#sk-container-id-1 label.sk-toggleable__label-arrow:hover:before {color: black;}#sk-container-id-1 div.sk-estimator:hover label.sk-toggleable__label-arrow:before {color: black;}#sk-container-id-1 div.sk-toggleable__content {max-height: 0;max-width: 0;overflow: hidden;text-align: left;background-color: #f0f8ff;}#sk-container-id-1 div.sk-toggleable__content pre {margin: 0.2em;color: black;border-radius: 0.25em;background-color: #f0f8ff;}#sk-container-id-1 input.sk-toggleable__control:checked~div.sk-toggleable__content {max-height: 200px;max-width: 100%;overflow: auto;}#sk-container-id-1 input.sk-toggleable__control:checked~label.sk-toggleable__label-arrow:before {content: \"▾\";}#sk-container-id-1 div.sk-estimator input.sk-toggleable__control:checked~label.sk-toggleable__label {background-color: #d4ebff;}#sk-container-id-1 div.sk-label input.sk-toggleable__control:checked~label.sk-toggleable__label {background-color: #d4ebff;}#sk-container-id-1 input.sk-hidden--visually {border: 0;clip: rect(1px 1px 1px 1px);clip: rect(1px, 1px, 1px, 1px);height: 1px;margin: -1px;overflow: hidden;padding: 0;position: absolute;width: 1px;}#sk-container-id-1 div.sk-estimator {font-family: monospace;background-color: #f0f8ff;border: 1px dotted black;border-radius: 0.25em;box-sizing: border-box;margin-bottom: 0.5em;}#sk-container-id-1 div.sk-estimator:hover {background-color: #d4ebff;}#sk-container-id-1 div.sk-parallel-item::after {content: \"\";width: 100%;border-bottom: 1px solid gray;flex-grow: 1;}#sk-container-id-1 div.sk-label:hover label.sk-toggleable__label {background-color: #d4ebff;}#sk-container-id-1 div.sk-serial::before {content: \"\";position: absolute;border-left: 1px solid gray;box-sizing: border-box;top: 0;bottom: 0;left: 50%;z-index: 0;}#sk-container-id-1 div.sk-serial {display: flex;flex-direction: column;align-items: center;background-color: white;padding-right: 0.2em;padding-left: 0.2em;position: relative;}#sk-container-id-1 div.sk-item {position: relative;z-index: 1;}#sk-container-id-1 div.sk-parallel {display: flex;align-items: stretch;justify-content: center;background-color: white;position: relative;}#sk-container-id-1 div.sk-item::before, #sk-container-id-1 div.sk-parallel-item::before {content: \"\";position: absolute;border-left: 1px solid gray;box-sizing: border-box;top: 0;bottom: 0;left: 50%;z-index: -1;}#sk-container-id-1 div.sk-parallel-item {display: flex;flex-direction: column;z-index: 1;position: relative;background-color: white;}#sk-container-id-1 div.sk-parallel-item:first-child::after {align-self: flex-end;width: 50%;}#sk-container-id-1 div.sk-parallel-item:last-child::after {align-self: flex-start;width: 50%;}#sk-container-id-1 div.sk-parallel-item:only-child::after {width: 0;}#sk-container-id-1 div.sk-dashed-wrapped {border: 1px dashed gray;margin: 0 0.4em 0.5em 0.4em;box-sizing: border-box;padding-bottom: 0.4em;background-color: white;}#sk-container-id-1 div.sk-label label {font-family: monospace;font-weight: bold;display: inline-block;line-height: 1.2em;}#sk-container-id-1 div.sk-label-container {text-align: center;}#sk-container-id-1 div.sk-container {/* jupyter's `normalize.less` sets `[hidden] { display: none; }` but bootstrap.min.css set `[hidden] { display: none !important; }` so we also need the `!important` here to be able to override the default hidden behavior on the sphinx rendered scikit-learn.org. See: https://github.com/scikit-learn/scikit-learn/issues/21755 */display: inline-block !important;position: relative;}#sk-container-id-1 div.sk-text-repr-fallback {display: none;}</style><div id=\"sk-container-id-1\" class=\"sk-top-container\"><div class=\"sk-text-repr-fallback\"><pre>LinearRegression()</pre><b>In a Jupyter environment, please rerun this cell to show the HTML representation or trust the notebook. <br />On GitHub, the HTML representation is unable to render, please try loading this page with nbviewer.org.</b></div><div class=\"sk-container\" hidden><div class=\"sk-item\"><div class=\"sk-estimator sk-toggleable\"><input class=\"sk-toggleable__control sk-hidden--visually\" id=\"sk-estimator-id-1\" type=\"checkbox\" checked><label for=\"sk-estimator-id-1\" class=\"sk-toggleable__label sk-toggleable__label-arrow\">LinearRegression</label><div class=\"sk-toggleable__content\"><pre>LinearRegression()</pre></div></div></div></div></div>"
            ]
          },
          "metadata": {},
          "execution_count": 17
        }
      ]
    },
    {
      "cell_type": "code",
      "source": [
        "#Se realizan predicciones sobre el conjunto de datos de prueba\n",
        "predictions = model.predict(X_test)\n",
        "\n",
        "#Se evalua el modelo con metricas de error absoluto medio y error cuadratico medio. Cabe resaltar que entre menor de el numero, mejor sera el rendimiento del modelo.\n",
        "print(\n",
        "  'mean_squared_error : ', mean_squared_error(y_test, predictions))\n",
        "print(\n",
        "  'mean_absolute_error : ', mean_absolute_error(y_test, predictions))\n",
        "\n",
        "#Comentario: Si se desea ignorar los valores anormales del dataset, MAE es una mejor opción, pero si se quiere incluirlos en una función de perdida, RMSE es la mejor opción."
      ],
      "metadata": {
        "id": "rvxOsqcZNYdq",
        "colab": {
          "base_uri": "https://localhost:8080/"
        },
        "outputId": "09a4f872-5ac7-47ca-9f38-1b274a3e3405"
      },
      "execution_count": null,
      "outputs": [
        {
          "output_type": "stream",
          "name": "stdout",
          "text": [
            "mean_squared_error :  4.562499744899795\n",
            "mean_absolute_error :  1.3984379283091775\n"
          ]
        }
      ]
    },
    {
      "cell_type": "markdown",
      "source": [
        "Con el entrenamiento de un modelo bajo el uso de funciones de RL de la libreria SKLEARN, se obtiene que, bajo el entrenamiento de un modelo con un dataset repartido a: 70% de datos de 'train' y 30% de datos de 'test', el valor del error cuadratico medio en este caso es de 4.562, generando menor precisión que el modelo de RL entrenado inicialmente."
      ],
      "metadata": {
        "id": "jsoFkxdyNbAM"
      }
    },
    {
      "cell_type": "markdown",
      "source": [
        "## Comparación entre los dos modelos:\n",
        "\n",
        "En general, un valor de función de costo más bajo indica un mejor ajuste del modelo a los datos de entrenamiento. Sin embargo, la elección del mejor valor dependerá del contexto y de los objetivos del análisis.\n",
        "\n",
        "En este caso, dado que la función de costo es más baja que el error cuadrático medio, podríamos decir que el ajuste del modelo es mejor en términos de la función de costo. Sin embargo, es importante tener en cuenta que la comparación de ambos valores puede ser más relevante dentro de un mismo contexto y con un conjunto de datos específico, por lo que es importante evaluar y comparar los resultados en relación a los objetivos y el contexto del análisis."
      ],
      "metadata": {
        "id": "MVmlA-JZNdCm"
      }
    },
    {
      "cell_type": "markdown",
      "source": [
        "## Creditos y referencias del primer punto:\n",
        "\n",
        "1. https://medium.com/analytics-vidhya/basics-and-beyond-linear-regression-c12d99a4df35\n",
        "2. https://www.geeksforgeeks.org/multiple-linear-regression-with-scikit-learn/\n",
        "3. https://www.geeksforgeeks.org/python-linear-regression-using-sklearn/"
      ],
      "metadata": {
        "id": "E-sOGw_ONhqA"
      }
    },
    {
      "cell_type": "markdown",
      "source": [
        "# Punto 3 - Punto 1 Con Optimizadores"
      ],
      "metadata": {
        "id": "pMK6p80uNk8U"
      }
    },
    {
      "cell_type": "markdown",
      "source": [
        "## Optimizadores"
      ],
      "metadata": {
        "id": "LGFQby9KFjxJ"
      }
    },
    {
      "cell_type": "markdown",
      "source": [
        "La variable X_train  contiene un conjunto de datos de entrenamiento, y se utiliza el método shape para obtener la forma de la matriz. La propiedad shape devuelve una tupla que contiene las dimensiones de la matriz, y se accede al número de columnas de la matriz de entrenamiento utilizando el índice 1 en la tupla.\n",
        "\n",
        "El valor resultante de input_dim_point1 es el número de columnas de la matriz de entrenamiento, lo que se usa como entrada para el modelo de aprendizaje automático.\n",
        "\n",
        "La variable num_clases_point1 se inicializa con un valor de 1, lo que sugiere que este modelo para  estar diseñado para realizar una tarea de regresión."
      ],
      "metadata": {
        "id": "6yM-SFTlTqaa"
      }
    },
    {
      "cell_type": "code",
      "source": [
        "input_dim_point1 = X_train.shape[1]\n",
        "num_clases_point1 = 1\n",
        "print(input_dim_point1)"
      ],
      "metadata": {
        "colab": {
          "base_uri": "https://localhost:8080/"
        },
        "id": "dTzeHcmAFnWO",
        "outputId": "5a214c5e-e295-487f-8530-de013c06096f"
      },
      "execution_count": null,
      "outputs": [
        {
          "output_type": "stream",
          "name": "stdout",
          "text": [
            "3\n"
          ]
        }
      ]
    },
    {
      "cell_type": "markdown",
      "source": [
        "Importar librerias necesarias para creacion del modelo con optimizadores "
      ],
      "metadata": {
        "id": "r9znzeXLTTaG"
      }
    },
    {
      "cell_type": "code",
      "source": [
        "import tensorflow as tf\n",
        "from tensorflow.keras.models import Sequential\n",
        "from tensorflow.keras.layers import Dense\n",
        "from tensorflow.keras.utils import plot_model"
      ],
      "metadata": {
        "id": "lhXCCHD1GYYb"
      },
      "execution_count": null,
      "outputs": []
    },
    {
      "cell_type": "markdown",
      "source": [
        "La función model_Nadam_point1 crea un modelo secuencial y agrega tres capas densas a la red neuronal. La primera capa densa tiene 10 neuronas y utiliza la función de activación 'relu'. La segunda capa densa también tiene 10 neuronas y utiliza la misma función de activación. La última capa densa tiene un número de neuronas igual al número de clases definido en num_clases_point1, que como se mencionó en la pregunta anterior, es 1. Esta capa utiliza una función de activación lineal.\n",
        "\n",
        "El método summary() se utiliza para imprimir un resumen de la arquitectura del modelo.\n",
        "\n",
        "El optimizador utilizado en este modelo es el algoritmo de optimización Nadam, que se inicializa con un learning_rate de 0.001, beta_1 de 0.9, beta_2 de 0.999 y epsilon de 1e-07. Este optimizador es utilizado para minimizar la función de pérdida definida como 'mse', que corresponde a la función de error cuadrático medio.\n",
        "La función de pérdida se utiliza para evaluar el rendimiento del modelo durante el entrenamiento y la fase de prueba. Además, se especifica la métrica de precisión o accuracy para evaluar el rendimiento del modelo durante el entrenamiento y la fase de prueba."
      ],
      "metadata": {
        "id": "cyS48vwXWLWp"
      }
    },
    {
      "cell_type": "code",
      "source": [
        "def model_Nadam_point1():\n",
        "  model = Sequential()\n",
        "  model.add(Dense(10, input_dim = input_dim_point1, activation='relu'))\n",
        "  model.add(Dense(10, activation='relu'))\n",
        "  model.add(Dense(num_clases_point1, activation='linear'))\n",
        "\n",
        "  model.summary()\n",
        "\n",
        "  opt = tf.keras.optimizers.Nadam(\n",
        "    learning_rate=0.001, beta_1=0.9, beta_2=0.999, epsilon=1e-07, name=\"Nadam\"\n",
        ")\n",
        " \n",
        "  model.compile(loss = 'mse', optimizer = opt ,metrics=['accuracy'])\n",
        "\n",
        "  return model"
      ],
      "metadata": {
        "id": "t4FOmXuQGpQy"
      },
      "execution_count": null,
      "outputs": []
    },
    {
      "cell_type": "markdown",
      "source": [
        "La función model_Adam_point1 crea un modelo secuencial y agrega tres capas densas a la red neuronal, con la misma configuración que el modelo anterior. La primera capa densa tiene 10 neuronas y utiliza la función de activación 'relu'. La segunda capa densa también tiene 10 neuronas y utiliza la misma función de activación. La última capa densa tiene un número de neuronas igual al número de clases definido en num_clases_point1.\n",
        "El método summary() se utiliza para imprimir un resumen de la arquitectura del modelo.\n",
        "\n",
        "En este modelo, el optimizador utilizado es el algoritmo de optimización Adam, que se inicializa con un learning_rate de 0.1. El learning rate es un parámetro que controla la velocidad de aprendizaje del modelo y puede ser ajustado para obtener un mejor rendimiento."
      ],
      "metadata": {
        "id": "2hcFcAYmXFW-"
      }
    },
    {
      "cell_type": "code",
      "source": [
        "def model_Adam_point1():\n",
        "  model = Sequential()\n",
        "  model.add(Dense(10, input_dim = input_dim_point1, activation='relu'))\n",
        "  model.add(Dense(10, activation='relu'))\n",
        "  model.add(Dense(num_clases_point1, activation='linear'))\n",
        "\n",
        "  model.summary()\n",
        "\n",
        "  opt = tf.keras.optimizers.Adam(learning_rate=0.1)\n",
        " \n",
        "  model.compile(loss = 'mse', optimizer = opt, metrics=['accuracy'])\n",
        "\n",
        "  return model"
      ],
      "metadata": {
        "id": "boTUZgsAHdTg"
      },
      "execution_count": null,
      "outputs": []
    },
    {
      "cell_type": "markdown",
      "source": [
        "La función model_Adamax_point1 crea un modelo secuencial y agrega dos capas densas a la red neuronal. La primera capa densa tiene 10 neuronas y utiliza la función de activación 'relu'. La última capa densa tiene un número de neuronas igual al número de clases definido en num_clases_point1, que como se mencionó anteriormente, es 1. Esta capa utiliza una función de activación lineal.\n",
        "\n",
        "El método summary() se utiliza para imprimir un resumen de la arquitectura del modelo.\n",
        "\n",
        "En este modelo, el optimizador utilizado es el algoritmo de optimización Adamax, que se inicializa con un learning_rate de 0.001, beta_1 de 0.9, beta_2 de 0.999 y epsilon de 1e-07. Este optimizador es utilizado para minimizar la función de pérdida definida como 'mse', que corresponde a la función de error cuadrático medio"
      ],
      "metadata": {
        "id": "94q49qsYXPrb"
      }
    },
    {
      "cell_type": "code",
      "source": [
        "def model_Adamax_point1():\n",
        "  model = Sequential()\n",
        "  model.add(Dense(10, input_dim = input_dim_point1, activation='relu'))\n",
        "  model.add(Dense(num_clases_point1, activation='linear'))\n",
        "\n",
        "  model.summary()\n",
        "\n",
        "  opt =tf.keras.optimizers.Adamax(\n",
        "    learning_rate=0.001, beta_1=0.9, beta_2=0.999, epsilon=1e-07, name=\"Adamax\"\n",
        ")\n",
        " \n",
        "  model.compile(loss = 'mse', optimizer = opt, metrics=['accuracy'])\n",
        "\n",
        "  return model"
      ],
      "metadata": {
        "id": "I0ii_iAGHfs6"
      },
      "execution_count": null,
      "outputs": []
    },
    {
      "cell_type": "markdown",
      "source": [
        "Crea una instancia del modelo definido por la función model_Adam_point1() y lo asigna a la variable modelA1_Adam_point1."
      ],
      "metadata": {
        "id": "YUGXecjkYpxX"
      }
    },
    {
      "cell_type": "code",
      "source": [
        "modelA1_Adam_point1 = model_Adam_point1()"
      ],
      "metadata": {
        "colab": {
          "base_uri": "https://localhost:8080/"
        },
        "id": "ASxzM-9RHswy",
        "outputId": "8f1600c7-fc44-4a0e-89f1-8d0d16276dc3"
      },
      "execution_count": null,
      "outputs": [
        {
          "output_type": "stream",
          "name": "stdout",
          "text": [
            "Model: \"sequential\"\n",
            "_________________________________________________________________\n",
            " Layer (type)                Output Shape              Param #   \n",
            "=================================================================\n",
            " dense (Dense)               (None, 10)                40        \n",
            "                                                                 \n",
            " dense_1 (Dense)             (None, 10)                110       \n",
            "                                                                 \n",
            " dense_2 (Dense)             (None, 1)                 11        \n",
            "                                                                 \n",
            "=================================================================\n",
            "Total params: 161\n",
            "Trainable params: 161\n",
            "Non-trainable params: 0\n",
            "_________________________________________________________________\n"
          ]
        }
      ]
    },
    {
      "cell_type": "code",
      "source": [
        "modelA2_Nadam_point1 = model_Nadam_point1()"
      ],
      "metadata": {
        "colab": {
          "base_uri": "https://localhost:8080/"
        },
        "id": "sonGO5zcHtWu",
        "outputId": "c0c84268-ff85-466e-e7ba-a8617ea629c8"
      },
      "execution_count": null,
      "outputs": [
        {
          "output_type": "stream",
          "name": "stdout",
          "text": [
            "Model: \"sequential_1\"\n",
            "_________________________________________________________________\n",
            " Layer (type)                Output Shape              Param #   \n",
            "=================================================================\n",
            " dense_3 (Dense)             (None, 10)                40        \n",
            "                                                                 \n",
            " dense_4 (Dense)             (None, 10)                110       \n",
            "                                                                 \n",
            " dense_5 (Dense)             (None, 1)                 11        \n",
            "                                                                 \n",
            "=================================================================\n",
            "Total params: 161\n",
            "Trainable params: 161\n",
            "Non-trainable params: 0\n",
            "_________________________________________________________________\n"
          ]
        }
      ]
    },
    {
      "cell_type": "code",
      "source": [
        "modelA2_Adamax_point1 = model_Adamax_point1()"
      ],
      "metadata": {
        "colab": {
          "base_uri": "https://localhost:8080/"
        },
        "id": "hbVF7hejHwyc",
        "outputId": "1e9ba1b7-1bd2-4e9a-c52c-807107745f6b"
      },
      "execution_count": null,
      "outputs": [
        {
          "output_type": "stream",
          "name": "stdout",
          "text": [
            "Model: \"sequential_2\"\n",
            "_________________________________________________________________\n",
            " Layer (type)                Output Shape              Param #   \n",
            "=================================================================\n",
            " dense_6 (Dense)             (None, 10)                40        \n",
            "                                                                 \n",
            " dense_7 (Dense)             (None, 1)                 11        \n",
            "                                                                 \n",
            "=================================================================\n",
            "Total params: 51\n",
            "Trainable params: 51\n",
            "Non-trainable params: 0\n",
            "_________________________________________________________________\n"
          ]
        }
      ]
    },
    {
      "cell_type": "markdown",
      "source": [
        "Se ajusta el modelo modelA1_Adam_point1 a los datos de entrenamiento X_train e y_train, utilizando el optimizador Adam y la función de pérdida MSE, durante 250 épocas. El tamaño de lote utilizado en cada iteración del entrenamiento es de 100 observaciones.\n",
        "\n",
        "Además, se utiliza el conjunto de datos de validación (X_test, y_test) para evaluar el modelo después de cada época. La evaluación se realiza utilizando la misma función de pérdida y métrica de precisión que se especificó en la compilación del modelo.\n",
        "\n",
        "El resultado de esta operación se almacena en la variable history1_point1, que contiene información sobre la evolución del error de entrenamiento y validación a lo largo de las épocas"
      ],
      "metadata": {
        "id": "JMo4QPimY8hD"
      }
    },
    {
      "cell_type": "code",
      "source": [
        "history1_point1 = modelA1_Adam_point1.fit(X_train,y_train, validation_data=(X_test,y_test), epochs=250, batch_size=100, verbose=0)"
      ],
      "metadata": {
        "id": "BTdvguwkH6Eb"
      },
      "execution_count": null,
      "outputs": []
    },
    {
      "cell_type": "code",
      "source": [
        "history2_point1 = modelA2_Nadam_point1.fit(X_train,y_train, validation_data=(X_test,y_test), epochs=250, batch_size=100, verbose=0)"
      ],
      "metadata": {
        "id": "lcetNkiFH7oo"
      },
      "execution_count": null,
      "outputs": []
    },
    {
      "cell_type": "code",
      "source": [
        "history3_point1 = modelA2_Adamax_point1.fit(X_train,y_train, validation_data=(X_test,y_test), epochs=250, batch_size=100, verbose=0)"
      ],
      "metadata": {
        "id": "UjGvZypJH_cg"
      },
      "execution_count": null,
      "outputs": []
    },
    {
      "cell_type": "markdown",
      "source": [
        "Se importa la función mean_squared_error de la librería sklearn.metrics. Esta función se utiliza para calcular el error cuadrático medio (MSE) entre dos conjuntos de datos.\n",
        "\n",
        "A continuación, se utilizan los modelos modelA1_Adam_point1, modelA2_Nadam_point1 y modelA2_Adamax_point1 previamente definidos para hacer predicciones sobre el conjunto de datos de prueba X_test. Las predicciones se almacenan en las variables y_pred_point1_Adam, y_pred_point1_Nadam y y_pred_point1_Adamax, respectivamente.\n",
        "\n",
        "Finalmente, se calcula el MSE entre las etiquetas verdaderas y_test y las predicciones realizadas por cada modelo. Estos resultados se almacenan en las variables mse_adam_point1, mse_Nadam_point1 y mse_adamax_point1, y se imprimen en la pantalla "
      ],
      "metadata": {
        "id": "WFpxb0DZZ4xK"
      }
    },
    {
      "cell_type": "code",
      "source": [
        "from sklearn.metrics import mean_squared_error\n",
        "\n",
        "# Predecir con el modelo\n",
        "y_pred_point1_Adam = modelA1_Adam_point1.predict(X_test)\n",
        "y_pred_point1_Nadam = modelA2_Nadam_point1.predict(X_test)\n",
        "y_pred_point1_Adamax = modelA2_Adamax_point1.predict(X_test)\n",
        "# Calcular el MSE\n",
        "mse_adam_point1 = mean_squared_error(y_test, y_pred_point1_Adam)\n",
        "mse_Nadam_point1 = mean_squared_error(y_test, y_pred_point1_Nadam)\n",
        "mse_adamax_point1 = mean_squared_error(y_test, y_pred_point1_Adamax)\n",
        "\n",
        "print('Mean Squared Error Adam punto 1  :', mse_adam_point1)\n",
        "print('Mean Squared Error Nadam punto 1  :', mse_Nadam_point1)\n",
        "print('Mean Squared Error Adamax punto 1  :', mse_adamax_point1)"
      ],
      "metadata": {
        "colab": {
          "base_uri": "https://localhost:8080/"
        },
        "id": "--XrYsUFKneU",
        "outputId": "7786fd2f-8bf3-4fcb-c430-a5e0557e7eb1"
      },
      "execution_count": null,
      "outputs": [
        {
          "output_type": "stream",
          "name": "stdout",
          "text": [
            "2/2 [==============================] - 0s 4ms/step\n",
            "2/2 [==============================] - 0s 5ms/step\n",
            "2/2 [==============================] - 0s 4ms/step\n",
            "Mean Squared Error Adam punto 1  : 2.0335482176514437\n",
            "Mean Squared Error Nadam punto 1  : 4.523670575284513\n",
            "Mean Squared Error Adamax punto 1  : 16.834591251156823\n"
          ]
        }
      ]
    },
    {
      "cell_type": "markdown",
      "source": [
        "## Modelo de regresion"
      ],
      "metadata": {
        "id": "sk_w11-uOF1p"
      }
    },
    {
      "cell_type": "code",
      "source": [
        "#Se procede a crear un modelo de regresion lineal\n",
        "model = LinearRegression() #con este metodo se cre un modelo de RL simple, y este se importa de la clase sklearn.linear_model"
      ],
      "metadata": {
        "id": "tslEdLBwjUo4"
      },
      "execution_count": null,
      "outputs": []
    },
    {
      "cell_type": "code",
      "source": [
        "#Se procede a ajustar el modelo con los datos de entrenamiento anteriormente configurados.\n",
        "model.fit(X_train,y_train)"
      ],
      "metadata": {
        "colab": {
          "base_uri": "https://localhost:8080/",
          "height": 75
        },
        "id": "4Z59d7wDj8Tl",
        "outputId": "fb350625-6f0e-4376-f42d-cab99f1b7917"
      },
      "execution_count": null,
      "outputs": [
        {
          "output_type": "execute_result",
          "data": {
            "text/plain": [
              "LinearRegression()"
            ],
            "text/html": [
              "<style>#sk-container-id-1 {color: black;background-color: white;}#sk-container-id-1 pre{padding: 0;}#sk-container-id-1 div.sk-toggleable {background-color: white;}#sk-container-id-1 label.sk-toggleable__label {cursor: pointer;display: block;width: 100%;margin-bottom: 0;padding: 0.3em;box-sizing: border-box;text-align: center;}#sk-container-id-1 label.sk-toggleable__label-arrow:before {content: \"▸\";float: left;margin-right: 0.25em;color: #696969;}#sk-container-id-1 label.sk-toggleable__label-arrow:hover:before {color: black;}#sk-container-id-1 div.sk-estimator:hover label.sk-toggleable__label-arrow:before {color: black;}#sk-container-id-1 div.sk-toggleable__content {max-height: 0;max-width: 0;overflow: hidden;text-align: left;background-color: #f0f8ff;}#sk-container-id-1 div.sk-toggleable__content pre {margin: 0.2em;color: black;border-radius: 0.25em;background-color: #f0f8ff;}#sk-container-id-1 input.sk-toggleable__control:checked~div.sk-toggleable__content {max-height: 200px;max-width: 100%;overflow: auto;}#sk-container-id-1 input.sk-toggleable__control:checked~label.sk-toggleable__label-arrow:before {content: \"▾\";}#sk-container-id-1 div.sk-estimator input.sk-toggleable__control:checked~label.sk-toggleable__label {background-color: #d4ebff;}#sk-container-id-1 div.sk-label input.sk-toggleable__control:checked~label.sk-toggleable__label {background-color: #d4ebff;}#sk-container-id-1 input.sk-hidden--visually {border: 0;clip: rect(1px 1px 1px 1px);clip: rect(1px, 1px, 1px, 1px);height: 1px;margin: -1px;overflow: hidden;padding: 0;position: absolute;width: 1px;}#sk-container-id-1 div.sk-estimator {font-family: monospace;background-color: #f0f8ff;border: 1px dotted black;border-radius: 0.25em;box-sizing: border-box;margin-bottom: 0.5em;}#sk-container-id-1 div.sk-estimator:hover {background-color: #d4ebff;}#sk-container-id-1 div.sk-parallel-item::after {content: \"\";width: 100%;border-bottom: 1px solid gray;flex-grow: 1;}#sk-container-id-1 div.sk-label:hover label.sk-toggleable__label {background-color: #d4ebff;}#sk-container-id-1 div.sk-serial::before {content: \"\";position: absolute;border-left: 1px solid gray;box-sizing: border-box;top: 0;bottom: 0;left: 50%;z-index: 0;}#sk-container-id-1 div.sk-serial {display: flex;flex-direction: column;align-items: center;background-color: white;padding-right: 0.2em;padding-left: 0.2em;position: relative;}#sk-container-id-1 div.sk-item {position: relative;z-index: 1;}#sk-container-id-1 div.sk-parallel {display: flex;align-items: stretch;justify-content: center;background-color: white;position: relative;}#sk-container-id-1 div.sk-item::before, #sk-container-id-1 div.sk-parallel-item::before {content: \"\";position: absolute;border-left: 1px solid gray;box-sizing: border-box;top: 0;bottom: 0;left: 50%;z-index: -1;}#sk-container-id-1 div.sk-parallel-item {display: flex;flex-direction: column;z-index: 1;position: relative;background-color: white;}#sk-container-id-1 div.sk-parallel-item:first-child::after {align-self: flex-end;width: 50%;}#sk-container-id-1 div.sk-parallel-item:last-child::after {align-self: flex-start;width: 50%;}#sk-container-id-1 div.sk-parallel-item:only-child::after {width: 0;}#sk-container-id-1 div.sk-dashed-wrapped {border: 1px dashed gray;margin: 0 0.4em 0.5em 0.4em;box-sizing: border-box;padding-bottom: 0.4em;background-color: white;}#sk-container-id-1 div.sk-label label {font-family: monospace;font-weight: bold;display: inline-block;line-height: 1.2em;}#sk-container-id-1 div.sk-label-container {text-align: center;}#sk-container-id-1 div.sk-container {/* jupyter's `normalize.less` sets `[hidden] { display: none; }` but bootstrap.min.css set `[hidden] { display: none !important; }` so we also need the `!important` here to be able to override the default hidden behavior on the sphinx rendered scikit-learn.org. See: https://github.com/scikit-learn/scikit-learn/issues/21755 */display: inline-block !important;position: relative;}#sk-container-id-1 div.sk-text-repr-fallback {display: none;}</style><div id=\"sk-container-id-1\" class=\"sk-top-container\"><div class=\"sk-text-repr-fallback\"><pre>LinearRegression()</pre><b>In a Jupyter environment, please rerun this cell to show the HTML representation or trust the notebook. <br />On GitHub, the HTML representation is unable to render, please try loading this page with nbviewer.org.</b></div><div class=\"sk-container\" hidden><div class=\"sk-item\"><div class=\"sk-estimator sk-toggleable\"><input class=\"sk-toggleable__control sk-hidden--visually\" id=\"sk-estimator-id-1\" type=\"checkbox\" checked><label for=\"sk-estimator-id-1\" class=\"sk-toggleable__label sk-toggleable__label-arrow\">LinearRegression</label><div class=\"sk-toggleable__content\"><pre>LinearRegression()</pre></div></div></div></div></div>"
            ]
          },
          "metadata": {},
          "execution_count": 29
        }
      ]
    },
    {
      "cell_type": "code",
      "source": [
        "#Se realizan predicciones sobre el conjunto de datos de prueba\n",
        "predictions = model.predict(X_test)\n",
        "\n",
        "#Se evalua el modelo con metricas de error absoluto medio y error cuadratico medio. Cabe resaltar que entre menor de el numero, mejor sera el rendimiento del modelo.\n",
        "print(\n",
        "  'mean_squared_error : ', mean_squared_error(y_test, predictions))\n",
        "print(\n",
        "  'mean_absolute_error : ', mean_absolute_error(y_test, predictions))\n",
        "\n",
        "#Comentario: Si se desea ignorar los valores anormales del dataset, MAE es una mejor opción, pero si se quiere incluirlos en una función de perdida, RMSE es la mejor opción."
      ],
      "metadata": {
        "colab": {
          "base_uri": "https://localhost:8080/"
        },
        "id": "ffTae75ikNYr",
        "outputId": "b766fe31-9093-4d1c-e66d-1b1a35a0437b"
      },
      "execution_count": null,
      "outputs": [
        {
          "output_type": "stream",
          "name": "stdout",
          "text": [
            "mean_squared_error :  4.562499744899795\n",
            "mean_absolute_error :  1.3984379283091775\n"
          ]
        }
      ]
    },
    {
      "cell_type": "markdown",
      "source": [
        "Con el entrenamiento de un modelo bajo el uso de funciones de RL de la libreria SKLEARN, se obtiene que, bajo el entrenamiento de un modelo con un dataset repartido a: 70% de datos de 'train' y 30% de datos de 'test', el valor del error cuadratico medio en este caso es de 4.562, generando menor precisión que el modelo de RL entrenado inicialmente."
      ],
      "metadata": {
        "id": "r2v1q-tuU4zt"
      }
    },
    {
      "cell_type": "markdown",
      "source": [
        "## Comparación entre los dos modelos:\n",
        "En general, un valor de función de costo más bajo indica un mejor ajuste del modelo a los datos de entrenamiento. Sin embargo, la elección del mejor valor dependerá del contexto y de los objetivos del análisis.\n",
        "\n",
        "En este caso, dado que la función de costo es más baja que el error cuadrático medio, podríamos decir que el ajuste del modelo es mejor en términos de la función de costo. Sin embargo, es importante tener en cuenta que la comparación de ambos valores puede ser más relevante dentro de un mismo contexto y con un conjunto de datos específico, por lo que es importante evaluar y comparar los resultados en relación a los objetivos y el contexto del análisis."
      ],
      "metadata": {
        "id": "qty7WIbZP_ZZ"
      }
    },
    {
      "cell_type": "markdown",
      "source": [
        "## Creditos y referencias del primer punto:\n",
        "\n",
        "1. https://medium.com/analytics-vidhya/basics-and-beyond-linear-regression-c12d99a4df35\n",
        "2. https://www.geeksforgeeks.org/multiple-linear-regression-with-scikit-learn/\n",
        "3. https://www.geeksforgeeks.org/python-linear-regression-using-sklearn/"
      ],
      "metadata": {
        "id": "fzJ5ObQwmnMq"
      }
    },
    {
      "cell_type": "markdown",
      "source": [
        "# Punto 2"
      ],
      "metadata": {
        "id": "b4oBHDLTgThB"
      }
    },
    {
      "cell_type": "markdown",
      "source": [
        "## Dataset Utilizado"
      ],
      "metadata": {
        "id": "LximOyUEgaXn"
      }
    },
    {
      "cell_type": "markdown",
      "source": [
        "Se decidió crear un modelo y entrenarlo con el dataset de cáncer cervical ([dataset](https://archive.ics.uci.edu/ml/datasets/Cervical+Cancer+Behavior+Risk)), con el modelo se podrá predecir si una mujer padece o no cáncer de cuello uterino basandose en ciertas caracteristicas (hábitos alimenticios, higiene, motivaciones, etc).\n",
        "\n",
        "Poder predecir o diagnosticar enfermedades tan peligrosas como lo pueden ser el cáncer es una ayuda muy valiosa para los pacientes que las padecen ya que pueden empezar el tratamiento correspondiente lo mas pronto posible y de esta manera salvar muchas vidas.\n",
        "\n",
        "La salida de este modelo es un valor booleano que indica si una paciente tiene o no cáncer de cuello uterino, esto hace que cuente como un problema de clasificación binaria, este tipo de problemas se trabajan idealmente implementando un modelo con regresion logistica lineal que permite evaluar la probabilidad que tiene cada mujer de tener o no cancer de cuello uterino, según las caracteristicas antes mencionadas de las mujeres encuestadas.\n",
        "\n",
        "Este dataset cuenta con 18 atributos más una salida (clase):\n",
        "\n",
        "1. behavior_eating\n",
        "2. behavior_personalHygine\n",
        "3. intention_aggregation\n",
        "4. intention_commitment\n",
        "5. attitude_consistency\n",
        "6. attitude_spontaneity\n",
        "7. norm_significantPerson\n",
        "8. norm_fulfillment\n",
        "9. perception_vulnerability\n",
        "10. perception_severity\n",
        "11. motivation_strength\n",
        "12. motivation_willingness\n",
        "13. socialSupport_emotionality\n",
        "14. socialSupport_appreciation\n",
        "15. socialSupport_instrumental\n",
        "16. empowerment_knowledge\n",
        "17. empowerment_abilities\n",
        "18. empowerment_desires\n",
        "19. ca_cervix (this is class attribute, 1=has cervical cancer, 0=no cervical cancer)"
      ],
      "metadata": {
        "id": "kJda4oLXgcvs"
      }
    },
    {
      "cell_type": "code",
      "execution_count": null,
      "metadata": {
        "colab": {
          "base_uri": "https://localhost:8080/"
        },
        "id": "lnc8_4j8fXDb",
        "outputId": "3fa2bc7d-77ea-4d8f-e7b0-eb9ca89f8c15"
      },
      "outputs": [
        {
          "output_type": "stream",
          "name": "stdout",
          "text": [
            "       behavior_sexualRisk  behavior_eating  behavior_personalHygine  \\\n",
            "count            72.000000        72.000000                72.000000   \n",
            "mean              9.666667        12.791667                11.083333   \n",
            "std               1.186782         2.361293                 3.033847   \n",
            "min               2.000000         3.000000                 3.000000   \n",
            "25%              10.000000        11.000000                 9.000000   \n",
            "50%              10.000000        13.000000                11.000000   \n",
            "75%              10.000000        15.000000                14.000000   \n",
            "max              10.000000        15.000000                15.000000   \n",
            "\n",
            "       intention_aggregation  intention_commitment  attitude_consistency  \\\n",
            "count              72.000000             72.000000             72.000000   \n",
            "mean                7.902778             13.347222              7.180556   \n",
            "std                 2.738148              2.374511              1.522844   \n",
            "min                 2.000000              6.000000              2.000000   \n",
            "25%                 6.000000             11.000000              6.000000   \n",
            "50%                10.000000             15.000000              7.000000   \n",
            "75%                10.000000             15.000000              8.000000   \n",
            "max                10.000000             15.000000             10.000000   \n",
            "\n",
            "       attitude_spontaneity  norm_significantPerson  norm_fulfillment  \\\n",
            "count             72.000000               72.000000         72.000000   \n",
            "mean               8.611111                3.125000          8.486111   \n",
            "std                1.515698                1.845722          4.907577   \n",
            "min                4.000000                1.000000          3.000000   \n",
            "25%                8.000000                1.000000          3.000000   \n",
            "50%                9.000000                3.000000          7.000000   \n",
            "75%               10.000000                5.000000         14.000000   \n",
            "max               10.000000                5.000000         15.000000   \n",
            "\n",
            "       perception_vulnerability  perception_severity  motivation_strength  \\\n",
            "count                 72.000000            72.000000            72.000000   \n",
            "mean                   8.513889             5.388889            12.652778   \n",
            "std                    4.275686             3.400727             3.207209   \n",
            "min                    3.000000             2.000000             3.000000   \n",
            "25%                    5.000000             2.000000            11.000000   \n",
            "50%                    8.000000             4.000000            14.000000   \n",
            "75%                   13.000000             9.000000            15.000000   \n",
            "max                   15.000000            10.000000            15.000000   \n",
            "\n",
            "       motivation_willingness  socialSupport_emotionality  \\\n",
            "count               72.000000                   72.000000   \n",
            "mean                 9.694444                    8.097222   \n",
            "std                  4.130406                    4.243171   \n",
            "min                  3.000000                    3.000000   \n",
            "25%                  7.000000                    3.000000   \n",
            "50%                 11.000000                    9.000000   \n",
            "75%                 13.000000                   11.250000   \n",
            "max                 15.000000                   15.000000   \n",
            "\n",
            "       socialSupport_appreciation  socialSupport_instrumental  \\\n",
            "count                   72.000000                   72.000000   \n",
            "mean                     6.166667                   10.375000   \n",
            "std                      2.897303                    4.316485   \n",
            "min                      2.000000                    3.000000   \n",
            "25%                      3.750000                    6.750000   \n",
            "50%                      6.500000                   12.000000   \n",
            "75%                      9.000000                   14.250000   \n",
            "max                     10.000000                   15.000000   \n",
            "\n",
            "       empowerment_knowledge  empowerment_abilities  empowerment_desires  \\\n",
            "count              72.000000              72.000000            72.000000   \n",
            "mean               10.541667               9.319444            10.277778   \n",
            "std                 4.366768               4.181874             4.482273   \n",
            "min                 3.000000               3.000000             3.000000   \n",
            "25%                 7.000000               5.000000             6.750000   \n",
            "50%                12.000000              10.000000            11.000000   \n",
            "75%                15.000000              13.000000            15.000000   \n",
            "max                15.000000              15.000000            15.000000   \n",
            "\n",
            "       ca_cervix  \n",
            "count  72.000000  \n",
            "mean    0.291667  \n",
            "std     0.457719  \n",
            "min     0.000000  \n",
            "25%     0.000000  \n",
            "50%     0.000000  \n",
            "75%     1.000000  \n",
            "max     1.000000  \n"
          ]
        }
      ],
      "source": [
        "import pandas as pd\n",
        "from pandas import read_csv\n",
        "# load the dataset\n",
        "url='https://archive.ics.uci.edu/ml/machine-learning-databases/00537/sobar-72.csv'\n",
        "\n",
        "df = read_csv(url, sep=\",\", engine='python', na_values=\"?\")\n",
        "\n",
        "# summarize the dataset\n",
        "print(df.describe())"
      ]
    },
    {
      "cell_type": "markdown",
      "source": [
        "Visualizamos el dataset"
      ],
      "metadata": {
        "id": "juoFNhvCjFXa"
      }
    },
    {
      "cell_type": "code",
      "source": [
        "df.head()"
      ],
      "metadata": {
        "colab": {
          "base_uri": "https://localhost:8080/"
        },
        "id": "NKPdd4fZi883",
        "outputId": "11d0f48b-e3a0-4060-f178-b4d2be56a6f1"
      },
      "execution_count": null,
      "outputs": [
        {
          "output_type": "execute_result",
          "data": {
            "text/plain": [
              "   behavior_sexualRisk  behavior_eating  behavior_personalHygine  \\\n",
              "0                   10               13                       12   \n",
              "1                   10               11                       11   \n",
              "2                   10               15                        3   \n",
              "3                   10               11                       10   \n",
              "4                    8               11                        7   \n",
              "\n",
              "   intention_aggregation  intention_commitment  attitude_consistency  \\\n",
              "0                      4                     7                     9   \n",
              "1                     10                    14                     7   \n",
              "2                      2                    14                     8   \n",
              "3                     10                    15                     7   \n",
              "4                      8                    10                     7   \n",
              "\n",
              "   attitude_spontaneity  norm_significantPerson  norm_fulfillment  \\\n",
              "0                    10                       1                 8   \n",
              "1                     7                       5                 5   \n",
              "2                    10                       1                 4   \n",
              "3                     7                       1                 5   \n",
              "4                     8                       1                 5   \n",
              "\n",
              "   perception_vulnerability  perception_severity  motivation_strength  \\\n",
              "0                         7                    3                   14   \n",
              "1                         4                    2                   15   \n",
              "2                         7                    2                    7   \n",
              "3                         4                    2                   15   \n",
              "4                         3                    2                   15   \n",
              "\n",
              "   motivation_willingness  socialSupport_emotionality  \\\n",
              "0                       8                           5   \n",
              "1                      13                           7   \n",
              "2                       3                           3   \n",
              "3                      13                           7   \n",
              "4                       5                           3   \n",
              "\n",
              "   socialSupport_appreciation  socialSupport_instrumental  \\\n",
              "0                           7                          12   \n",
              "1                           6                           5   \n",
              "2                           6                          11   \n",
              "3                           4                           4   \n",
              "4                           6                          12   \n",
              "\n",
              "   empowerment_knowledge  empowerment_abilities  empowerment_desires  \\\n",
              "0                     12                     11                    8   \n",
              "1                      5                      4                    4   \n",
              "2                      3                      3                   15   \n",
              "3                      4                      4                    4   \n",
              "4                      5                      4                    7   \n",
              "\n",
              "   ca_cervix  \n",
              "0          1  \n",
              "1          1  \n",
              "2          1  \n",
              "3          1  \n",
              "4          1  "
            ],
            "text/html": [
              "\n",
              "  <div id=\"df-ac044f71-1558-4618-8b21-72ff5934a873\">\n",
              "    <div class=\"colab-df-container\">\n",
              "      <div>\n",
              "<style scoped>\n",
              "    .dataframe tbody tr th:only-of-type {\n",
              "        vertical-align: middle;\n",
              "    }\n",
              "\n",
              "    .dataframe tbody tr th {\n",
              "        vertical-align: top;\n",
              "    }\n",
              "\n",
              "    .dataframe thead th {\n",
              "        text-align: right;\n",
              "    }\n",
              "</style>\n",
              "<table border=\"1\" class=\"dataframe\">\n",
              "  <thead>\n",
              "    <tr style=\"text-align: right;\">\n",
              "      <th></th>\n",
              "      <th>behavior_sexualRisk</th>\n",
              "      <th>behavior_eating</th>\n",
              "      <th>behavior_personalHygine</th>\n",
              "      <th>intention_aggregation</th>\n",
              "      <th>intention_commitment</th>\n",
              "      <th>attitude_consistency</th>\n",
              "      <th>attitude_spontaneity</th>\n",
              "      <th>norm_significantPerson</th>\n",
              "      <th>norm_fulfillment</th>\n",
              "      <th>perception_vulnerability</th>\n",
              "      <th>perception_severity</th>\n",
              "      <th>motivation_strength</th>\n",
              "      <th>motivation_willingness</th>\n",
              "      <th>socialSupport_emotionality</th>\n",
              "      <th>socialSupport_appreciation</th>\n",
              "      <th>socialSupport_instrumental</th>\n",
              "      <th>empowerment_knowledge</th>\n",
              "      <th>empowerment_abilities</th>\n",
              "      <th>empowerment_desires</th>\n",
              "      <th>ca_cervix</th>\n",
              "    </tr>\n",
              "  </thead>\n",
              "  <tbody>\n",
              "    <tr>\n",
              "      <th>0</th>\n",
              "      <td>10</td>\n",
              "      <td>13</td>\n",
              "      <td>12</td>\n",
              "      <td>4</td>\n",
              "      <td>7</td>\n",
              "      <td>9</td>\n",
              "      <td>10</td>\n",
              "      <td>1</td>\n",
              "      <td>8</td>\n",
              "      <td>7</td>\n",
              "      <td>3</td>\n",
              "      <td>14</td>\n",
              "      <td>8</td>\n",
              "      <td>5</td>\n",
              "      <td>7</td>\n",
              "      <td>12</td>\n",
              "      <td>12</td>\n",
              "      <td>11</td>\n",
              "      <td>8</td>\n",
              "      <td>1</td>\n",
              "    </tr>\n",
              "    <tr>\n",
              "      <th>1</th>\n",
              "      <td>10</td>\n",
              "      <td>11</td>\n",
              "      <td>11</td>\n",
              "      <td>10</td>\n",
              "      <td>14</td>\n",
              "      <td>7</td>\n",
              "      <td>7</td>\n",
              "      <td>5</td>\n",
              "      <td>5</td>\n",
              "      <td>4</td>\n",
              "      <td>2</td>\n",
              "      <td>15</td>\n",
              "      <td>13</td>\n",
              "      <td>7</td>\n",
              "      <td>6</td>\n",
              "      <td>5</td>\n",
              "      <td>5</td>\n",
              "      <td>4</td>\n",
              "      <td>4</td>\n",
              "      <td>1</td>\n",
              "    </tr>\n",
              "    <tr>\n",
              "      <th>2</th>\n",
              "      <td>10</td>\n",
              "      <td>15</td>\n",
              "      <td>3</td>\n",
              "      <td>2</td>\n",
              "      <td>14</td>\n",
              "      <td>8</td>\n",
              "      <td>10</td>\n",
              "      <td>1</td>\n",
              "      <td>4</td>\n",
              "      <td>7</td>\n",
              "      <td>2</td>\n",
              "      <td>7</td>\n",
              "      <td>3</td>\n",
              "      <td>3</td>\n",
              "      <td>6</td>\n",
              "      <td>11</td>\n",
              "      <td>3</td>\n",
              "      <td>3</td>\n",
              "      <td>15</td>\n",
              "      <td>1</td>\n",
              "    </tr>\n",
              "    <tr>\n",
              "      <th>3</th>\n",
              "      <td>10</td>\n",
              "      <td>11</td>\n",
              "      <td>10</td>\n",
              "      <td>10</td>\n",
              "      <td>15</td>\n",
              "      <td>7</td>\n",
              "      <td>7</td>\n",
              "      <td>1</td>\n",
              "      <td>5</td>\n",
              "      <td>4</td>\n",
              "      <td>2</td>\n",
              "      <td>15</td>\n",
              "      <td>13</td>\n",
              "      <td>7</td>\n",
              "      <td>4</td>\n",
              "      <td>4</td>\n",
              "      <td>4</td>\n",
              "      <td>4</td>\n",
              "      <td>4</td>\n",
              "      <td>1</td>\n",
              "    </tr>\n",
              "    <tr>\n",
              "      <th>4</th>\n",
              "      <td>8</td>\n",
              "      <td>11</td>\n",
              "      <td>7</td>\n",
              "      <td>8</td>\n",
              "      <td>10</td>\n",
              "      <td>7</td>\n",
              "      <td>8</td>\n",
              "      <td>1</td>\n",
              "      <td>5</td>\n",
              "      <td>3</td>\n",
              "      <td>2</td>\n",
              "      <td>15</td>\n",
              "      <td>5</td>\n",
              "      <td>3</td>\n",
              "      <td>6</td>\n",
              "      <td>12</td>\n",
              "      <td>5</td>\n",
              "      <td>4</td>\n",
              "      <td>7</td>\n",
              "      <td>1</td>\n",
              "    </tr>\n",
              "  </tbody>\n",
              "</table>\n",
              "</div>\n",
              "      <button class=\"colab-df-convert\" onclick=\"convertToInteractive('df-ac044f71-1558-4618-8b21-72ff5934a873')\"\n",
              "              title=\"Convert this dataframe to an interactive table.\"\n",
              "              style=\"display:none;\">\n",
              "        \n",
              "  <svg xmlns=\"http://www.w3.org/2000/svg\" height=\"24px\"viewBox=\"0 0 24 24\"\n",
              "       width=\"24px\">\n",
              "    <path d=\"M0 0h24v24H0V0z\" fill=\"none\"/>\n",
              "    <path d=\"M18.56 5.44l.94 2.06.94-2.06 2.06-.94-2.06-.94-.94-2.06-.94 2.06-2.06.94zm-11 1L8.5 8.5l.94-2.06 2.06-.94-2.06-.94L8.5 2.5l-.94 2.06-2.06.94zm10 10l.94 2.06.94-2.06 2.06-.94-2.06-.94-.94-2.06-.94 2.06-2.06.94z\"/><path d=\"M17.41 7.96l-1.37-1.37c-.4-.4-.92-.59-1.43-.59-.52 0-1.04.2-1.43.59L10.3 9.45l-7.72 7.72c-.78.78-.78 2.05 0 2.83L4 21.41c.39.39.9.59 1.41.59.51 0 1.02-.2 1.41-.59l7.78-7.78 2.81-2.81c.8-.78.8-2.07 0-2.86zM5.41 20L4 18.59l7.72-7.72 1.47 1.35L5.41 20z\"/>\n",
              "  </svg>\n",
              "      </button>\n",
              "      \n",
              "  <style>\n",
              "    .colab-df-container {\n",
              "      display:flex;\n",
              "      flex-wrap:wrap;\n",
              "      gap: 12px;\n",
              "    }\n",
              "\n",
              "    .colab-df-convert {\n",
              "      background-color: #E8F0FE;\n",
              "      border: none;\n",
              "      border-radius: 50%;\n",
              "      cursor: pointer;\n",
              "      display: none;\n",
              "      fill: #1967D2;\n",
              "      height: 32px;\n",
              "      padding: 0 0 0 0;\n",
              "      width: 32px;\n",
              "    }\n",
              "\n",
              "    .colab-df-convert:hover {\n",
              "      background-color: #E2EBFA;\n",
              "      box-shadow: 0px 1px 2px rgba(60, 64, 67, 0.3), 0px 1px 3px 1px rgba(60, 64, 67, 0.15);\n",
              "      fill: #174EA6;\n",
              "    }\n",
              "\n",
              "    [theme=dark] .colab-df-convert {\n",
              "      background-color: #3B4455;\n",
              "      fill: #D2E3FC;\n",
              "    }\n",
              "\n",
              "    [theme=dark] .colab-df-convert:hover {\n",
              "      background-color: #434B5C;\n",
              "      box-shadow: 0px 1px 3px 1px rgba(0, 0, 0, 0.15);\n",
              "      filter: drop-shadow(0px 1px 2px rgba(0, 0, 0, 0.3));\n",
              "      fill: #FFFFFF;\n",
              "    }\n",
              "  </style>\n",
              "\n",
              "      <script>\n",
              "        const buttonEl =\n",
              "          document.querySelector('#df-ac044f71-1558-4618-8b21-72ff5934a873 button.colab-df-convert');\n",
              "        buttonEl.style.display =\n",
              "          google.colab.kernel.accessAllowed ? 'block' : 'none';\n",
              "\n",
              "        async function convertToInteractive(key) {\n",
              "          const element = document.querySelector('#df-ac044f71-1558-4618-8b21-72ff5934a873');\n",
              "          const dataTable =\n",
              "            await google.colab.kernel.invokeFunction('convertToInteractive',\n",
              "                                                     [key], {});\n",
              "          if (!dataTable) return;\n",
              "\n",
              "          const docLinkHtml = 'Like what you see? Visit the ' +\n",
              "            '<a target=\"_blank\" href=https://colab.research.google.com/notebooks/data_table.ipynb>data table notebook</a>'\n",
              "            + ' to learn more about interactive tables.';\n",
              "          element.innerHTML = '';\n",
              "          dataTable['output_type'] = 'display_data';\n",
              "          await google.colab.output.renderOutput(dataTable, element);\n",
              "          const docLink = document.createElement('div');\n",
              "          docLink.innerHTML = docLinkHtml;\n",
              "          element.appendChild(docLink);\n",
              "        }\n",
              "      </script>\n",
              "    </div>\n",
              "  </div>\n",
              "  "
            ]
          },
          "metadata": {},
          "execution_count": 2
        }
      ]
    },
    {
      "cell_type": "markdown",
      "source": [
        "Revisamos los dataypes de cada columna"
      ],
      "metadata": {
        "id": "yE93tXE7jY61"
      }
    },
    {
      "cell_type": "code",
      "source": [
        "print(df.dtypes)"
      ],
      "metadata": {
        "colab": {
          "base_uri": "https://localhost:8080/"
        },
        "id": "ZzqozwrfjeSy",
        "outputId": "d4a61dfa-231b-422e-b766-3678935e2911"
      },
      "execution_count": null,
      "outputs": [
        {
          "output_type": "stream",
          "name": "stdout",
          "text": [
            "behavior_sexualRisk           int64\n",
            "behavior_eating               int64\n",
            "behavior_personalHygine       int64\n",
            "intention_aggregation         int64\n",
            "intention_commitment          int64\n",
            "attitude_consistency          int64\n",
            "attitude_spontaneity          int64\n",
            "norm_significantPerson        int64\n",
            "norm_fulfillment              int64\n",
            "perception_vulnerability      int64\n",
            "perception_severity           int64\n",
            "motivation_strength           int64\n",
            "motivation_willingness        int64\n",
            "socialSupport_emotionality    int64\n",
            "socialSupport_appreciation    int64\n",
            "socialSupport_instrumental    int64\n",
            "empowerment_knowledge         int64\n",
            "empowerment_abilities         int64\n",
            "empowerment_desires           int64\n",
            "ca_cervix                     int64\n",
            "dtype: object\n"
          ]
        }
      ]
    },
    {
      "cell_type": "markdown",
      "source": [
        "Buscamos datos nulos en el dataset"
      ],
      "metadata": {
        "id": "KndfAAukjghw"
      }
    },
    {
      "cell_type": "code",
      "source": [
        "df.isnull().sum()"
      ],
      "metadata": {
        "colab": {
          "base_uri": "https://localhost:8080/"
        },
        "id": "s11A1YrTjjP-",
        "outputId": "8d823133-2ca8-4500-d9e4-3bbf73bd5933"
      },
      "execution_count": null,
      "outputs": [
        {
          "output_type": "execute_result",
          "data": {
            "text/plain": [
              "behavior_sexualRisk           0\n",
              "behavior_eating               0\n",
              "behavior_personalHygine       0\n",
              "intention_aggregation         0\n",
              "intention_commitment          0\n",
              "attitude_consistency          0\n",
              "attitude_spontaneity          0\n",
              "norm_significantPerson        0\n",
              "norm_fulfillment              0\n",
              "perception_vulnerability      0\n",
              "perception_severity           0\n",
              "motivation_strength           0\n",
              "motivation_willingness        0\n",
              "socialSupport_emotionality    0\n",
              "socialSupport_appreciation    0\n",
              "socialSupport_instrumental    0\n",
              "empowerment_knowledge         0\n",
              "empowerment_abilities         0\n",
              "empowerment_desires           0\n",
              "ca_cervix                     0\n",
              "dtype: int64"
            ]
          },
          "metadata": {},
          "execution_count": 4
        }
      ]
    },
    {
      "cell_type": "markdown",
      "source": [
        "Ahora separamos el dataset en entradas (x)y salida (y), luego se divide en sus respectivas variables de entrenamiento y test. Como es habitual eñ 80% del dataset va a pertenecer al entrenamiento y el resto (20%) al test."
      ],
      "metadata": {
        "id": "XhU8UDvzkGcX"
      }
    },
    {
      "cell_type": "code",
      "source": [
        "from sklearn.model_selection import train_test_split\n",
        "\n",
        "y = df['ca_cervix']\n",
        "x = df.drop(['ca_cervix'], axis = 1)\n",
        "\n",
        "x_train, x_test, y_train, y_test = train_test_split(\n",
        "    x, y, test_size=0.2, random_state=42)"
      ],
      "metadata": {
        "id": "4l_utO3xkfwV"
      },
      "execution_count": null,
      "outputs": []
    },
    {
      "cell_type": "markdown",
      "source": [
        "## Código"
      ],
      "metadata": {
        "id": "QkL0NgWVkks8"
      }
    },
    {
      "cell_type": "markdown",
      "source": [
        "En la implementación del código se inicia con la creación de la clase CustomLogisticRegression, donde se definen los métodos a usar. En primer lugar se entrena con el uso de la gradiente descendiente, tomando en cuenta la perdida de cada epoca y la taza de aprendizaje, actualizando en cada entrenamiento los pesos y el bias del modelo y aproximando una predicción menor o igual a 0,5 a 0 y a 1 en caso contrario, y guardando los datos de las precisiones de entrenamiento y testeo.\n",
        "Para el cálculo de las gradientes, se deriva la pérdida, siendo esta el real valor del error.\n",
        "Para la actualización de los pesos, se tiene en cuanta el error y el learning rate, restandole al valor actual del parametro, el producto del error por el learning rate.\n",
        "Para las predicciones, se utiliza el método predict, el cual se encarga de multiplicar las entradas por sus pesos y sumarle el bias, e ingresar el resultado en la ecuación sigmoide.\n",
        "Por último, se definen la ecuación sigmoide, y dos métodos para transformar los valores de 'x' y 'y' según se necesitan en el resto de métodos."
      ],
      "metadata": {
        "id": "y9TXTtvQknDo"
      }
    },
    {
      "cell_type": "code",
      "source": [
        "import copy\n",
        "import numpy as np\n",
        "from sklearn.metrics import accuracy_score\n",
        "\n",
        "class CustomLogisticRegression():\n",
        "    def __init__(self):\n",
        "        self.losses = []\n",
        "        self.train_accuracies = []\n",
        "        self.test_accuracies = []\n",
        "\n",
        "    def fitGradDesc(self, x, y, x_t, y_t, epochs):\n",
        "        x = self._transform_x(x)\n",
        "        y = self._transform_y(y)\n",
        "        \n",
        "        x_t = self._transform_x(x_t)\n",
        "        y_t = self._transform_y(y_t)\n",
        "\n",
        "        self.weights = np.zeros(x.shape[1])\n",
        "        self.bias = 0\n",
        "\n",
        "        for i in range(epochs):\n",
        "            x_dot_weights = np.matmul(self.weights, x.transpose()) + self.bias\n",
        "            x_dot_weights_t = np.matmul(self.weights, x_t.transpose()) + self.bias\n",
        "\n",
        "            pred = self._sigmoid(x_dot_weights)\n",
        "            pred_t = self._sigmoid(x_dot_weights_t)\n",
        "\n",
        "            loss = self.compute_loss(y, pred)\n",
        "            error_w, error_b = self.compute_gradients(x, y, pred)\n",
        "            self.update_model_parameters(error_w, error_b)\n",
        "\n",
        "            pred_to_class = [1 if p > 0.5 else 0 for p in pred]\n",
        "            pred_to_class_t = [1 if p > 0.5 else 0 for p in pred_t]\n",
        "\n",
        "            self.train_accuracies.append(accuracy_score(y, pred_to_class))\n",
        "            self.test_accuracies.append(accuracy_score(y_t, pred_to_class_t))\n",
        "\n",
        "            self.losses.append(loss)\n",
        "\n",
        "\n",
        "    def compute_loss(self, y_true, y_pred):\n",
        "        # binary cross entropy\n",
        "        y_zero_loss = y_true * np.log(y_pred + 1e-9)\n",
        "        y_one_loss = (1-y_true) * np.log(1 - y_pred + 1e-9)\n",
        "        return -np.mean(y_zero_loss + y_one_loss)\n",
        "\n",
        "    def compute_gradients(self, x, y_true, y_pred):\n",
        "        # derivative of binary cross entropy\n",
        "        difference =  y_pred - y_true\n",
        "        gradient_b = np.mean(difference)\n",
        "        gradients_w = np.matmul(x.transpose(), difference)\n",
        "        gradients_w = np.array([np.mean(grad) for grad in gradients_w])\n",
        "\n",
        "        return gradients_w, gradient_b\n",
        "\n",
        "    def update_model_parameters(self, error_w, error_b):\n",
        "        self.weights = self.weights - 0.1 * error_w\n",
        "        self.bias = self.bias - 0.1 * error_b\n",
        "\n",
        "    def predict(self, x):\n",
        "        x_dot_weights = np.matmul(x, self.weights.transpose()) + self.bias\n",
        "        probabilities = self._sigmoid(x_dot_weights)\n",
        "        return [1 if p > 0.5 else 0 for p in probabilities]\n",
        "\n",
        "    def _sigmoid(self, x):\n",
        "        return np.array([self._sigmoid_function(value) for value in x])\n",
        "\n",
        "    def _sigmoid_function(self, x):\n",
        "        if x >= 0:\n",
        "            z = np.exp(-x)\n",
        "            return 1 / (1 + z)\n",
        "        else:\n",
        "            z = np.exp(x)\n",
        "            return z / (1 + z)\n",
        "\n",
        "    def _transform_x(self, x):\n",
        "        x = copy.deepcopy(x)\n",
        "        return x.values\n",
        "\n",
        "    def _transform_y(self, y):\n",
        "        y = copy.deepcopy(y)\n",
        "        return y.values.reshape(y.shape[0], 1)\n"
      ],
      "metadata": {
        "id": "eRPi6lzrlp07"
      },
      "execution_count": null,
      "outputs": []
    },
    {
      "cell_type": "markdown",
      "source": [
        "Entrenamos el modelo con 120 epocas.\n"
      ],
      "metadata": {
        "id": "si_woO8nluv7"
      }
    },
    {
      "cell_type": "code",
      "source": [
        "epochs_est = 120\n",
        "\n",
        "model = CustomLogisticRegression()\n",
        "\n",
        "model.fitGradDesc(x_train, y_train, x_test, y_test, epochs = epochs_est)"
      ],
      "metadata": {
        "id": "oVPNyYdimLj9"
      },
      "execution_count": null,
      "outputs": []
    },
    {
      "cell_type": "markdown",
      "source": [
        "Usamos las metricas que nos ofrece la libreria de scikit learn para medir la precision del modelo."
      ],
      "metadata": {
        "id": "BAd3ZxoQmTtX"
      }
    },
    {
      "cell_type": "code",
      "source": [
        "from sklearn.metrics import accuracy_score\n",
        "\n",
        "pred = model.predict(x_test)\n",
        "accuracy = accuracy_score(y_test, pred)\n",
        "print(accuracy)"
      ],
      "metadata": {
        "colab": {
          "base_uri": "https://localhost:8080/"
        },
        "id": "aEBhh_iimYWW",
        "outputId": "cea66acc-dc22-43b2-c7e2-2ea616ad77a6"
      },
      "execution_count": null,
      "outputs": [
        {
          "output_type": "stream",
          "name": "stdout",
          "text": [
            "0.8666666666666667\n"
          ]
        }
      ]
    },
    {
      "cell_type": "markdown",
      "source": [
        "Con estos datos de precision ahora podemos plotear las gráficas de Accuracy_train vs Accuracy_test"
      ],
      "metadata": {
        "id": "aKJV7i3ymcNO"
      }
    },
    {
      "cell_type": "code",
      "source": [
        "import matplotlib.pyplot as plt\n",
        "\n",
        "plt.plot(model.train_accuracies, label = 'Accuracy_Train')\n",
        "plt.plot(model.test_accuracies, label = 'Accuracy_Test')\n",
        "plt.title('Precisión de Modelo con Gradiente Descendente')\n",
        "plt.grid()\n",
        "plt.legend()\n",
        "plt.show()"
      ],
      "metadata": {
        "colab": {
          "base_uri": "https://localhost:8080/"
        },
        "id": "eYOr1vLzmjuC",
        "outputId": "9b4d18c2-48e7-4444-d066-85616e74068a"
      },
      "execution_count": null,
      "outputs": [
        {
          "output_type": "display_data",
          "data": {
            "text/plain": [
              "<Figure size 432x288 with 1 Axes>"
            ],
            "image/png": "[encoded data removed]"
          },
          "metadata": {
            "needs_background": "light"
          }
        }
      ]
    },
    {
      "cell_type": "markdown",
      "source": [
        "# Punto 3 - Punto 2 con Optimizadores"
      ],
      "metadata": {
        "id": "4mtYzZ8uQI4N"
      }
    },
    {
      "cell_type": "code",
      "source": [
        "input_dim = x_train.shape[1]\n",
        "num_clases = 1\n",
        "print(input_dim)"
      ],
      "metadata": {
        "id": "73vPGbfpOUCY",
        "colab": {
          "base_uri": "https://localhost:8080/"
        },
        "outputId": "ef125778-20c8-40c2-96c3-2142550bb76c"
      },
      "execution_count": null,
      "outputs": [
        {
          "output_type": "stream",
          "name": "stdout",
          "text": [
            "19\n"
          ]
        }
      ]
    },
    {
      "cell_type": "code",
      "source": [
        "import tensorflow as tf\n",
        "from tensorflow.keras.models import Sequential\n",
        "from tensorflow.keras.layers import Dense\n",
        "from tensorflow.keras.utils import plot_model"
      ],
      "metadata": {
        "id": "RsA90gI8srok"
      },
      "execution_count": null,
      "outputs": []
    },
    {
      "cell_type": "code",
      "source": [
        "def model_Nadam():\n",
        "  model = Sequential()\n",
        "  model.add(Dense(10, input_dim = input_dim, activation='relu'))\n",
        "  model.add(Dense(10, activation='relu'))\n",
        "  model.add(Dense(num_clases, activation='linear'))\n",
        "\n",
        "  model.summary()\n",
        "\n",
        "  opt = tf.keras.optimizers.Nadam(\n",
        "    learning_rate=0.001, beta_1=0.9, beta_2=0.999, epsilon=1e-07, name=\"Nadam\"\n",
        ")\n",
        " \n",
        "  model.compile(loss = 'mse', optimizer = opt ,metrics=['accuracy'])\n",
        "\n",
        "  return model"
      ],
      "metadata": {
        "id": "QdAwVuOz1ejb"
      },
      "execution_count": null,
      "outputs": []
    },
    {
      "cell_type": "code",
      "source": [
        "def model_Adam():\n",
        "  model = Sequential()\n",
        "  model.add(Dense(10, input_dim = input_dim, activation='relu'))\n",
        "  model.add(Dense(10, activation='relu'))\n",
        "  model.add(Dense(num_clases, activation='linear'))\n",
        "\n",
        "  model.summary()\n",
        "\n",
        "  opt = tf.keras.optimizers.Adam(learning_rate=0.1)\n",
        " \n",
        "  model.compile(loss = 'mse', optimizer = opt, metrics=['accuracy'])\n",
        "\n",
        "  return model"
      ],
      "metadata": {
        "id": "5MlmKslyNR1e"
      },
      "execution_count": null,
      "outputs": []
    },
    {
      "cell_type": "code",
      "source": [
        "def model_Adamax():\n",
        "  model = Sequential()\n",
        "  model.add(Dense(10, input_dim = input_dim, activation='relu'))\n",
        "  model.add(Dense(num_clases, activation='linear'))\n",
        "\n",
        "  model.summary()\n",
        "\n",
        "  opt =tf.keras.optimizers.Adamax(\n",
        "    learning_rate=0.001, beta_1=0.9, beta_2=0.999, epsilon=1e-07, name=\"Adamax\"\n",
        ")\n",
        " \n",
        "  model.compile(loss = 'mse', optimizer = opt, metrics=['accuracy'])\n",
        "\n",
        "  return model"
      ],
      "metadata": {
        "id": "lat7nbJf6NQe"
      },
      "execution_count": null,
      "outputs": []
    },
    {
      "cell_type": "code",
      "source": [
        "modelA1_Adam = model_Adam()\n"
      ],
      "metadata": {
        "id": "FEPRTksFOb6i",
        "colab": {
          "base_uri": "https://localhost:8080/"
        },
        "outputId": "a6981453-f747-450d-e9c4-ebdeccc617c5"
      },
      "execution_count": null,
      "outputs": [
        {
          "output_type": "stream",
          "name": "stdout",
          "text": [
            "Model: \"sequential\"\n",
            "_________________________________________________________________\n",
            " Layer (type)                Output Shape              Param #   \n",
            "=================================================================\n",
            " dense (Dense)               (None, 10)                200       \n",
            "                                                                 \n",
            " dense_1 (Dense)             (None, 10)                110       \n",
            "                                                                 \n",
            " dense_2 (Dense)             (None, 1)                 11        \n",
            "                                                                 \n",
            "=================================================================\n",
            "Total params: 321\n",
            "Trainable params: 321\n",
            "Non-trainable params: 0\n",
            "_________________________________________________________________\n"
          ]
        }
      ]
    },
    {
      "cell_type": "code",
      "source": [
        "modelA2_Nadam = model_Nadam()"
      ],
      "metadata": {
        "id": "j64SWOEM1o77",
        "colab": {
          "base_uri": "https://localhost:8080/"
        },
        "outputId": "ee1b68e7-0f82-4405-ec2c-5f21aedcbac4"
      },
      "execution_count": null,
      "outputs": [
        {
          "output_type": "stream",
          "name": "stdout",
          "text": [
            "Model: \"sequential_1\"\n",
            "_________________________________________________________________\n",
            " Layer (type)                Output Shape              Param #   \n",
            "=================================================================\n",
            " dense_3 (Dense)             (None, 10)                200       \n",
            "                                                                 \n",
            " dense_4 (Dense)             (None, 10)                110       \n",
            "                                                                 \n",
            " dense_5 (Dense)             (None, 1)                 11        \n",
            "                                                                 \n",
            "=================================================================\n",
            "Total params: 321\n",
            "Trainable params: 321\n",
            "Non-trainable params: 0\n",
            "_________________________________________________________________\n"
          ]
        }
      ]
    },
    {
      "cell_type": "code",
      "source": [
        "modelA2_Adamax = model_Adamax()"
      ],
      "metadata": {
        "id": "qfmUALlP6T74",
        "colab": {
          "base_uri": "https://localhost:8080/"
        },
        "outputId": "39a743bc-cd9b-40a3-f4e0-ae2a2e89b373"
      },
      "execution_count": null,
      "outputs": [
        {
          "output_type": "stream",
          "name": "stdout",
          "text": [
            "Model: \"sequential_2\"\n",
            "_________________________________________________________________\n",
            " Layer (type)                Output Shape              Param #   \n",
            "=================================================================\n",
            " dense_6 (Dense)             (None, 10)                200       \n",
            "                                                                 \n",
            " dense_7 (Dense)             (None, 1)                 11        \n",
            "                                                                 \n",
            "=================================================================\n",
            "Total params: 211\n",
            "Trainable params: 211\n",
            "Non-trainable params: 0\n",
            "_________________________________________________________________\n"
          ]
        }
      ]
    },
    {
      "cell_type": "code",
      "source": [
        "history1 = modelA1_Adam.fit(x_train,y_train, validation_data=(x_test,y_test), epochs=250, batch_size=100, verbose=0)"
      ],
      "metadata": {
        "id": "lFgSA4WiOmZ0"
      },
      "execution_count": null,
      "outputs": []
    },
    {
      "cell_type": "code",
      "source": [
        "history2 = modelA2_Nadam.fit(x_train,y_train, validation_data=(x_test,y_test), epochs=250, batch_size=100, verbose=0)"
      ],
      "metadata": {
        "id": "K7Z_Id6-11_C"
      },
      "execution_count": null,
      "outputs": []
    },
    {
      "cell_type": "code",
      "source": [
        "history3 = modelA2_Adamax.fit(x_train,y_train, validation_data=(x_test,y_test), epochs=250, batch_size=100, verbose=0)"
      ],
      "metadata": {
        "id": "oYderNYw6bVD"
      },
      "execution_count": null,
      "outputs": []
    },
    {
      "cell_type": "markdown",
      "source": [
        "Usamos las metricas que nos ofrece la libreria de scikit learn para medir la precision del modelo."
      ],
      "metadata": {
        "id": "Ub5kwpBJQYeo"
      }
    },
    {
      "cell_type": "code",
      "source": [
        "accuracy = history1.history['accuracy'][-1]\n",
        "print(\"La precisión final del modelo Adam es:\", accuracy)\n"
      ],
      "metadata": {
        "id": "BsKRbZ_7QYep",
        "colab": {
          "base_uri": "https://localhost:8080/"
        },
        "outputId": "a402742b-a5d7-4440-80b9-1956f7edd409"
      },
      "execution_count": null,
      "outputs": [
        {
          "output_type": "stream",
          "name": "stdout",
          "text": [
            "La precisión final del modelo Adam es: 0.7543859481811523\n"
          ]
        }
      ]
    },
    {
      "cell_type": "code",
      "source": [
        "accuracy_2 = history2.history['accuracy'][-1]\n",
        "print(\"La precisión final del modelo Nadam  es:\", accuracy_2)"
      ],
      "metadata": {
        "id": "-yoYdiX818Ss",
        "colab": {
          "base_uri": "https://localhost:8080/"
        },
        "outputId": "66470768-18ae-4df3-9788-5555ccb7b7eb"
      },
      "execution_count": null,
      "outputs": [
        {
          "output_type": "stream",
          "name": "stdout",
          "text": [
            "La precisión final del modelo Nadam  es: 0.9298245906829834\n"
          ]
        }
      ]
    },
    {
      "cell_type": "code",
      "source": [
        "accuracy_3 = history3.history['accuracy'][-1]\n",
        "print(\"La precisión final del modelo Adamax es:\", accuracy_3)"
      ],
      "metadata": {
        "id": "yYbGt-N-6hD1",
        "colab": {
          "base_uri": "https://localhost:8080/"
        },
        "outputId": "d035be7d-df49-4389-addd-18cfbda54526"
      },
      "execution_count": null,
      "outputs": [
        {
          "output_type": "stream",
          "name": "stdout",
          "text": [
            "La precisión final del modelo Adamax es: 0.5438596606254578\n"
          ]
        }
      ]
    },
    {
      "cell_type": "markdown",
      "source": [
        "Se puede observar que el accuracy mejor dado es el Nadam con 0.92 y comparado con el anterior modelo del punto 2 , es mejor usar este optimizador"
      ],
      "metadata": {
        "id": "ebmLYAbkkmxx"
      }
    },
    {
      "cell_type": "markdown",
      "source": [
        "Con estos datos de precision ahora podemos plotear las gráficas de Accuracy_train vs Accuracy_test"
      ],
      "metadata": {
        "id": "rjDA9N7JQYep"
      }
    },
    {
      "cell_type": "code",
      "source": [
        "import matplotlib.pyplot as plt\n",
        "\n",
        "train_acc = history1.history['accuracy']\n",
        "val_acc = history1.history['val_accuracy']\n",
        "\n",
        "plt.plot(train_acc, label='Precisión de Entrenamiento')\n",
        "plt.plot(val_acc, label='Precisión de Validación')\n",
        "plt.title('Precisión del Modelo con Optimizador Adam')\n",
        "plt.xlabel('Épocas')\n",
        "plt.ylabel('Precisión')\n",
        "plt.legend()\n",
        "plt.show()\n"
      ],
      "metadata": {
        "id": "pK82G_j-QYep",
        "colab": {
          "base_uri": "https://localhost:8080/",
          "height": 297
        },
        "outputId": "d673d0c9-7e26-4b78-d73b-ad69afd39716"
      },
      "execution_count": null,
      "outputs": [
        {
          "output_type": "display_data",
          "data": {
            "text/plain": [
              "<Figure size 432x288 with 1 Axes>"
            ],
            "image/png": "[encoded data removed]"
          },
          "metadata": {
            "needs_background": "light"
          }
        }
      ]
    },
    {
      "cell_type": "code",
      "source": [
        "import matplotlib.pyplot as plt\n",
        "\n",
        "train_acc_2 = history2.history['accuracy']\n",
        "val_acc_2 = history2.history['val_accuracy']\n",
        "\n",
        "plt.plot(train_acc_2, label='Precisión de Entrenamiento')\n",
        "plt.plot(val_acc_2, label='Precisión de Validación')\n",
        "plt.title('Precisión del Modelo con Optimizador Nadam')\n",
        "plt.xlabel('Épocas')\n",
        "plt.ylabel('Precisión')\n",
        "plt.legend()\n",
        "plt.show()"
      ],
      "metadata": {
        "id": "GMQyMu0j2Hrl",
        "colab": {
          "base_uri": "https://localhost:8080/",
          "height": 297
        },
        "outputId": "f6f5aaca-6f79-4b44-980b-c86ae4d5d2d9"
      },
      "execution_count": null,
      "outputs": [
        {
          "output_type": "display_data",
          "data": {
            "text/plain": [
              "<Figure size 432x288 with 1 Axes>"
            ],
            "image/png": "[encoded data removed]"
          },
          "metadata": {
            "needs_background": "light"
          }
        }
      ]
    },
    {
      "cell_type": "code",
      "source": [
        "import matplotlib.pyplot as plt\n",
        "\n",
        "train_acc_3 = history3.history['accuracy']\n",
        "val_acc_3 = history3.history['val_accuracy']\n",
        "\n",
        "plt.plot(train_acc_3, label='Precisión de Entrenamiento')\n",
        "plt.plot(val_acc_3, label='Precisión de Validación')\n",
        "plt.title('Precisión del Modelo con Optimizador Adamax')\n",
        "plt.xlabel('Épocas')\n",
        "plt.ylabel('Precisión')\n",
        "plt.legend()\n",
        "plt.show()"
      ],
      "metadata": {
        "id": "OWa6qZF67Krc",
        "colab": {
          "base_uri": "https://localhost:8080/",
          "height": 297
        },
        "outputId": "6c3907b9-e89b-44b9-f197-d5d88a710876"
      },
      "execution_count": null,
      "outputs": [
        {
          "output_type": "display_data",
          "data": {
            "text/plain": [
              "<Figure size 432x288 with 1 Axes>"
            ],
            "image/png": "[encoded data removed]"
          },
          "metadata": {
            "needs_background": "light"
          }
        }
      ]
    },
    {
      "cell_type": "markdown",
      "source": [
        "## Segunda parte punto 2 (Logistic Regression Sklearn)"
      ],
      "metadata": {
        "id": "0kHSYsfomwXa"
      }
    },
    {
      "cell_type": "markdown",
      "source": [
        "Ahora se construirá un modelo usando la libreria sklearn mas especificamente la la herramienta \"LogisticRegression\". Una vez entrenado este nuevo modelo, se compararán los niveles de precision entre este nuevo y el anterior creado desde 0."
      ],
      "metadata": {
        "id": "lSEa0QEIm27a"
      }
    },
    {
      "cell_type": "code",
      "source": [
        "from sklearn.linear_model import LogisticRegression\n",
        "from sklearn.metrics import confusion_matrix, ConfusionMatrixDisplay\n",
        "\n",
        "model2 = LogisticRegression(solver = 'liblinear', max_iter = epochs_est)\n",
        "model2.fit(x_train, y_train)\n",
        "pred_model2 = model2.predict(x_test)\n",
        "accuracy_model2 = accuracy_score(y_test, pred_model2)\n",
        "print(accuracy_model2)"
      ],
      "metadata": {
        "id": "_heWaWC1nZKI",
        "colab": {
          "base_uri": "https://localhost:8080/"
        },
        "outputId": "ca36ced1-d80e-4deb-b073-8d3a2bd13019"
      },
      "execution_count": null,
      "outputs": [
        {
          "output_type": "stream",
          "name": "stdout",
          "text": [
            "0.8\n"
          ]
        }
      ]
    },
    {
      "cell_type": "markdown",
      "source": [
        "## Matrices de Confusión"
      ],
      "metadata": {
        "id": "LS38AshzohP_"
      }
    },
    {
      "cell_type": "markdown",
      "source": [
        "Para comparar los dos modelos, se crearon matrices de confusion para cada modelo, con estas se puede realizar un mejor analisis de los resultados de los modelos."
      ],
      "metadata": {
        "id": "DaY08MJErq-1"
      }
    },
    {
      "cell_type": "code",
      "source": [
        "import itertools\n",
        "def plot_confusion_matrix(cm, num_classes, opt, normalize=False,cmap=plt.cm.BuGn):      \n",
        "      classes = ['Negative', 'Positive']\n",
        "\n",
        "      plt.figure(figsize = (5,5))\n",
        "      plt.imshow(cm, interpolation='nearest', cmap=cmap)\n",
        "      plt.title('Confusion Matrix ' + opt)\n",
        "      plt.colorbar()\n",
        "      tick_marks = np.arange(len(classes))\n",
        "      plt.xticks(tick_marks, classes, rotation=90)\n",
        "      plt.yticks(tick_marks, classes)\n",
        "      if normalize:\n",
        "          cm = cm.astype('float') / cm.sum(axis=1)[:, np.newaxis]\n",
        "          cm = np.round(cm,2)\n",
        "      thresh = cm.max() / 2.\n",
        "      for i, j in itertools.product(range(cm.shape[0]), range(cm.shape[1])):\n",
        "          plt.text(j, i, cm[i, j],\n",
        "                   horizontalalignment=\"center\",\n",
        "                   color=\"white\" if cm[i, j] > thresh else \"black\")\n",
        "      plt.tight_layout()\n",
        "      plt.ylabel('Original')\n",
        "      plt.xlabel('Predictions')"
      ],
      "metadata": {
        "id": "I8mE67iTr70A"
      },
      "execution_count": null,
      "outputs": []
    },
    {
      "cell_type": "markdown",
      "source": [
        "### Confusion Matrix GD"
      ],
      "metadata": {
        "id": "UqdSO_8Ft0Sh"
      }
    },
    {
      "cell_type": "code",
      "source": [
        "from sklearn import metrics\n",
        "\n",
        "print(\"Confusion Matrix GD \\n\")\n",
        "\n",
        "conf_mat_1 = metrics.confusion_matrix(y_test, pred)\n",
        "plot_confusion_matrix(conf_mat_1, 2, 'GD')\n",
        "print(metrics.classification_report(y_test, pred))"
      ],
      "metadata": {
        "id": "fsPrA0PssRX2",
        "colab": {
          "base_uri": "https://localhost:8080/",
          "height": 560
        },
        "outputId": "d91d39d8-4a24-4e75-fe58-ebff159b2115"
      },
      "execution_count": null,
      "outputs": [
        {
          "output_type": "stream",
          "name": "stdout",
          "text": [
            "Confusion Matrix GD \n",
            "\n",
            "              precision    recall  f1-score   support\n",
            "\n",
            "           0       0.80      1.00      0.89         8\n",
            "           1       1.00      0.71      0.83         7\n",
            "\n",
            "    accuracy                           0.87        15\n",
            "   macro avg       0.90      0.86      0.86        15\n",
            "weighted avg       0.89      0.87      0.86        15\n",
            "\n"
          ]
        },
        {
          "output_type": "display_data",
          "data": {
            "text/plain": [
              "<Figure size 360x360 with 2 Axes>"
            ],
            "image/png": "[encoded data removed]"
          },
          "metadata": {
            "needs_background": "light"
          }
        }
      ]
    },
    {
      "cell_type": "markdown",
      "source": [
        "Según lo dado por la matriz, se tiene que en los datos de testeo, se clasifican bien los datos positivos, sin embargo, de los datos negativos se clasifican mal 2 de los 10 datos, pero para el dataset utilizado, se requiere que en datos negativos no haya personas clasificadas erroneamente, pues una salida predicted como 0 y en realidad es 1, en este contexto podria costarle la vida al paciente."
      ],
      "metadata": {
        "id": "eslZwcxCsWGC"
      }
    },
    {
      "cell_type": "markdown",
      "source": [
        "### Confusion Matrix Sklearn logistic regression model\n"
      ],
      "metadata": {
        "id": "MA6B9-_ptxtS"
      }
    },
    {
      "cell_type": "code",
      "source": [
        "print(\"Matriz Confusión con Sklearn \\n\")\n",
        "conf_mat_2 = metrics.confusion_matrix(y_test, pred_model2)\n",
        "plot_confusion_matrix(conf_mat_2, 2, 'Sklearn')\n",
        "print(metrics.classification_report(y_test, pred_model2))"
      ],
      "metadata": {
        "id": "ZVeea5Xet_yv",
        "colab": {
          "base_uri": "https://localhost:8080/",
          "height": 560
        },
        "outputId": "03a1b40e-0d4a-404a-c9ca-f96f0cc1ad3d"
      },
      "execution_count": null,
      "outputs": [
        {
          "output_type": "stream",
          "name": "stdout",
          "text": [
            "Matriz Confusión con Sklearn \n",
            "\n",
            "              precision    recall  f1-score   support\n",
            "\n",
            "           0       0.78      0.88      0.82         8\n",
            "           1       0.83      0.71      0.77         7\n",
            "\n",
            "    accuracy                           0.80        15\n",
            "   macro avg       0.81      0.79      0.80        15\n",
            "weighted avg       0.80      0.80      0.80        15\n",
            "\n"
          ]
        },
        {
          "output_type": "display_data",
          "data": {
            "text/plain": [
              "<Figure size 360x360 with 2 Axes>"
            ],
            "image/png": "[encoded data removed]"
          },
          "metadata": {
            "needs_background": "light"
          }
        }
      ]
    },
    {
      "cell_type": "markdown",
      "source": [
        "Los dos modelos tienen un comportamiento similar, sin embargo, debido a la cantidad de epocas que se definieron es mejor el desempeño del modelo creado desde 0 que el dado por la libreria Sklearn, lo más probable es que su comportamineto mejore y supere al nuestro si se aumenta el número de epocas, o si se usa un solver diferente."
      ],
      "metadata": {
        "id": "UL5EMMnPuJuM"
      }
    },
    {
      "cell_type": "markdown",
      "source": [
        "# Punto 3 Tabla"
      ],
      "metadata": {
        "id": "3_hS8EzAPMzR"
      }
    },
    {
      "cell_type": "markdown",
      "source": [
        "![tablapunto3.PNG](data:image/png;base64,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)"
      ],
      "metadata": {
        "id": "MVbJCV7sPYNz"
      }
    },
    {
      "cell_type": "markdown",
      "source": [
        "Cuando se dice que un optimizador como Adam **no tiene restricciones, significa que no impone ninguna limitación en los valores que pueden tomar los parámetros del modelo** durante el proceso de optimización. Esto significa que los valores de los parámetros pueden variar libremente dentro de su rango permitido y no se aplican restricciones adicionales durante la optimización"
      ],
      "metadata": {
        "id": "65ke0SLsP7xb"
      }
    },
    {
      "cell_type": "markdown",
      "source": [
        "Por otro lado, cuando se dice que **un optimizador tiene mínimos locales, significa que su capacidad para encontrar el mínimo global de una función es limitada**. En cambio, el optimizador puede converger a un mínimo local, que es el mínimo más cercano al punto de partida del algoritmo de optimización. "
      ],
      "metadata": {
        "id": "MXT7GU7eQLPh"
      }
    },
    {
      "cell_type": "markdown",
      "source": [
        "En general, por ejemplo espera que Adam encuentre un mínimo local cercano a su punto de inicio, pero no necesariamente el mínimo global de la función de pérdida."
      ],
      "metadata": {
        "id": "B_RR3cf5Q5sF"
      }
    },
    {
      "cell_type": "markdown",
      "source": [
        "En la optimización matemática y en el aprendizaje automático, el término \"mínimo\" se refiere al valor más bajo de una función de pérdida o costo que se puede alcanzar mediante la variación de los parámetros del modelo. **El objetivo del proceso de optimización es encontrar los valores de los parámetros que minimizan la función de pérdida y, por lo tanto, maximizan el rendimiento del modelo**. Sin embargo, una función de pérdida puede tener varios mínimos diferentes. "
      ],
      "metadata": {
        "id": "0TpCNb0pQ94G"
      }
    },
    {
      "cell_type": "markdown",
      "source": [
        "**Un mínimo local es el valor más bajo de la función de pérdida en una región local de los parámetros**. En otras palabras, **es el punto más bajo que se puede alcanzar a partir de un conjunto particular de valores de parámetros**, pero no necesariamente el valor más bajo posible en todo el espacio de parámetros. Por otro lado, el mínimo global es el valor más bajo de la función de pérdida en todo el espacio de parámetros. Este es el punto más bajo que se puede alcanzar en la función de pérdida, independientemente de los valores iniciales de los parámetros o el camino seguido por el algoritmo de optimización"
      ],
      "metadata": {
        "id": "Wcg6o8iVRKis"
      }
    },
    {
      "cell_type": "markdown",
      "source": [
        "*En resumen*, **el mínimo local es el punto más bajo de la función de pérdida en una región local de los parámetros**, mientras que **el mínimo global es el punto más bajo de la función de pérdida en todo el espacio de parámetros**. La capacidad de un optimizador para encontrar el mínimo global es importante porque es lo que asegura que el modelo tenga el mejor rendimiento posible en términos de la función de pérdida."
      ],
      "metadata": {
        "id": "0E9S5fTvRVfA"
      }
    },
    {
      "cell_type": "markdown",
      "source": [
        "Links de referencia punto 3:\n",
        "* Adam\n",
        "  * https://www.tensorflow.org/api_docs/python/tf/keras/optimizers/Adam\n",
        "  * https://keras.io/api/optimizers/adam/\n",
        "  * https://arxiv.org/pdf/1609.04747.pdf\n",
        "* Nadam\n",
        "  * https://arxiv.org/pdf/1412.6980.pdf\n",
        "  * https://interactivechaos.com/es/manual/tutorial-de-machine-learning/gradient-descent\n",
        "  * http://cs229.stanford.edu/proj2015/054_report.pdf\n",
        "  * https://machinelearningmastery.com/gradient-descent-optimization-with-nadam-from-scratch/\n",
        "\n",
        "* Adamax\n",
        "  * https://www.tensorflow.org/api_docs/python/tf/keras/optimizers/experimental/Adamax\n",
        "  * https://machinelearningmastery.com/gradient-descent-optimization-with-adamax-from-scratch/\n"
      ],
      "metadata": {
        "id": "Nzn_IQ8iR078"
      }
    },
    {
      "cell_type": "markdown",
      "source": [
        "# Punto 4"
      ],
      "metadata": {
        "id": "AHDtcG9YHXPQ"
      }
    },
    {
      "cell_type": "markdown",
      "source": [
        "Se decidió trabajar con el [dataset heart disease](https://www.kaggle.com/datasets/yasserh/heart-disease-dataset) ya este tipo de enfermedades es la primera causa de muerte en el mundo  [(17.5 millones de fallecimientos al año)](https://https://www.amgen.es/enfermedades-tratadas/hipercolesterolemia/enfermedad-cardiovascular-esp#:~:text=La%20enfermedad%20cardiovascular%20es%20la,29%25%20de%20los%20decesos%20totales.). El diagnostico temprano de estas enfermedades extiende la expectativa de vida de los pacientes que las padecen.\n",
        "\n",
        "Info Dataset: 76 atributos (de los cuales se usa un subconjunto de 14, que es al que se refieren los experimentos publicados), 1 salida (tiene o no una enfermedad cardiaca)"
      ],
      "metadata": {
        "id": "K4HH1Bnc03z0"
      }
    },
    {
      "cell_type": "markdown",
      "source": [
        "## Modelo 1"
      ],
      "metadata": {
        "id": "L3UvB6Wp7MMO"
      }
    },
    {
      "cell_type": "markdown",
      "source": [
        "## Imports\n"
      ],
      "metadata": {
        "id": "Te-bdc8d3z-M"
      }
    },
    {
      "cell_type": "code",
      "source": [
        "import pandas as pd\n",
        "from sklearn.model_selection import train_test_split\n",
        "import numpy as np\n",
        "import itertools"
      ],
      "metadata": {
        "id": "4iqo3hDs32M9"
      },
      "execution_count": null,
      "outputs": []
    },
    {
      "cell_type": "code",
      "source": [
        "dataset_url='https://raw.githubusercontent.com/LuisFernandoPareja/HeartDataSet/main/heart.csv'\n",
        "pd.set_option('display.max_columns', None)\n",
        "dataset = pd.read_csv(dataset_url)\n",
        "dataset.head(5)"
      ],
      "metadata": {
        "id": "1whw8a8D2L5Z",
        "colab": {
          "base_uri": "https://localhost:8080/"
        },
        "outputId": "691d7943-a1e6-43a9-9cac-89dbabde0401"
      },
      "execution_count": null,
      "outputs": [
        {
          "output_type": "execute_result",
          "data": {
            "text/plain": [
              "   age  sex  cp  trestbps  chol  fbs  restecg  thalach  exang  oldpeak  slope  \\\n",
              "0   63    1   3       145   233    1        0      150      0      2.3      0   \n",
              "1   37    1   2       130   250    0        1      187      0      3.5      0   \n",
              "2   41    0   1       130   204    0        0      172      0      1.4      2   \n",
              "3   56    1   1       120   236    0        1      178      0      0.8      2   \n",
              "4   57    0   0       120   354    0        1      163      1      0.6      2   \n",
              "\n",
              "   ca  thal  target  \n",
              "0   0     1       1  \n",
              "1   0     2       1  \n",
              "2   0     2       1  \n",
              "3   0     2       1  \n",
              "4   0     2       1  "
            ],
            "text/html": [
              "\n",
              "  <div id=\"df-e5fb7515-1939-4fba-b352-b0f6774fdc42\">\n",
              "    <div class=\"colab-df-container\">\n",
              "      <div>\n",
              "<style scoped>\n",
              "    .dataframe tbody tr th:only-of-type {\n",
              "        vertical-align: middle;\n",
              "    }\n",
              "\n",
              "    .dataframe tbody tr th {\n",
              "        vertical-align: top;\n",
              "    }\n",
              "\n",
              "    .dataframe thead th {\n",
              "        text-align: right;\n",
              "    }\n",
              "</style>\n",
              "<table border=\"1\" class=\"dataframe\">\n",
              "  <thead>\n",
              "    <tr style=\"text-align: right;\">\n",
              "      <th></th>\n",
              "      <th>age</th>\n",
              "      <th>sex</th>\n",
              "      <th>cp</th>\n",
              "      <th>trestbps</th>\n",
              "      <th>chol</th>\n",
              "      <th>fbs</th>\n",
              "      <th>restecg</th>\n",
              "      <th>thalach</th>\n",
              "      <th>exang</th>\n",
              "      <th>oldpeak</th>\n",
              "      <th>slope</th>\n",
              "      <th>ca</th>\n",
              "      <th>thal</th>\n",
              "      <th>target</th>\n",
              "    </tr>\n",
              "  </thead>\n",
              "  <tbody>\n",
              "    <tr>\n",
              "      <th>0</th>\n",
              "      <td>63</td>\n",
              "      <td>1</td>\n",
              "      <td>3</td>\n",
              "      <td>145</td>\n",
              "      <td>233</td>\n",
              "      <td>1</td>\n",
              "      <td>0</td>\n",
              "      <td>150</td>\n",
              "      <td>0</td>\n",
              "      <td>2.3</td>\n",
              "      <td>0</td>\n",
              "      <td>0</td>\n",
              "      <td>1</td>\n",
              "      <td>1</td>\n",
              "    </tr>\n",
              "    <tr>\n",
              "      <th>1</th>\n",
              "      <td>37</td>\n",
              "      <td>1</td>\n",
              "      <td>2</td>\n",
              "      <td>130</td>\n",
              "      <td>250</td>\n",
              "      <td>0</td>\n",
              "      <td>1</td>\n",
              "      <td>187</td>\n",
              "      <td>0</td>\n",
              "      <td>3.5</td>\n",
              "      <td>0</td>\n",
              "      <td>0</td>\n",
              "      <td>2</td>\n",
              "      <td>1</td>\n",
              "    </tr>\n",
              "    <tr>\n",
              "      <th>2</th>\n",
              "      <td>41</td>\n",
              "      <td>0</td>\n",
              "      <td>1</td>\n",
              "      <td>130</td>\n",
              "      <td>204</td>\n",
              "      <td>0</td>\n",
              "      <td>0</td>\n",
              "      <td>172</td>\n",
              "      <td>0</td>\n",
              "      <td>1.4</td>\n",
              "      <td>2</td>\n",
              "      <td>0</td>\n",
              "      <td>2</td>\n",
              "      <td>1</td>\n",
              "    </tr>\n",
              "    <tr>\n",
              "      <th>3</th>\n",
              "      <td>56</td>\n",
              "      <td>1</td>\n",
              "      <td>1</td>\n",
              "      <td>120</td>\n",
              "      <td>236</td>\n",
              "      <td>0</td>\n",
              "      <td>1</td>\n",
              "      <td>178</td>\n",
              "      <td>0</td>\n",
              "      <td>0.8</td>\n",
              "      <td>2</td>\n",
              "      <td>0</td>\n",
              "      <td>2</td>\n",
              "      <td>1</td>\n",
              "    </tr>\n",
              "    <tr>\n",
              "      <th>4</th>\n",
              "      <td>57</td>\n",
              "      <td>0</td>\n",
              "      <td>0</td>\n",
              "      <td>120</td>\n",
              "      <td>354</td>\n",
              "      <td>0</td>\n",
              "      <td>1</td>\n",
              "      <td>163</td>\n",
              "      <td>1</td>\n",
              "      <td>0.6</td>\n",
              "      <td>2</td>\n",
              "      <td>0</td>\n",
              "      <td>2</td>\n",
              "      <td>1</td>\n",
              "    </tr>\n",
              "  </tbody>\n",
              "</table>\n",
              "</div>\n",
              "      <button class=\"colab-df-convert\" onclick=\"convertToInteractive('df-e5fb7515-1939-4fba-b352-b0f6774fdc42')\"\n",
              "              title=\"Convert this dataframe to an interactive table.\"\n",
              "              style=\"display:none;\">\n",
              "        \n",
              "  <svg xmlns=\"http://www.w3.org/2000/svg\" height=\"24px\"viewBox=\"0 0 24 24\"\n",
              "       width=\"24px\">\n",
              "    <path d=\"M0 0h24v24H0V0z\" fill=\"none\"/>\n",
              "    <path d=\"M18.56 5.44l.94 2.06.94-2.06 2.06-.94-2.06-.94-.94-2.06-.94 2.06-2.06.94zm-11 1L8.5 8.5l.94-2.06 2.06-.94-2.06-.94L8.5 2.5l-.94 2.06-2.06.94zm10 10l.94 2.06.94-2.06 2.06-.94-2.06-.94-.94-2.06-.94 2.06-2.06.94z\"/><path d=\"M17.41 7.96l-1.37-1.37c-.4-.4-.92-.59-1.43-.59-.52 0-1.04.2-1.43.59L10.3 9.45l-7.72 7.72c-.78.78-.78 2.05 0 2.83L4 21.41c.39.39.9.59 1.41.59.51 0 1.02-.2 1.41-.59l7.78-7.78 2.81-2.81c.8-.78.8-2.07 0-2.86zM5.41 20L4 18.59l7.72-7.72 1.47 1.35L5.41 20z\"/>\n",
              "  </svg>\n",
              "      </button>\n",
              "      \n",
              "  <style>\n",
              "    .colab-df-container {\n",
              "      display:flex;\n",
              "      flex-wrap:wrap;\n",
              "      gap: 12px;\n",
              "    }\n",
              "\n",
              "    .colab-df-convert {\n",
              "      background-color: #E8F0FE;\n",
              "      border: none;\n",
              "      border-radius: 50%;\n",
              "      cursor: pointer;\n",
              "      display: none;\n",
              "      fill: #1967D2;\n",
              "      height: 32px;\n",
              "      padding: 0 0 0 0;\n",
              "      width: 32px;\n",
              "    }\n",
              "\n",
              "    .colab-df-convert:hover {\n",
              "      background-color: #E2EBFA;\n",
              "      box-shadow: 0px 1px 2px rgba(60, 64, 67, 0.3), 0px 1px 3px 1px rgba(60, 64, 67, 0.15);\n",
              "      fill: #174EA6;\n",
              "    }\n",
              "\n",
              "    [theme=dark] .colab-df-convert {\n",
              "      background-color: #3B4455;\n",
              "      fill: #D2E3FC;\n",
              "    }\n",
              "\n",
              "    [theme=dark] .colab-df-convert:hover {\n",
              "      background-color: #434B5C;\n",
              "      box-shadow: 0px 1px 3px 1px rgba(0, 0, 0, 0.15);\n",
              "      filter: drop-shadow(0px 1px 2px rgba(0, 0, 0, 0.3));\n",
              "      fill: #FFFFFF;\n",
              "    }\n",
              "  </style>\n",
              "\n",
              "      <script>\n",
              "        const buttonEl =\n",
              "          document.querySelector('#df-e5fb7515-1939-4fba-b352-b0f6774fdc42 button.colab-df-convert');\n",
              "        buttonEl.style.display =\n",
              "          google.colab.kernel.accessAllowed ? 'block' : 'none';\n",
              "\n",
              "        async function convertToInteractive(key) {\n",
              "          const element = document.querySelector('#df-e5fb7515-1939-4fba-b352-b0f6774fdc42');\n",
              "          const dataTable =\n",
              "            await google.colab.kernel.invokeFunction('convertToInteractive',\n",
              "                                                     [key], {});\n",
              "          if (!dataTable) return;\n",
              "\n",
              "          const docLinkHtml = 'Like what you see? Visit the ' +\n",
              "            '<a target=\"_blank\" href=https://colab.research.google.com/notebooks/data_table.ipynb>data table notebook</a>'\n",
              "            + ' to learn more about interactive tables.';\n",
              "          element.innerHTML = '';\n",
              "          dataTable['output_type'] = 'display_data';\n",
              "          await google.colab.output.renderOutput(dataTable, element);\n",
              "          const docLink = document.createElement('div');\n",
              "          docLink.innerHTML = docLinkHtml;\n",
              "          element.appendChild(docLink);\n",
              "        }\n",
              "      </script>\n",
              "    </div>\n",
              "  </div>\n",
              "  "
            ]
          },
          "metadata": {},
          "execution_count": 63
        }
      ]
    },
    {
      "cell_type": "markdown",
      "source": [
        "## Normalization\n",
        "Definimos una función para poder normalizar los valores del dataset entre dos valores escogidos (en este caso normalizaremos entre 0 y 1)."
      ],
      "metadata": {
        "id": "kmgG36Sq3INV"
      }
    },
    {
      "cell_type": "code",
      "source": [
        "def normalizar(x, xmax, xmin, ymax, ymin):\n",
        "  m = (ymax - ymin) / (xmax - xmin)\n",
        "  b = ymin - m*xmin\n",
        "\n",
        "  y = m*x+b\n",
        "\n",
        "  return y"
      ],
      "metadata": {
        "id": "LxyMKRst3GZq"
      },
      "execution_count": null,
      "outputs": []
    },
    {
      "cell_type": "markdown",
      "source": [
        "Se calculan los maximos y minimos de cada entrada y de la salida, para normalizar el dataset entre 0 y 1, se usa la normalización entre 0 y 1."
      ],
      "metadata": {
        "id": "MAgVrQX03hjX"
      }
    },
    {
      "cell_type": "code",
      "source": [
        "max = np.max(dataset).values\n",
        "min = np.min(dataset).values\n",
        "data = normalizar(dataset,max,min,1,0)\n",
        "data.head(5)"
      ],
      "metadata": {
        "id": "QUr2MMmr3nlB",
        "colab": {
          "base_uri": "https://localhost:8080/"
        },
        "outputId": "aafb0984-cfac-4534-c838-4991eee23baa"
      },
      "execution_count": null,
      "outputs": [
        {
          "output_type": "stream",
          "name": "stderr",
          "text": [
            "/usr/local/lib/python3.9/dist-packages/numpy/core/fromnumeric.py:84: FutureWarning: In a future version, DataFrame.max(axis=None) will return a scalar max over the entire DataFrame. To retain the old behavior, use 'frame.max(axis=0)' or just 'frame.max()'\n",
            "  return reduction(axis=axis, out=out, **passkwargs)\n",
            "/usr/local/lib/python3.9/dist-packages/numpy/core/fromnumeric.py:84: FutureWarning: In a future version, DataFrame.min(axis=None) will return a scalar min over the entire DataFrame. To retain the old behavior, use 'frame.min(axis=0)' or just 'frame.min()'\n",
            "  return reduction(axis=axis, out=out, **passkwargs)\n"
          ]
        },
        {
          "output_type": "execute_result",
          "data": {
            "text/plain": [
              "        age  sex        cp  trestbps      chol  fbs  restecg   thalach  exang  \\\n",
              "0  0.708333  1.0  1.000000  0.481132  0.244292  1.0      0.0  0.603053    0.0   \n",
              "1  0.166667  1.0  0.666667  0.339623  0.283105  0.0      0.5  0.885496    0.0   \n",
              "2  0.250000  0.0  0.333333  0.339623  0.178082  0.0      0.0  0.770992    0.0   \n",
              "3  0.562500  1.0  0.333333  0.245283  0.251142  0.0      0.5  0.816794    0.0   \n",
              "4  0.583333  0.0  0.000000  0.245283  0.520548  0.0      0.5  0.702290    1.0   \n",
              "\n",
              "    oldpeak  slope   ca      thal  target  \n",
              "0  0.370968    0.0  0.0  0.333333     1.0  \n",
              "1  0.564516    0.0  0.0  0.666667     1.0  \n",
              "2  0.225806    1.0  0.0  0.666667     1.0  \n",
              "3  0.129032    1.0  0.0  0.666667     1.0  \n",
              "4  0.096774    1.0  0.0  0.666667     1.0  "
            ],
            "text/html": [
              "\n",
              "  <div id=\"df-f7004568-161c-47ef-b6cf-ed79bae4c072\">\n",
              "    <div class=\"colab-df-container\">\n",
              "      <div>\n",
              "<style scoped>\n",
              "    .dataframe tbody tr th:only-of-type {\n",
              "        vertical-align: middle;\n",
              "    }\n",
              "\n",
              "    .dataframe tbody tr th {\n",
              "        vertical-align: top;\n",
              "    }\n",
              "\n",
              "    .dataframe thead th {\n",
              "        text-align: right;\n",
              "    }\n",
              "</style>\n",
              "<table border=\"1\" class=\"dataframe\">\n",
              "  <thead>\n",
              "    <tr style=\"text-align: right;\">\n",
              "      <th></th>\n",
              "      <th>age</th>\n",
              "      <th>sex</th>\n",
              "      <th>cp</th>\n",
              "      <th>trestbps</th>\n",
              "      <th>chol</th>\n",
              "      <th>fbs</th>\n",
              "      <th>restecg</th>\n",
              "      <th>thalach</th>\n",
              "      <th>exang</th>\n",
              "      <th>oldpeak</th>\n",
              "      <th>slope</th>\n",
              "      <th>ca</th>\n",
              "      <th>thal</th>\n",
              "      <th>target</th>\n",
              "    </tr>\n",
              "  </thead>\n",
              "  <tbody>\n",
              "    <tr>\n",
              "      <th>0</th>\n",
              "      <td>0.708333</td>\n",
              "      <td>1.0</td>\n",
              "      <td>1.000000</td>\n",
              "      <td>0.481132</td>\n",
              "      <td>0.244292</td>\n",
              "      <td>1.0</td>\n",
              "      <td>0.0</td>\n",
              "      <td>0.603053</td>\n",
              "      <td>0.0</td>\n",
              "      <td>0.370968</td>\n",
              "      <td>0.0</td>\n",
              "      <td>0.0</td>\n",
              "      <td>0.333333</td>\n",
              "      <td>1.0</td>\n",
              "    </tr>\n",
              "    <tr>\n",
              "      <th>1</th>\n",
              "      <td>0.166667</td>\n",
              "      <td>1.0</td>\n",
              "      <td>0.666667</td>\n",
              "      <td>0.339623</td>\n",
              "      <td>0.283105</td>\n",
              "      <td>0.0</td>\n",
              "      <td>0.5</td>\n",
              "      <td>0.885496</td>\n",
              "      <td>0.0</td>\n",
              "      <td>0.564516</td>\n",
              "      <td>0.0</td>\n",
              "      <td>0.0</td>\n",
              "      <td>0.666667</td>\n",
              "      <td>1.0</td>\n",
              "    </tr>\n",
              "    <tr>\n",
              "      <th>2</th>\n",
              "      <td>0.250000</td>\n",
              "      <td>0.0</td>\n",
              "      <td>0.333333</td>\n",
              "      <td>0.339623</td>\n",
              "      <td>0.178082</td>\n",
              "      <td>0.0</td>\n",
              "      <td>0.0</td>\n",
              "      <td>0.770992</td>\n",
              "      <td>0.0</td>\n",
              "      <td>0.225806</td>\n",
              "      <td>1.0</td>\n",
              "      <td>0.0</td>\n",
              "      <td>0.666667</td>\n",
              "      <td>1.0</td>\n",
              "    </tr>\n",
              "    <tr>\n",
              "      <th>3</th>\n",
              "      <td>0.562500</td>\n",
              "      <td>1.0</td>\n",
              "      <td>0.333333</td>\n",
              "      <td>0.245283</td>\n",
              "      <td>0.251142</td>\n",
              "      <td>0.0</td>\n",
              "      <td>0.5</td>\n",
              "      <td>0.816794</td>\n",
              "      <td>0.0</td>\n",
              "      <td>0.129032</td>\n",
              "      <td>1.0</td>\n",
              "      <td>0.0</td>\n",
              "      <td>0.666667</td>\n",
              "      <td>1.0</td>\n",
              "    </tr>\n",
              "    <tr>\n",
              "      <th>4</th>\n",
              "      <td>0.583333</td>\n",
              "      <td>0.0</td>\n",
              "      <td>0.000000</td>\n",
              "      <td>0.245283</td>\n",
              "      <td>0.520548</td>\n",
              "      <td>0.0</td>\n",
              "      <td>0.5</td>\n",
              "      <td>0.702290</td>\n",
              "      <td>1.0</td>\n",
              "      <td>0.096774</td>\n",
              "      <td>1.0</td>\n",
              "      <td>0.0</td>\n",
              "      <td>0.666667</td>\n",
              "      <td>1.0</td>\n",
              "    </tr>\n",
              "  </tbody>\n",
              "</table>\n",
              "</div>\n",
              "      <button class=\"colab-df-convert\" onclick=\"convertToInteractive('df-f7004568-161c-47ef-b6cf-ed79bae4c072')\"\n",
              "              title=\"Convert this dataframe to an interactive table.\"\n",
              "              style=\"display:none;\">\n",
              "        \n",
              "  <svg xmlns=\"http://www.w3.org/2000/svg\" height=\"24px\"viewBox=\"0 0 24 24\"\n",
              "       width=\"24px\">\n",
              "    <path d=\"M0 0h24v24H0V0z\" fill=\"none\"/>\n",
              "    <path d=\"M18.56 5.44l.94 2.06.94-2.06 2.06-.94-2.06-.94-.94-2.06-.94 2.06-2.06.94zm-11 1L8.5 8.5l.94-2.06 2.06-.94-2.06-.94L8.5 2.5l-.94 2.06-2.06.94zm10 10l.94 2.06.94-2.06 2.06-.94-2.06-.94-.94-2.06-.94 2.06-2.06.94z\"/><path d=\"M17.41 7.96l-1.37-1.37c-.4-.4-.92-.59-1.43-.59-.52 0-1.04.2-1.43.59L10.3 9.45l-7.72 7.72c-.78.78-.78 2.05 0 2.83L4 21.41c.39.39.9.59 1.41.59.51 0 1.02-.2 1.41-.59l7.78-7.78 2.81-2.81c.8-.78.8-2.07 0-2.86zM5.41 20L4 18.59l7.72-7.72 1.47 1.35L5.41 20z\"/>\n",
              "  </svg>\n",
              "      </button>\n",
              "      \n",
              "  <style>\n",
              "    .colab-df-container {\n",
              "      display:flex;\n",
              "      flex-wrap:wrap;\n",
              "      gap: 12px;\n",
              "    }\n",
              "\n",
              "    .colab-df-convert {\n",
              "      background-color: #E8F0FE;\n",
              "      border: none;\n",
              "      border-radius: 50%;\n",
              "      cursor: pointer;\n",
              "      display: none;\n",
              "      fill: #1967D2;\n",
              "      height: 32px;\n",
              "      padding: 0 0 0 0;\n",
              "      width: 32px;\n",
              "    }\n",
              "\n",
              "    .colab-df-convert:hover {\n",
              "      background-color: #E2EBFA;\n",
              "      box-shadow: 0px 1px 2px rgba(60, 64, 67, 0.3), 0px 1px 3px 1px rgba(60, 64, 67, 0.15);\n",
              "      fill: #174EA6;\n",
              "    }\n",
              "\n",
              "    [theme=dark] .colab-df-convert {\n",
              "      background-color: #3B4455;\n",
              "      fill: #D2E3FC;\n",
              "    }\n",
              "\n",
              "    [theme=dark] .colab-df-convert:hover {\n",
              "      background-color: #434B5C;\n",
              "      box-shadow: 0px 1px 3px 1px rgba(0, 0, 0, 0.15);\n",
              "      filter: drop-shadow(0px 1px 2px rgba(0, 0, 0, 0.3));\n",
              "      fill: #FFFFFF;\n",
              "    }\n",
              "  </style>\n",
              "\n",
              "      <script>\n",
              "        const buttonEl =\n",
              "          document.querySelector('#df-f7004568-161c-47ef-b6cf-ed79bae4c072 button.colab-df-convert');\n",
              "        buttonEl.style.display =\n",
              "          google.colab.kernel.accessAllowed ? 'block' : 'none';\n",
              "\n",
              "        async function convertToInteractive(key) {\n",
              "          const element = document.querySelector('#df-f7004568-161c-47ef-b6cf-ed79bae4c072');\n",
              "          const dataTable =\n",
              "            await google.colab.kernel.invokeFunction('convertToInteractive',\n",
              "                                                     [key], {});\n",
              "          if (!dataTable) return;\n",
              "\n",
              "          const docLinkHtml = 'Like what you see? Visit the ' +\n",
              "            '<a target=\"_blank\" href=https://colab.research.google.com/notebooks/data_table.ipynb>data table notebook</a>'\n",
              "            + ' to learn more about interactive tables.';\n",
              "          element.innerHTML = '';\n",
              "          dataTable['output_type'] = 'display_data';\n",
              "          await google.colab.output.renderOutput(dataTable, element);\n",
              "          const docLink = document.createElement('div');\n",
              "          docLink.innerHTML = docLinkHtml;\n",
              "          element.appendChild(docLink);\n",
              "        }\n",
              "      </script>\n",
              "    </div>\n",
              "  </div>\n",
              "  "
            ]
          },
          "metadata": {},
          "execution_count": 65
        }
      ]
    },
    {
      "cell_type": "markdown",
      "source": [
        "## Split the dataset"
      ],
      "metadata": {
        "id": "RbDA9wlX3tEr"
      }
    },
    {
      "cell_type": "markdown",
      "source": [
        "Se separa el dataset en entradas (x) y salidas (y), tomando en cuenta que la columna llamada target es la salida del dataset. Se le realiza un reshape a las salidas para que tenga forma (num, 1). Posteriormente se hace la separación del dataset un 80% del dataset es para el entrenamiento y el otro 20% restante es para el test."
      ],
      "metadata": {
        "id": "YKEc9lht36AH"
      }
    },
    {
      "cell_type": "code",
      "source": [
        "x = np.array(data.drop(['target'], axis = 1))\n",
        "y = np.array(data['target']).reshape(-1,1)"
      ],
      "metadata": {
        "id": "U8MCgRV73vnh"
      },
      "execution_count": null,
      "outputs": []
    },
    {
      "cell_type": "code",
      "source": [
        "from sklearn.model_selection import train_test_split\n",
        "x_train, x_test, y_train, y_test = train_test_split(x, y, test_size = 0.2, random_state=1)"
      ],
      "metadata": {
        "id": "8HJSaQyegQKh"
      },
      "execution_count": null,
      "outputs": []
    },
    {
      "cell_type": "markdown",
      "source": [
        "## Modelo\n",
        "Empezamos definiendo las funciones sigmoid y relu junto a sus derivadas, ambas funciones las usaremos "
      ],
      "metadata": {
        "id": "TkRwc52h4Ue3"
      }
    },
    {
      "cell_type": "code",
      "source": [
        "# Avoid division by zero\n",
        "epsilon = np.finfo(float).eps\n",
        " \n",
        "# Sigmoid function and its differentiation\n",
        "def sigmoid(z):\n",
        "    return 1/(1+np.exp(-z.clip(-500, 500)))\n",
        "def dsigmoid(z):\n",
        "    s = sigmoid(z)\n",
        "    return 2 * s * (1-s)\n",
        " \n",
        "# ReLU function and its differentiation\n",
        "def relu(z):\n",
        "    return np.maximum(0, z)\n",
        "def drelu(z):\n",
        "    return (z > 0).astype(float)"
      ],
      "metadata": {
        "id": "yW_u9GtB5GRs"
      },
      "execution_count": null,
      "outputs": []
    },
    {
      "cell_type": "markdown",
      "source": [
        "Se crea la función de perdida (binary cross entropy), ya que nuestro problema es de clasificacion binaria."
      ],
      "metadata": {
        "id": "Nb6kGUbG5hM1"
      }
    },
    {
      "cell_type": "code",
      "source": [
        "def cross_entropy(y, yhat):\n",
        "    \"\"\"Binary cross entropy function\n",
        "        L = - y log yhat - (1-y) log (1-yhat)\n",
        "    \"\"\"\n",
        "    return -(y.T @ np.log(yhat.clip(epsilon)) + (1-y.T) @ np.log((1-yhat).clip(epsilon))) / y.shape[1]\n",
        " \n",
        "def d_cross_entropy(y, yhat):\n",
        "    \"\"\" dL/dyhat \"\"\"\n",
        "    return - np.divide(y, yhat.clip(epsilon)) + np.divide(1-y, (1-yhat).clip(epsilon))"
      ],
      "metadata": {
        "id": "7xYCWDKE5wZO"
      },
      "execution_count": null,
      "outputs": []
    },
    {
      "cell_type": "markdown",
      "source": [
        "### Arquitectura del modelo\n",
        "Se define la clase mlp, para crear una red multicapa de perceptron, donde se configura la red, en primer lugar se definen los parametros z, w, b y a para realizar los pasos hacia adelante una vez se tiene sus gradientes (dz, dw, db y da), que se calculan con la backpropagation, luego se definen algunas funciones para el calculo de los parametros:\n",
        "\n",
        "* La función initialize se encargada de dar pesos y bias aleatorios al modelo inicial.\n",
        "\n",
        "* La función forward calcula la salida del sistema, tomando cada entrada (a) y realizando la multiplicación por los pesos y la suma del bias (z = W a + b), e introduciendola en la función de activación, realizando la función en toda la red, siendo la salida de la red realmente su única capa.\n",
        "\n",
        "* backward se encarga de realizar la propagación hacia atras, despues de cada paso hacia adelante, se calculan las gradientes del los pesos y de los bias, comenzando en la capa de salida hasta la capa de entrada.\n",
        "\n",
        "* Tomando que el da de la última capa es la derivada de la perdida entre el yreal y yhat, se van calculando las gradientes de los parametros, yendo hacia la capa de entrada.\n",
        "\n",
        "* Por último, la función update, se encarga de actualizar cada peso con su gradiente, usando la regla de actualización de la gradiente descendente, donde eta es la taza de aprendizaje (learning rate), que no es más que restarle al paramétro actual el producto de eta por la gradiente del mismo:"
      ],
      "metadata": {
        "id": "m8f2Pp-S58_A"
      }
    },
    {
      "cell_type": "code",
      "source": [
        "class mlp:\n",
        "    '''Multilayer perceptron using numpy\n",
        "    '''\n",
        "    def __init__(self, layersizes, activations, derivatives, lossderiv):\n",
        "        \"\"\"remember config, then initialize array to hold NN parameters without init\"\"\"\n",
        "        # hold NN config\n",
        "        self.layersizes = layersizes\n",
        "        self.activations = activations\n",
        "        self.derivatives = derivatives\n",
        "        self.lossderiv = lossderiv\n",
        "        # parameters, each is a 2D numpy array\n",
        "        L = len(self.layersizes)\n",
        "        self.z = [None] * L\n",
        "        self.W = [None] * L\n",
        "        self.b = [None] * L\n",
        "        self.a = [None] * L\n",
        "        self.dz = [None] * L\n",
        "        self.dW = [None] * L\n",
        "        self.db = [None] * L\n",
        "        self.da = [None] * L\n",
        " \n",
        "    def initialize(self, seed=42):\n",
        "        np.random.seed(seed)\n",
        "        sigma = 0.1\n",
        "        for l, (insize, outsize) in enumerate(zip(self.layersizes, self.layersizes[1:]), 1):\n",
        "            self.W[l] = np.random.randn(insize, outsize) * sigma\n",
        "            self.b[l] = np.random.randn(1, outsize) * sigma\n",
        " \n",
        "    def forward(self, x):\n",
        "        self.a[0] = x\n",
        "        for l, func in enumerate(self.activations, 1):\n",
        "            # z = W a + b, with `a` as output from previous layer\n",
        "            # `W` is of size rxs and `a` the size sxn with n the number of data instances, `z` the size rxn\n",
        "            # `b` is rx1 and broadcast to each column of `z`\n",
        "            self.z[l] = (self.a[l-1] @ self.W[l]) + self.b[l]\n",
        "            # a = g(z), with `a` as output of this layer, of size rxn\n",
        "            self.a[l] = func(self.z[l])\n",
        "        return self.a[-1]\n",
        "\n",
        "    def backward(self, y, yhat):\n",
        "        # first `da`, at the output\n",
        "        self.da[-1] = self.lossderiv(y, yhat)\n",
        "        for l, func in reversed(list(enumerate(self.derivatives, 1))):\n",
        "            # compute the differentials at this layer\n",
        "            self.dz[l] = self.da[l] * func(self.z[l])\n",
        "            self.dW[l] = self.a[l-1].T @ self.dz[l]\n",
        "            self.db[l] = np.mean(self.dz[l], axis=0, keepdims=True)\n",
        "            self.da[l-1] = self.dz[l] @ self.W[l].T\n",
        " \n",
        "    def update(self, eta):\n",
        "        for l in range(1, len(self.W)):\n",
        "            self.W[l] -= eta * self.dW[l]\n",
        "            self.b[l] -= eta * self.db[l]"
      ],
      "metadata": {
        "id": "fp1ZsJeC6SlE"
      },
      "execution_count": null,
      "outputs": []
    },
    {
      "cell_type": "markdown",
      "source": [
        "Se define la estructura del modelo (las capas, funciones de activacion, funcion de perdida). Se calcula la pérdida actual del modelo, con los pesos y bias iniciales aleatorios, y se calcula la precisión inicial del modelo."
      ],
      "metadata": {
        "id": "21pbyDgC6VrR"
      }
    },
    {
      "cell_type": "code",
      "source": [
        "from sklearn.metrics import accuracy_score\n",
        "# Build a model\n",
        "model = mlp(layersizes=[x.shape[1], 4, 3, 1],\n",
        "            activations=[relu, relu, sigmoid],\n",
        "            derivatives=[drelu, drelu, dsigmoid],\n",
        "            lossderiv=d_cross_entropy)\n",
        "model.initialize()\n",
        "yhat = model.forward(x)\n",
        "loss = cross_entropy(y, yhat)\n",
        "print(\"Before training - loss value {} accuracy {}\".format(loss, accuracy_score(y, (yhat > 0.5))))\n"
      ],
      "metadata": {
        "id": "laeVl0dp6WvM",
        "colab": {
          "base_uri": "https://localhost:8080/"
        },
        "outputId": "06ed28af-21a0-4aab-873f-1d781c10bbff"
      },
      "execution_count": null,
      "outputs": [
        {
          "output_type": "stream",
          "name": "stdout",
          "text": [
            "Before training - loss value [[215.52261751]] accuracy 0.45544554455445546\n"
          ]
        }
      ]
    },
    {
      "cell_type": "markdown",
      "source": [
        "Se definen los hiperparametros del modelo (epocas, learning rate, etc)."
      ],
      "metadata": {
        "id": "Rmm-Q8ze6uzR"
      }
    },
    {
      "cell_type": "code",
      "source": [
        "# train for each epoch\n",
        "n_epochs = 150\n",
        "learning_rate = 0.005\n",
        "loss1 = np.zeros(n_epochs)\n",
        "accuracy1 = np.zeros(n_epochs)\n",
        "loss_test1 = np.zeros(n_epochs)\n",
        "accuracy_test1 = np.zeros(n_epochs)\n",
        "\n",
        "for n in range(n_epochs):\n",
        "\n",
        "    #Calculo perdida y precisión testeo\n",
        "    model.forward(x_test)\n",
        "    yhat_t = model.a[-1]\n",
        "    \n",
        "    loss_test1[n]=cross_entropy(y_test, yhat_t)\n",
        "    accuracy_test1[n] = accuracy_score(y_test, (yhat_t > 0.5))\n",
        "\n",
        "    #Calculo perdida y precisión entrenamiento\n",
        "    model.forward(x_train)\n",
        "    yhat = model.a[-1]\n",
        "\n",
        "    accuracy1[n] = accuracy_score(y_train, (yhat > 0.5))\n",
        "    loss1[n]=cross_entropy(y_train, yhat)\n",
        "\n",
        "    #Calculo backpropagation y actualización de los pesos, tomando en base medidas de entrenamiento\n",
        "    model.backward(y_train, yhat)\n",
        "    model.update(learning_rate)\n",
        "    loss = cross_entropy(y_train, yhat)\n",
        "    print(\"Iteration {} - loss value {} accuracy {}\".format(n, loss, accuracy_score(y_train, (yhat > 0.5))))\n",
        "    \n",
        "    "
      ],
      "metadata": {
        "id": "yDt8xOlO626e",
        "colab": {
          "base_uri": "https://localhost:8080/"
        },
        "outputId": "c0bdc668-10ff-48b5-e814-ab8c3530871f"
      },
      "execution_count": null,
      "outputs": [
        {
          "output_type": "stream",
          "name": "stdout",
          "text": [
            "Iteration 0 - loss value [[172.66729543]] accuracy 0.4462809917355372\n",
            "Iteration 1 - loss value [[172.4971679]] accuracy 0.4462809917355372\n",
            "Iteration 2 - loss value [[172.26847968]] accuracy 0.4462809917355372\n",
            "Iteration 3 - loss value [[171.94817585]] accuracy 0.4462809917355372\n",
            "Iteration 4 - loss value [[171.46875264]] accuracy 0.4462809917355372\n",
            "Iteration 5 - loss value [[170.70587414]] accuracy 0.4462809917355372\n",
            "Iteration 6 - loss value [[169.42588107]] accuracy 0.4462809917355372\n",
            "Iteration 7 - loss value [[167.18862508]] accuracy 0.4462809917355372\n",
            "Iteration 8 - loss value [[163.27453967]] accuracy 0.7355371900826446\n",
            "Iteration 9 - loss value [[156.89897933]] accuracy 0.743801652892562\n",
            "Iteration 10 - loss value [[147.55419204]] accuracy 0.731404958677686\n",
            "Iteration 11 - loss value [[137.51006539]] accuracy 0.7851239669421488\n",
            "Iteration 12 - loss value [[130.59033012]] accuracy 0.7768595041322314\n",
            "Iteration 13 - loss value [[130.47499831]] accuracy 0.8140495867768595\n",
            "Iteration 14 - loss value [[147.87393111]] accuracy 0.7024793388429752\n",
            "Iteration 15 - loss value [[172.71791984]] accuracy 0.4462809917355372\n",
            "Iteration 16 - loss value [[172.44599785]] accuracy 0.45454545454545453\n",
            "Iteration 17 - loss value [[171.90060141]] accuracy 0.45867768595041325\n",
            "Iteration 18 - loss value [[170.61263659]] accuracy 0.4793388429752066\n",
            "Iteration 19 - loss value [[165.18221937]] accuracy 0.5619834710743802\n",
            "Iteration 20 - loss value [[153.37319315]] accuracy 0.640495867768595\n",
            "Iteration 21 - loss value [[129.90280879]] accuracy 0.7975206611570248\n",
            "Iteration 22 - loss value [[132.39113795]] accuracy 0.78099173553719\n",
            "Iteration 23 - loss value [[149.87120307]] accuracy 0.6570247933884298\n",
            "Iteration 24 - loss value [[125.74168125]] accuracy 0.8057851239669421\n",
            "Iteration 25 - loss value [[128.005536]] accuracy 0.8099173553719008\n",
            "Iteration 26 - loss value [[140.78298848]] accuracy 0.7107438016528925\n",
            "Iteration 27 - loss value [[115.12471304]] accuracy 0.8264462809917356\n",
            "Iteration 28 - loss value [[113.50920284]] accuracy 0.8223140495867769\n",
            "Iteration 29 - loss value [[112.23306965]] accuracy 0.8512396694214877\n",
            "Iteration 30 - loss value [[111.3119676]] accuracy 0.8181818181818182\n",
            "Iteration 31 - loss value [[112.88039642]] accuracy 0.859504132231405\n",
            "Iteration 32 - loss value [[128.58788758]] accuracy 0.8057851239669421\n",
            "Iteration 33 - loss value [[144.9143759]] accuracy 0.6570247933884298\n",
            "Iteration 34 - loss value [[125.88306869]] accuracy 0.7644628099173554\n",
            "Iteration 35 - loss value [[111.36613172]] accuracy 0.8140495867768595\n",
            "Iteration 36 - loss value [[117.41377849]] accuracy 0.8140495867768595\n",
            "Iteration 37 - loss value [[124.21584121]] accuracy 0.7933884297520661\n",
            "Iteration 38 - loss value [[139.66967874]] accuracy 0.6859504132231405\n",
            "Iteration 39 - loss value [[117.07513526]] accuracy 0.8140495867768595\n",
            "Iteration 40 - loss value [[117.41373755]] accuracy 0.8181818181818182\n",
            "Iteration 41 - loss value [[130.15297871]] accuracy 0.756198347107438\n",
            "Iteration 42 - loss value [[107.13174716]] accuracy 0.8512396694214877\n",
            "Iteration 43 - loss value [[106.56679473]] accuracy 0.859504132231405\n",
            "Iteration 44 - loss value [[106.15837548]] accuracy 0.8636363636363636\n",
            "Iteration 45 - loss value [[105.86063294]] accuracy 0.859504132231405\n",
            "Iteration 46 - loss value [[106.14331286]] accuracy 0.8512396694214877\n",
            "Iteration 47 - loss value [[108.45309874]] accuracy 0.8388429752066116\n",
            "Iteration 48 - loss value [[110.94705611]] accuracy 0.8181818181818182\n",
            "Iteration 49 - loss value [[121.41455629]] accuracy 0.78099173553719\n",
            "Iteration 50 - loss value [[110.0961657]] accuracy 0.8264462809917356\n",
            "Iteration 51 - loss value [[118.81734361]] accuracy 0.8016528925619835\n",
            "Iteration 52 - loss value [[110.63731458]] accuracy 0.8347107438016529\n",
            "Iteration 53 - loss value [[121.74116053]] accuracy 0.7768595041322314\n",
            "Iteration 54 - loss value [[110.52622935]] accuracy 0.8388429752066116\n",
            "Iteration 55 - loss value [[120.0123416]] accuracy 0.7975206611570248\n",
            "Iteration 56 - loss value [[110.1550124]] accuracy 0.8429752066115702\n",
            "Iteration 57 - loss value [[117.35161931]] accuracy 0.8181818181818182\n",
            "Iteration 58 - loss value [[106.8135198]] accuracy 0.8388429752066116\n",
            "Iteration 59 - loss value [[109.45118704]] accuracy 0.8305785123966942\n",
            "Iteration 60 - loss value [[107.20705146]] accuracy 0.8429752066115702\n",
            "Iteration 61 - loss value [[111.81395246]] accuracy 0.8181818181818182\n",
            "Iteration 62 - loss value [[108.49550025]] accuracy 0.8388429752066116\n",
            "Iteration 63 - loss value [[114.84434553]] accuracy 0.8223140495867769\n",
            "Iteration 64 - loss value [[105.78877127]] accuracy 0.8429752066115702\n",
            "Iteration 65 - loss value [[108.74626648]] accuracy 0.8264462809917356\n",
            "Iteration 66 - loss value [[108.24947236]] accuracy 0.8471074380165289\n",
            "Iteration 67 - loss value [[114.61708136]] accuracy 0.8181818181818182\n",
            "Iteration 68 - loss value [[108.26581887]] accuracy 0.8429752066115702\n",
            "Iteration 69 - loss value [[113.28582541]] accuracy 0.8264462809917356\n",
            "Iteration 70 - loss value [[105.27544139]] accuracy 0.8388429752066116\n",
            "Iteration 71 - loss value [[106.27413037]] accuracy 0.8388429752066116\n",
            "Iteration 72 - loss value [[105.45233013]] accuracy 0.8429752066115702\n",
            "Iteration 73 - loss value [[108.15576128]] accuracy 0.8347107438016529\n",
            "Iteration 74 - loss value [[105.87598308]] accuracy 0.8429752066115702\n",
            "Iteration 75 - loss value [[110.35545108]] accuracy 0.8264462809917356\n",
            "Iteration 76 - loss value [[105.83051868]] accuracy 0.8429752066115702\n",
            "Iteration 77 - loss value [[109.74749256]] accuracy 0.8264462809917356\n",
            "Iteration 78 - loss value [[107.98357295]] accuracy 0.8388429752066116\n",
            "Iteration 79 - loss value [[113.78578239]] accuracy 0.8140495867768595\n",
            "Iteration 80 - loss value [[107.56426352]] accuracy 0.8388429752066116\n",
            "Iteration 81 - loss value [[110.88541116]] accuracy 0.8264462809917356\n",
            "Iteration 82 - loss value [[105.78095924]] accuracy 0.8429752066115702\n",
            "Iteration 83 - loss value [[109.14416694]] accuracy 0.8305785123966942\n",
            "Iteration 84 - loss value [[106.4754317]] accuracy 0.8388429752066116\n",
            "Iteration 85 - loss value [[112.2136914]] accuracy 0.8181818181818182\n",
            "Iteration 86 - loss value [[105.15369835]] accuracy 0.8429752066115702\n",
            "Iteration 87 - loss value [[108.2519058]] accuracy 0.8388429752066116\n",
            "Iteration 88 - loss value [[104.64675376]] accuracy 0.8471074380165289\n",
            "Iteration 89 - loss value [[105.71891924]] accuracy 0.8471074380165289\n",
            "Iteration 90 - loss value [[103.59076638]] accuracy 0.8471074380165289\n",
            "Iteration 91 - loss value [[103.77568065]] accuracy 0.8429752066115702\n",
            "Iteration 92 - loss value [[103.75703807]] accuracy 0.8471074380165289\n",
            "Iteration 93 - loss value [[104.10060876]] accuracy 0.8429752066115702\n",
            "Iteration 94 - loss value [[103.19849548]] accuracy 0.8429752066115702\n",
            "Iteration 95 - loss value [[103.28579416]] accuracy 0.8512396694214877\n",
            "Iteration 96 - loss value [[102.72089001]] accuracy 0.8471074380165289\n",
            "Iteration 97 - loss value [[103.43725325]] accuracy 0.8471074380165289\n",
            "Iteration 98 - loss value [[103.35370657]] accuracy 0.8429752066115702\n",
            "Iteration 99 - loss value [[105.32355544]] accuracy 0.8429752066115702\n",
            "Iteration 100 - loss value [[109.58966783]] accuracy 0.8181818181818182\n",
            "Iteration 101 - loss value [[123.0143663]] accuracy 0.768595041322314\n",
            "Iteration 102 - loss value [[101.6184202]] accuracy 0.8429752066115702\n",
            "Iteration 103 - loss value [[101.3964838]] accuracy 0.8471074380165289\n",
            "Iteration 104 - loss value [[101.22080141]] accuracy 0.8471074380165289\n",
            "Iteration 105 - loss value [[101.05286124]] accuracy 0.8512396694214877\n",
            "Iteration 106 - loss value [[100.73893761]] accuracy 0.8512396694214877\n",
            "Iteration 107 - loss value [[101.76663373]] accuracy 0.8553719008264463\n",
            "Iteration 108 - loss value [[102.90397052]] accuracy 0.8388429752066116\n",
            "Iteration 109 - loss value [[104.55314083]] accuracy 0.8471074380165289\n",
            "Iteration 110 - loss value [[109.0014611]] accuracy 0.8181818181818182\n",
            "Iteration 111 - loss value [[120.41818245]] accuracy 0.78099173553719\n",
            "Iteration 112 - loss value [[100.61508248]] accuracy 0.8471074380165289\n",
            "Iteration 113 - loss value [[101.62226587]] accuracy 0.8553719008264463\n",
            "Iteration 114 - loss value [[101.92593496]] accuracy 0.8388429752066116\n",
            "Iteration 115 - loss value [[101.96227719]] accuracy 0.859504132231405\n",
            "Iteration 116 - loss value [[103.46875995]] accuracy 0.8429752066115702\n",
            "Iteration 117 - loss value [[108.20575858]] accuracy 0.8264462809917356\n",
            "Iteration 118 - loss value [[102.70065302]] accuracy 0.8388429752066116\n",
            "Iteration 119 - loss value [[104.3240621]] accuracy 0.8471074380165289\n",
            "Iteration 120 - loss value [[104.81977359]] accuracy 0.8347107438016529\n",
            "Iteration 121 - loss value [[109.44701192]] accuracy 0.8099173553719008\n",
            "Iteration 122 - loss value [[101.91226923]] accuracy 0.8388429752066116\n",
            "Iteration 123 - loss value [[101.71878333]] accuracy 0.8553719008264463\n",
            "Iteration 124 - loss value [[101.67120549]] accuracy 0.8388429752066116\n",
            "Iteration 125 - loss value [[101.14392995]] accuracy 0.8553719008264463\n",
            "Iteration 126 - loss value [[100.81491098]] accuracy 0.8429752066115702\n",
            "Iteration 127 - loss value [[101.30681378]] accuracy 0.8553719008264463\n",
            "Iteration 128 - loss value [[103.15458542]] accuracy 0.8388429752066116\n",
            "Iteration 129 - loss value [[102.90393312]] accuracy 0.8553719008264463\n",
            "Iteration 130 - loss value [[103.74683742]] accuracy 0.8429752066115702\n",
            "Iteration 131 - loss value [[106.58548133]] accuracy 0.8347107438016529\n",
            "Iteration 132 - loss value [[103.07230048]] accuracy 0.8471074380165289\n",
            "Iteration 133 - loss value [[104.70106169]] accuracy 0.8388429752066116\n",
            "Iteration 134 - loss value [[104.68166094]] accuracy 0.8347107438016529\n",
            "Iteration 135 - loss value [[108.77619719]] accuracy 0.8181818181818182\n",
            "Iteration 136 - loss value [[101.21785791]] accuracy 0.8388429752066116\n",
            "Iteration 137 - loss value [[100.2298073]] accuracy 0.8553719008264463\n",
            "Iteration 138 - loss value [[99.35352316]] accuracy 0.8471074380165289\n",
            "Iteration 139 - loss value [[99.03093166]] accuracy 0.8553719008264463\n",
            "Iteration 140 - loss value [[98.02595866]] accuracy 0.8512396694214877\n",
            "Iteration 141 - loss value [[97.14965764]] accuracy 0.8512396694214877\n",
            "Iteration 142 - loss value [[96.7979138]] accuracy 0.8429752066115702\n",
            "Iteration 143 - loss value [[96.48551069]] accuracy 0.8553719008264463\n",
            "Iteration 144 - loss value [[96.51362306]] accuracy 0.8429752066115702\n",
            "Iteration 145 - loss value [[96.67194296]] accuracy 0.8553719008264463\n",
            "Iteration 146 - loss value [[97.21560518]] accuracy 0.8388429752066116\n",
            "Iteration 147 - loss value [[96.4995409]] accuracy 0.8553719008264463\n",
            "Iteration 148 - loss value [[98.03830844]] accuracy 0.8512396694214877\n",
            "Iteration 149 - loss value [[98.85610698]] accuracy 0.8512396694214877\n"
          ]
        }
      ]
    },
    {
      "cell_type": "markdown",
      "source": [
        "Gráfica de perdida y precision"
      ],
      "metadata": {
        "id": "2LHu_WrG6_0b"
      }
    },
    {
      "cell_type": "code",
      "source": [
        "import matplotlib.pyplot as plt\n",
        "\n",
        "plt.plot(loss1, label = 'Loss_train')\n",
        "plt.plot(loss_test1, label = 'Loss_test')\n",
        "plt.legend()\n",
        "plt.grid()\n",
        "plt.show()\n",
        "\n",
        "plt.plot(accuracy1, label = 'Accuracy_train')\n",
        "plt.plot(accuracy_test1, label = 'Accuracy_test')\n",
        "plt.legend()\n",
        "plt.grid()\n",
        "plt.show()"
      ],
      "metadata": {
        "id": "7WVSZRZ77D4I",
        "colab": {
          "base_uri": "https://localhost:8080/",
          "height": 72
        },
        "outputId": "8cf85466-fbde-4a64-b7f6-eef6ad66a795"
      },
      "execution_count": null,
      "outputs": [
        {
          "output_type": "display_data",
          "data": {
            "text/plain": [
              "<Figure size 432x288 with 1 Axes>"
            ],
            "image/png": "[encoded data removed]"
          },
          "metadata": {
            "needs_background": "light"
          }
        },
        {
          "output_type": "display_data",
          "data": {
            "text/plain": [
              "<Figure size 432x288 with 1 Axes>"
            ],
            "image/png": "[encoded data removed]"
          },
          "metadata": {
            "needs_background": "light"
          }
        }
      ]
    },
    {
      "cell_type": "code",
      "source": [
        "print('Scores: ')\n",
        "print(\"Training set score: {:.3f}\".format(accuracy1[-1]))\n",
        "print(\"Test set score: {:.3f}\".format(accuracy_test1[-1]))"
      ],
      "metadata": {
        "id": "2afazZaF7IDV",
        "colab": {
          "base_uri": "https://localhost:8080/"
        },
        "outputId": "4b53fb28-f97e-44ae-8019-8f1119fae85f"
      },
      "execution_count": null,
      "outputs": [
        {
          "output_type": "stream",
          "name": "stdout",
          "text": [
            "Scores: \n",
            "Training set score: 0.851\n",
            "Test set score: 0.754\n"
          ]
        }
      ]
    },
    {
      "cell_type": "markdown",
      "source": [
        "## Modelo 2 (MLP Sklearn)"
      ],
      "metadata": {
        "id": "ELwpIDYt7O3G"
      }
    },
    {
      "cell_type": "markdown",
      "source": [
        "Con ayuda de la libreria Sklearn, se implementa una red neuronal para clasificación, para esto se intenta tener los mismos hiperparámetros del modelo creado a mano, para ser justos en su comparación, por lo que se cambia su numero de capas ocultas, y de neuronas en la mismas, su número de epocas, su función de activación se usa la relu y para la de salida logisica (sigmoid) y tambien su optimizador, pues el de defecto es adam, que mucho más potente qu la gradiente descendente (opt modelo creado), por lo que se pone la gradiente descendente estocaica, que dentro de las opciones (‘lbfgs’, ‘sgd’, ‘adam’), se considera la más justa, para hacer la más parecida al gradiente descendiente, se usa un batch_size grande, igual a la cantidad de datos de entrenamiento (61).\n",
        "\n",
        "Luego se entrena con los datos de entrenamiento y se calcula el score, que según la documentación de la libreria, es el la precisión promedia."
      ],
      "metadata": {
        "id": "KBQzUNLW7STx"
      }
    },
    {
      "cell_type": "code",
      "source": [
        "from sklearn.neural_network import MLPClassifier\n",
        "\n",
        "clf = MLPClassifier(random_state=1, max_iter=n_epochs,\n",
        "                    hidden_layer_sizes=[4,3], \n",
        "                    solver = 'sgd',\n",
        "                    batch_size = 61,\n",
        "                    activation = 'relu')\n",
        "clf.out_activation_ = 'logistic'\n",
        "clf.fit(x_train, y_train)\n",
        "print('Scores for MLP')\n",
        "print(\"Training set score: {:.3f}\".format(clf.score(x_train, y_train)))\n",
        "print(\"Test set score: {:.3f}\".format(clf.score(x_test, y_test)))"
      ],
      "metadata": {
        "id": "Bbi--Hjr7ZHU",
        "colab": {
          "base_uri": "https://localhost:8080/"
        },
        "outputId": "5936fd89-24aa-479f-b17f-f3bc7b074e86"
      },
      "execution_count": null,
      "outputs": [
        {
          "output_type": "stream",
          "name": "stdout",
          "text": [
            "Scores for MLP\n",
            "Training set score: 0.554\n",
            "Test set score: 0.508\n"
          ]
        },
        {
          "output_type": "stream",
          "name": "stderr",
          "text": [
            "/usr/local/lib/python3.9/dist-packages/sklearn/neural_network/_multilayer_perceptron.py:1098: DataConversionWarning: A column-vector y was passed when a 1d array was expected. Please change the shape of y to (n_samples, ), for example using ravel().\n",
            "  y = column_or_1d(y, warn=True)\n"
          ]
        }
      ]
    },
    {
      "cell_type": "markdown",
      "source": [
        "## Matrices de confusión\n"
      ],
      "metadata": {
        "id": "B7BIy1YW7t34"
      }
    },
    {
      "cell_type": "markdown",
      "source": [
        "Para comparar los dos modelos, se crearon matrices de confusion para cada modelo, con estas se puede realizar un mejor analisis de los resultados de los modelos."
      ],
      "metadata": {
        "id": "ShvwSwOF78li"
      }
    },
    {
      "cell_type": "code",
      "source": [
        "def plot_confusion_matrix(cm, num_classes, opt, normalize=False,cmap=plt.cm.Reds):\n",
        "      \n",
        "      import itertools\n",
        "      \n",
        "      classes = ['Negativo', 'Positivo']\n",
        "\n",
        "      plt.figure(figsize = (5,5))\n",
        "      plt.imshow(cm, interpolation='nearest', cmap=cmap)\n",
        "      plt.title('Matriz de Confusión ' + opt)\n",
        "      plt.colorbar()\n",
        "      tick_marks = np.arange(len(classes))\n",
        "      plt.xticks(tick_marks, classes, rotation=90)\n",
        "      plt.yticks(tick_marks, classes)\n",
        "      if normalize:\n",
        "          cm = cm.astype('float') / cm.sum(axis=1)[:, np.newaxis]\n",
        "          cm = np.round(cm,2)\n",
        "      thresh = cm.max() / 2.\n",
        "      for i, j in itertools.product(range(cm.shape[0]), range(cm.shape[1])):\n",
        "          plt.text(j, i, cm[i, j],\n",
        "                   horizontalalignment=\"center\",\n",
        "                   color=\"white\" if cm[i, j] > thresh else \"black\")\n",
        "      plt.tight_layout()\n",
        "      plt.ylabel('Real')\n",
        "      plt.xlabel('Predicciones')"
      ],
      "metadata": {
        "id": "EZdVkGcO79nJ"
      },
      "execution_count": null,
      "outputs": []
    },
    {
      "cell_type": "markdown",
      "source": [
        "## Confusion Matrix Modelo 1"
      ],
      "metadata": {
        "id": "3vj-QwLN8AEj"
      }
    },
    {
      "cell_type": "code",
      "source": [
        "from sklearn import metrics\n",
        "\n",
        "print(\"Matriz Confusión Modelo 1 \\n\")\n",
        "\n",
        "yhat1 = model.forward(x_test)\n",
        "\n",
        "conf_mat_1 = metrics.confusion_matrix(y_test, (yhat1 > 0.5))\n",
        "plot_confusion_matrix(conf_mat_1, 2, 'Modelo 1')\n",
        "print(metrics.classification_report(y_test, (yhat1 > 0.5)))"
      ],
      "metadata": {
        "id": "bjdumGfA8C0a",
        "colab": {
          "base_uri": "https://localhost:8080/"
        },
        "outputId": "c478aaf1-a1c0-496c-cbe0-dfe0a8e63e66"
      },
      "execution_count": null,
      "outputs": [
        {
          "output_type": "stream",
          "name": "stdout",
          "text": [
            "Matriz Confusión Modelo 1 \n",
            "\n",
            "              precision    recall  f1-score   support\n",
            "\n",
            "         0.0       0.80      0.67      0.73        30\n",
            "         1.0       0.72      0.84      0.78        31\n",
            "\n",
            "    accuracy                           0.75        61\n",
            "   macro avg       0.76      0.75      0.75        61\n",
            "weighted avg       0.76      0.75      0.75        61\n",
            "\n"
          ]
        },
        {
          "output_type": "display_data",
          "data": {
            "text/plain": [
              "<Figure size 360x360 with 2 Axes>"
            ],
            "image/png": "[encoded data removed]"
          },
          "metadata": {
            "needs_background": "light"
          }
        }
      ]
    },
    {
      "cell_type": "markdown",
      "source": [
        "## Confusion Matrix Modelo 2 (MLP Sklearn)"
      ],
      "metadata": {
        "id": "9NxabQmh8UsH"
      }
    },
    {
      "cell_type": "code",
      "source": [
        "print(\"Matriz Confusión Modelo Sklearn \\n\")\n",
        "\n",
        "yhat_sk = clf.predict(x_test)\n",
        "\n",
        "conf_mat_sk = metrics.confusion_matrix(y_test, (yhat_sk > 0.5))\n",
        "plot_confusion_matrix(conf_mat_sk, 2, 'Modelo 2 Sklearn')\n",
        "print(metrics.classification_report(y_test, (yhat_sk > 0.5)))"
      ],
      "metadata": {
        "id": "eHyiJQdy8eIb",
        "colab": {
          "base_uri": "https://localhost:8080/",
          "height": 682
        },
        "outputId": "a5e9bbf2-2a9a-4dee-fa17-bb3dbbd2f8e8"
      },
      "execution_count": null,
      "outputs": [
        {
          "output_type": "stream",
          "name": "stdout",
          "text": [
            "Matriz Confusión Modelo Sklearn \n",
            "\n",
            "              precision    recall  f1-score   support\n",
            "\n",
            "         0.0       0.00      0.00      0.00        30\n",
            "         1.0       0.51      1.00      0.67        31\n",
            "\n",
            "    accuracy                           0.51        61\n",
            "   macro avg       0.25      0.50      0.34        61\n",
            "weighted avg       0.26      0.51      0.34        61\n",
            "\n"
          ]
        },
        {
          "output_type": "stream",
          "name": "stderr",
          "text": [
            "/usr/local/lib/python3.9/dist-packages/sklearn/metrics/_classification.py:1344: UndefinedMetricWarning: Precision and F-score are ill-defined and being set to 0.0 in labels with no predicted samples. Use `zero_division` parameter to control this behavior.\n",
            "  _warn_prf(average, modifier, msg_start, len(result))\n",
            "/usr/local/lib/python3.9/dist-packages/sklearn/metrics/_classification.py:1344: UndefinedMetricWarning: Precision and F-score are ill-defined and being set to 0.0 in labels with no predicted samples. Use `zero_division` parameter to control this behavior.\n",
            "  _warn_prf(average, modifier, msg_start, len(result))\n",
            "/usr/local/lib/python3.9/dist-packages/sklearn/metrics/_classification.py:1344: UndefinedMetricWarning: Precision and F-score are ill-defined and being set to 0.0 in labels with no predicted samples. Use `zero_division` parameter to control this behavior.\n",
            "  _warn_prf(average, modifier, msg_start, len(result))\n"
          ]
        },
        {
          "output_type": "display_data",
          "data": {
            "text/plain": [
              "<Figure size 360x360 with 2 Axes>"
            ],
            "image/png": "[encoded data removed]"
          },
          "metadata": {
            "needs_background": "light"
          }
        }
      ]
    },
    {
      "cell_type": "markdown",
      "source": [
        "En cuanto al desempeño del primer modelo se obtiene que cuenta con un número bajo de falsos negativos, sin embargo, aunque sea bajo, lo ideal es que sea 0 para que no sea mortal en los resultados equivocados.En cuento a los falsos positivos, se tiene una gran cantidad, pero estos solo infunden en la cantidad de examenes médicos que se van a tener que llevar a cabo para descartar.\n",
        "\n",
        "Ahora observando el segundo modelo de Sklearn aunque cuente con una precisión muy baja, no tendría un riesgo grande, pues no hay falsos negativos, sin embargo, tampoco tendría mayor utilidad, pues pasa a todas las personas como que tienen enfermedades cardiacas, por l oque se tendria que realizar examenes a todos.\n",
        "\n",
        "El aumento de neuronas y capas en los problemas de clasificación, puede mejorar el rendimiento de la red, permitiendo un análisis más profundo por parte del modelo, sin embargo, el pasarse con las mismas y el número de epócas puede provacar un sobre entrenamiento, donde solo quedarían bien clasificados los datos de entrenamiento y la red no serviria para recibir datos nuevos, por lo que sería obsoleta. Aunque la pérdida y precisión son buenas medidas para problemas de clasificación, el uso de la matriz de confusión nos permite ver mejor si el modelo sirve o no para la aplicación que lo estamos usando, para lo cual tambien es de vital importancia entender correctamente nuestro dataset, para tomar decisiones sobre que requerimos minizar, si los falsos positivos o los falsos negativos."
      ],
      "metadata": {
        "id": "NoeOtPig9KvE"
      }
    },
    {
      "cell_type": "markdown",
      "source": [
        "# Punto 5"
      ],
      "metadata": {
        "id": "72r29n0XHbc5"
      }
    },
    {
      "cell_type": "markdown",
      "source": [
        "**Data Set** :[Student](https://archive.ics.uci.edu/ml/datasets/Student+Performance)"
      ],
      "metadata": {
        "id": "AzTpEDbXzWOg"
      }
    },
    {
      "cell_type": "code",
      "source": [
        "import pandas as pd\n",
        "import numpy as np\n",
        "import matplotlib.pyplot as plt\n",
        "from sklearn.linear_model import LinearRegression\n",
        "from sklearn.metrics import mean_squared_error\n",
        "from sklearn.model_selection import train_test_split\n",
        "from scipy.linalg import svd\n",
        "from sklearn.decomposition import PCA\n",
        "\n",
        "#leer un archivo CSV desde una URL y crear un DataFrame de Pandas que contiene los datos del archivo CSV\n",
        "df = pd.read_csv('https://raw.githubusercontent.com/guipsamora/pandas_exercises/master/04_Apply/Students_Alcohol_Consumption/student-mat.csv')\n"
      ],
      "metadata": {
        "id": "wwsbJeOSB03_"
      },
      "execution_count": null,
      "outputs": []
    },
    {
      "cell_type": "code",
      "source": [
        "#carga un conjunto de datos de estudiantes y alcohol desde una URL y crea un DataFrame de Pandas\n",
        "url = \"https://raw.githubusercontent.com/guipsamora/pandas_exercises/master/04_Apply/Students_Alcohol_Consumption/student-mat.csv\"\n",
        "pd.set_option('display.max_columns', None)\n",
        "dataset = pd.read_csv(url)\n",
        "dataset.head(5)"
      ],
      "metadata": {
        "id": "Ls_g_MynRNLA",
        "colab": {
          "base_uri": "https://localhost:8080/",
          "height": 270
        },
        "outputId": "952300ab-602d-4cc2-cde9-5f60e005ac52"
      },
      "execution_count": null,
      "outputs": [
        {
          "output_type": "execute_result",
          "data": {
            "text/plain": [
              "  school sex  age address famsize Pstatus  Medu  Fedu     Mjob      Fjob  \\\n",
              "0     GP   F   18       U     GT3       A     4     4  at_home   teacher   \n",
              "1     GP   F   17       U     GT3       T     1     1  at_home     other   \n",
              "2     GP   F   15       U     LE3       T     1     1  at_home     other   \n",
              "3     GP   F   15       U     GT3       T     4     2   health  services   \n",
              "4     GP   F   16       U     GT3       T     3     3    other     other   \n",
              "\n",
              "   reason guardian  traveltime  studytime  failures schoolsup famsup paid  \\\n",
              "0  course   mother           2          2         0       yes     no   no   \n",
              "1  course   father           1          2         0        no    yes   no   \n",
              "2   other   mother           1          2         3       yes     no  yes   \n",
              "3    home   mother           1          3         0        no    yes  yes   \n",
              "4    home   father           1          2         0        no    yes  yes   \n",
              "\n",
              "  activities nursery higher internet romantic  famrel  freetime  goout  Dalc  \\\n",
              "0         no     yes    yes       no       no       4         3      4     1   \n",
              "1         no      no    yes      yes       no       5         3      3     1   \n",
              "2         no     yes    yes      yes       no       4         3      2     2   \n",
              "3        yes     yes    yes      yes      yes       3         2      2     1   \n",
              "4         no     yes    yes       no       no       4         3      2     1   \n",
              "\n",
              "   Walc  health  absences  G1  G2  G3  \n",
              "0     1       3         6   5   6   6  \n",
              "1     1       3         4   5   5   6  \n",
              "2     3       3        10   7   8  10  \n",
              "3     1       5         2  15  14  15  \n",
              "4     2       5         4   6  10  10  "
            ],
            "text/html": [
              "\n",
              "  <div id=\"df-e1b49c95-e0e2-4ea8-9797-fa9c35ae35fd\">\n",
              "    <div class=\"colab-df-container\">\n",
              "      <div>\n",
              "<style scoped>\n",
              "    .dataframe tbody tr th:only-of-type {\n",
              "        vertical-align: middle;\n",
              "    }\n",
              "\n",
              "    .dataframe tbody tr th {\n",
              "        vertical-align: top;\n",
              "    }\n",
              "\n",
              "    .dataframe thead th {\n",
              "        text-align: right;\n",
              "    }\n",
              "</style>\n",
              "<table border=\"1\" class=\"dataframe\">\n",
              "  <thead>\n",
              "    <tr style=\"text-align: right;\">\n",
              "      <th></th>\n",
              "      <th>school</th>\n",
              "      <th>sex</th>\n",
              "      <th>age</th>\n",
              "      <th>address</th>\n",
              "      <th>famsize</th>\n",
              "      <th>Pstatus</th>\n",
              "      <th>Medu</th>\n",
              "      <th>Fedu</th>\n",
              "      <th>Mjob</th>\n",
              "      <th>Fjob</th>\n",
              "      <th>reason</th>\n",
              "      <th>guardian</th>\n",
              "      <th>traveltime</th>\n",
              "      <th>studytime</th>\n",
              "      <th>failures</th>\n",
              "      <th>schoolsup</th>\n",
              "      <th>famsup</th>\n",
              "      <th>paid</th>\n",
              "      <th>activities</th>\n",
              "      <th>nursery</th>\n",
              "      <th>higher</th>\n",
              "      <th>internet</th>\n",
              "      <th>romantic</th>\n",
              "      <th>famrel</th>\n",
              "      <th>freetime</th>\n",
              "      <th>goout</th>\n",
              "      <th>Dalc</th>\n",
              "      <th>Walc</th>\n",
              "      <th>health</th>\n",
              "      <th>absences</th>\n",
              "      <th>G1</th>\n",
              "      <th>G2</th>\n",
              "      <th>G3</th>\n",
              "    </tr>\n",
              "  </thead>\n",
              "  <tbody>\n",
              "    <tr>\n",
              "      <th>0</th>\n",
              "      <td>GP</td>\n",
              "      <td>F</td>\n",
              "      <td>18</td>\n",
              "      <td>U</td>\n",
              "      <td>GT3</td>\n",
              "      <td>A</td>\n",
              "      <td>4</td>\n",
              "      <td>4</td>\n",
              "      <td>at_home</td>\n",
              "      <td>teacher</td>\n",
              "      <td>course</td>\n",
              "      <td>mother</td>\n",
              "      <td>2</td>\n",
              "      <td>2</td>\n",
              "      <td>0</td>\n",
              "      <td>yes</td>\n",
              "      <td>no</td>\n",
              "      <td>no</td>\n",
              "      <td>no</td>\n",
              "      <td>yes</td>\n",
              "      <td>yes</td>\n",
              "      <td>no</td>\n",
              "      <td>no</td>\n",
              "      <td>4</td>\n",
              "      <td>3</td>\n",
              "      <td>4</td>\n",
              "      <td>1</td>\n",
              "      <td>1</td>\n",
              "      <td>3</td>\n",
              "      <td>6</td>\n",
              "      <td>5</td>\n",
              "      <td>6</td>\n",
              "      <td>6</td>\n",
              "    </tr>\n",
              "    <tr>\n",
              "      <th>1</th>\n",
              "      <td>GP</td>\n",
              "      <td>F</td>\n",
              "      <td>17</td>\n",
              "      <td>U</td>\n",
              "      <td>GT3</td>\n",
              "      <td>T</td>\n",
              "      <td>1</td>\n",
              "      <td>1</td>\n",
              "      <td>at_home</td>\n",
              "      <td>other</td>\n",
              "      <td>course</td>\n",
              "      <td>father</td>\n",
              "      <td>1</td>\n",
              "      <td>2</td>\n",
              "      <td>0</td>\n",
              "      <td>no</td>\n",
              "      <td>yes</td>\n",
              "      <td>no</td>\n",
              "      <td>no</td>\n",
              "      <td>no</td>\n",
              "      <td>yes</td>\n",
              "      <td>yes</td>\n",
              "      <td>no</td>\n",
              "      <td>5</td>\n",
              "      <td>3</td>\n",
              "      <td>3</td>\n",
              "      <td>1</td>\n",
              "      <td>1</td>\n",
              "      <td>3</td>\n",
              "      <td>4</td>\n",
              "      <td>5</td>\n",
              "      <td>5</td>\n",
              "      <td>6</td>\n",
              "    </tr>\n",
              "    <tr>\n",
              "      <th>2</th>\n",
              "      <td>GP</td>\n",
              "      <td>F</td>\n",
              "      <td>15</td>\n",
              "      <td>U</td>\n",
              "      <td>LE3</td>\n",
              "      <td>T</td>\n",
              "      <td>1</td>\n",
              "      <td>1</td>\n",
              "      <td>at_home</td>\n",
              "      <td>other</td>\n",
              "      <td>other</td>\n",
              "      <td>mother</td>\n",
              "      <td>1</td>\n",
              "      <td>2</td>\n",
              "      <td>3</td>\n",
              "      <td>yes</td>\n",
              "      <td>no</td>\n",
              "      <td>yes</td>\n",
              "      <td>no</td>\n",
              "      <td>yes</td>\n",
              "      <td>yes</td>\n",
              "      <td>yes</td>\n",
              "      <td>no</td>\n",
              "      <td>4</td>\n",
              "      <td>3</td>\n",
              "      <td>2</td>\n",
              "      <td>2</td>\n",
              "      <td>3</td>\n",
              "      <td>3</td>\n",
              "      <td>10</td>\n",
              "      <td>7</td>\n",
              "      <td>8</td>\n",
              "      <td>10</td>\n",
              "    </tr>\n",
              "    <tr>\n",
              "      <th>3</th>\n",
              "      <td>GP</td>\n",
              "      <td>F</td>\n",
              "      <td>15</td>\n",
              "      <td>U</td>\n",
              "      <td>GT3</td>\n",
              "      <td>T</td>\n",
              "      <td>4</td>\n",
              "      <td>2</td>\n",
              "      <td>health</td>\n",
              "      <td>services</td>\n",
              "      <td>home</td>\n",
              "      <td>mother</td>\n",
              "      <td>1</td>\n",
              "      <td>3</td>\n",
              "      <td>0</td>\n",
              "      <td>no</td>\n",
              "      <td>yes</td>\n",
              "      <td>yes</td>\n",
              "      <td>yes</td>\n",
              "      <td>yes</td>\n",
              "      <td>yes</td>\n",
              "      <td>yes</td>\n",
              "      <td>yes</td>\n",
              "      <td>3</td>\n",
              "      <td>2</td>\n",
              "      <td>2</td>\n",
              "      <td>1</td>\n",
              "      <td>1</td>\n",
              "      <td>5</td>\n",
              "      <td>2</td>\n",
              "      <td>15</td>\n",
              "      <td>14</td>\n",
              "      <td>15</td>\n",
              "    </tr>\n",
              "    <tr>\n",
              "      <th>4</th>\n",
              "      <td>GP</td>\n",
              "      <td>F</td>\n",
              "      <td>16</td>\n",
              "      <td>U</td>\n",
              "      <td>GT3</td>\n",
              "      <td>T</td>\n",
              "      <td>3</td>\n",
              "      <td>3</td>\n",
              "      <td>other</td>\n",
              "      <td>other</td>\n",
              "      <td>home</td>\n",
              "      <td>father</td>\n",
              "      <td>1</td>\n",
              "      <td>2</td>\n",
              "      <td>0</td>\n",
              "      <td>no</td>\n",
              "      <td>yes</td>\n",
              "      <td>yes</td>\n",
              "      <td>no</td>\n",
              "      <td>yes</td>\n",
              "      <td>yes</td>\n",
              "      <td>no</td>\n",
              "      <td>no</td>\n",
              "      <td>4</td>\n",
              "      <td>3</td>\n",
              "      <td>2</td>\n",
              "      <td>1</td>\n",
              "      <td>2</td>\n",
              "      <td>5</td>\n",
              "      <td>4</td>\n",
              "      <td>6</td>\n",
              "      <td>10</td>\n",
              "      <td>10</td>\n",
              "    </tr>\n",
              "  </tbody>\n",
              "</table>\n",
              "</div>\n",
              "      <button class=\"colab-df-convert\" onclick=\"convertToInteractive('df-e1b49c95-e0e2-4ea8-9797-fa9c35ae35fd')\"\n",
              "              title=\"Convert this dataframe to an interactive table.\"\n",
              "              style=\"display:none;\">\n",
              "        \n",
              "  <svg xmlns=\"http://www.w3.org/2000/svg\" height=\"24px\"viewBox=\"0 0 24 24\"\n",
              "       width=\"24px\">\n",
              "    <path d=\"M0 0h24v24H0V0z\" fill=\"none\"/>\n",
              "    <path d=\"M18.56 5.44l.94 2.06.94-2.06 2.06-.94-2.06-.94-.94-2.06-.94 2.06-2.06.94zm-11 1L8.5 8.5l.94-2.06 2.06-.94-2.06-.94L8.5 2.5l-.94 2.06-2.06.94zm10 10l.94 2.06.94-2.06 2.06-.94-2.06-.94-.94-2.06-.94 2.06-2.06.94z\"/><path d=\"M17.41 7.96l-1.37-1.37c-.4-.4-.92-.59-1.43-.59-.52 0-1.04.2-1.43.59L10.3 9.45l-7.72 7.72c-.78.78-.78 2.05 0 2.83L4 21.41c.39.39.9.59 1.41.59.51 0 1.02-.2 1.41-.59l7.78-7.78 2.81-2.81c.8-.78.8-2.07 0-2.86zM5.41 20L4 18.59l7.72-7.72 1.47 1.35L5.41 20z\"/>\n",
              "  </svg>\n",
              "      </button>\n",
              "      \n",
              "  <style>\n",
              "    .colab-df-container {\n",
              "      display:flex;\n",
              "      flex-wrap:wrap;\n",
              "      gap: 12px;\n",
              "    }\n",
              "\n",
              "    .colab-df-convert {\n",
              "      background-color: #E8F0FE;\n",
              "      border: none;\n",
              "      border-radius: 50%;\n",
              "      cursor: pointer;\n",
              "      display: none;\n",
              "      fill: #1967D2;\n",
              "      height: 32px;\n",
              "      padding: 0 0 0 0;\n",
              "      width: 32px;\n",
              "    }\n",
              "\n",
              "    .colab-df-convert:hover {\n",
              "      background-color: #E2EBFA;\n",
              "      box-shadow: 0px 1px 2px rgba(60, 64, 67, 0.3), 0px 1px 3px 1px rgba(60, 64, 67, 0.15);\n",
              "      fill: #174EA6;\n",
              "    }\n",
              "\n",
              "    [theme=dark] .colab-df-convert {\n",
              "      background-color: #3B4455;\n",
              "      fill: #D2E3FC;\n",
              "    }\n",
              "\n",
              "    [theme=dark] .colab-df-convert:hover {\n",
              "      background-color: #434B5C;\n",
              "      box-shadow: 0px 1px 3px 1px rgba(0, 0, 0, 0.15);\n",
              "      filter: drop-shadow(0px 1px 2px rgba(0, 0, 0, 0.3));\n",
              "      fill: #FFFFFF;\n",
              "    }\n",
              "  </style>\n",
              "\n",
              "      <script>\n",
              "        const buttonEl =\n",
              "          document.querySelector('#df-e1b49c95-e0e2-4ea8-9797-fa9c35ae35fd button.colab-df-convert');\n",
              "        buttonEl.style.display =\n",
              "          google.colab.kernel.accessAllowed ? 'block' : 'none';\n",
              "\n",
              "        async function convertToInteractive(key) {\n",
              "          const element = document.querySelector('#df-e1b49c95-e0e2-4ea8-9797-fa9c35ae35fd');\n",
              "          const dataTable =\n",
              "            await google.colab.kernel.invokeFunction('convertToInteractive',\n",
              "                                                     [key], {});\n",
              "          if (!dataTable) return;\n",
              "\n",
              "          const docLinkHtml = 'Like what you see? Visit the ' +\n",
              "            '<a target=\"_blank\" href=https://colab.research.google.com/notebooks/data_table.ipynb>data table notebook</a>'\n",
              "            + ' to learn more about interactive tables.';\n",
              "          element.innerHTML = '';\n",
              "          dataTable['output_type'] = 'display_data';\n",
              "          await google.colab.output.renderOutput(dataTable, element);\n",
              "          const docLink = document.createElement('div');\n",
              "          docLink.innerHTML = docLinkHtml;\n",
              "          element.appendChild(docLink);\n",
              "        }\n",
              "      </script>\n",
              "    </div>\n",
              "  </div>\n",
              "  "
            ]
          },
          "metadata": {},
          "execution_count": 80
        }
      ]
    },
    {
      "cell_type": "code",
      "source": [
        "#Asisgnar DataFrame a las variables X y Y\n",
        "X = df[['age', 'Medu', 'Fedu', 'traveltime', 'studytime']]\n",
        "y = df['G3']\n"
      ],
      "metadata": {
        "id": "Os-VbvG4CwUt"
      },
      "execution_count": null,
      "outputs": []
    },
    {
      "cell_type": "code",
      "source": [
        "# Dividir los datos en un conjunto de entrenamiento y un conjunto de prueba\n",
        "# La variable X contiene las características y la variable y contiene la variable de respuesta\n",
        "# test_size = 0.3 indica que el 30% de los datos se utilizarán para el conjunto de prueba\n",
        "# random_state se establece en 0 para que los resultados sean reproducible\n",
        "\n",
        "X_train, X_test, y_train, y_test = train_test_split(X, y, test_size=0.3, random_state=0)\n",
        "\n",
        "# Crear un modelo de regresión lineal y ajustarlo al conjunto de entrenamiento\n",
        "reg = LinearRegression().fit(X_train, y_train)\n",
        "\n",
        "# Predecir los valores de y para el conjunto de prueba utilizando el modelo ajustado\n",
        "y_pred = reg.predict(X_test)\n"
      ],
      "metadata": {
        "id": "vCuhlrMtCy3g"
      },
      "execution_count": null,
      "outputs": []
    },
    {
      "cell_type": "code",
      "source": [
        "# Calcular el RMSE entre los valores reales y los valores predichos\n",
        "rmse_orig = np.sqrt(mean_squared_error(y_test, y_pred))\n",
        "print('RMSE con todas las variables de entrada:', rmse_orig)\n"
      ],
      "metadata": {
        "colab": {
          "base_uri": "https://localhost:8080/"
        },
        "id": "7vHo4jvvC1ht",
        "outputId": "8613625a-6699-4a10-ea12-efa89add02ac"
      },
      "execution_count": null,
      "outputs": [
        {
          "output_type": "stream",
          "name": "stdout",
          "text": [
            "RMSE con todas las variables de entrada: 5.447230239494682\n"
          ]
        }
      ]
    },
    {
      "cell_type": "code",
      "source": [
        "#SVD reduccion 2\n",
        "# Realizar la descomposición en valores singulares (SVD) de los datos originales\n",
        "U, s, VT = svd(X)\n",
        "# Utilizar las dos primeras componentes principales para reconstruir los datos originales \n",
        "X_2 = U[:, :2] @ np.diag(s[:2]) @ VT[:2, :]\n",
        "# Dividir los datos reducidos en un conjunto de entrenamiento y un conjunto de prueba\n",
        "X_train_2, X_test_2, y_train, y_test = train_test_split(X_2, y, test_size=0.3, random_state=0)\n",
        "# Crear un modelo de regresión lineal y ajustarlo al conjunto de entrenamiento\n",
        "reg_2 = LinearRegression().fit(X_train_2, y_train)\n",
        "# Predecir los valores de y para el conjunto de prueba utilizando el modelo ajustado\n",
        "y_pred_2 = reg_2.predict(X_test_2)\n"
      ],
      "metadata": {
        "id": "DsntgbiYC5RC"
      },
      "execution_count": null,
      "outputs": []
    },
    {
      "cell_type": "code",
      "source": [
        "# Calcular el RMSE entre los valores reales y los valores predichos\n",
        "rmse_2 = np.sqrt(mean_squared_error(y_test, y_pred_2))\n",
        "print('RMSE con 2 variables de entrada:', rmse_2)\n"
      ],
      "metadata": {
        "colab": {
          "base_uri": "https://localhost:8080/"
        },
        "id": "leeEtBbfC7k_",
        "outputId": "0cbbe5b3-4cdd-42bc-e918-81554c0a08f1"
      },
      "execution_count": null,
      "outputs": [
        {
          "output_type": "stream",
          "name": "stdout",
          "text": [
            "RMSE con 2 variables de entrada: 5.374443215391654\n"
          ]
        }
      ]
    },
    {
      "cell_type": "code",
      "source": [
        "#PCA reduccion 2\n",
        "\n",
        "# Realizar una reducción de dimensionalidad de los datos utilizando PCA\n",
        "pca = PCA(n_components=2)\n",
        "X_pca = pca.fit_transform(X)\n",
        "# Dividir los datos reducidos en un conjunto de entrenamiento y un conjunto de prueba\n",
        "X_train, X_test, y_train, y_test = train_test_split(X_pca, y, test_size=0.3, random_state=0)\n",
        "# Ajustar un modelo de regresión lineal a los datos reducidos\n",
        "reg = LinearRegression().fit(X_train, y_train)\n",
        "# Predecir los valores de y para el conjunto de prueba utilizando el modelo ajustado\n",
        "y_pred = reg.predict(X_test)"
      ],
      "metadata": {
        "id": "fI0WYVSdlym1"
      },
      "execution_count": null,
      "outputs": []
    },
    {
      "cell_type": "code",
      "source": [
        "# Calcular el RMSE entre los valores reales y los valores predichos\n",
        "rmse_pca_2 = np.sqrt(mean_squared_error(y_test, y_pred))\n",
        "print('RMSE con 2 variables de entrada:', rmse_pca_2)"
      ],
      "metadata": {
        "colab": {
          "base_uri": "https://localhost:8080/"
        },
        "id": "iR-pQha50uLA",
        "outputId": "3c25ed87-6e74-4e8d-ddd7-59739e23a4be"
      },
      "execution_count": null,
      "outputs": [
        {
          "output_type": "stream",
          "name": "stdout",
          "text": [
            "RMSE con 2 variables de entrada: 5.37609134547973\n"
          ]
        }
      ]
    },
    {
      "cell_type": "code",
      "source": [
        "#SVD reduccion 1\n",
        "\n",
        "# Utilizar la primera componente para reconstruir los datos originales\n",
        "X_1 = U[:, :1] @ np.diag(s[:1]) @ VT[:1, :]\n",
        "# Dividir los datos reducidos en un conjunto de entrenamiento y un conjunto de prueba\n",
        "X_train_1, X_test_1, y_train, y_test = train_test_split(X_1, y, test_size=0.3, random_state=0)\n",
        "# Crear un modelo de regresión lineal y ajustarlo al conjunto de entrenamiento\n",
        "reg_1 = LinearRegression().fit(X_train_1, y_train)\n",
        "# Predecir los valores de y para el conjunto de prueba utilizando el modelo ajustado\n",
        "y_pred_1 = reg_1.predict(X_test_1)\n"
      ],
      "metadata": {
        "id": "AbKYwccrC8l7"
      },
      "execution_count": null,
      "outputs": []
    },
    {
      "cell_type": "code",
      "source": [
        "# Calcular el RMSE entre los valores reales y los valores predichos\n",
        "rmse_1 = np.sqrt(mean_squared_error(y_test, y_pred_1))\n",
        "print('RMSE con 1 variable de entrada:', rmse_1)\n"
      ],
      "metadata": {
        "colab": {
          "base_uri": "https://localhost:8080/"
        },
        "id": "5-gjMwuxDCLn",
        "outputId": "3041f925-542e-4b56-850a-ddbf76231af0"
      },
      "execution_count": null,
      "outputs": [
        {
          "output_type": "stream",
          "name": "stdout",
          "text": [
            "RMSE con 1 variable de entrada: 5.378508787845286\n"
          ]
        }
      ]
    },
    {
      "cell_type": "code",
      "source": [
        "#PCA reduccion 1\n",
        "\n",
        "# Realizar una reducción de dimensionalidad de los datos utilizando PCA\n",
        "pca = PCA(n_components=1)\n",
        "X_pca = pca.fit_transform(X)\n",
        "# Dividir los datos reducidos en un conjunto de entrenamiento y un conjunto de prueba\n",
        "X_train, X_test, y_train, y_test = train_test_split(X_pca, y, test_size=0.3, random_state=0)\n",
        "# Ajustar un modelo de regresión lineal a los datos reducidos\n",
        "reg = LinearRegression().fit(X_train, y_train)\n",
        "# Predecir los valores de y para el conjunto de prueba utilizando el modelo ajustado\n",
        "y_pred = reg.predict(X_test)"
      ],
      "metadata": {
        "id": "oCRObr181kZT"
      },
      "execution_count": null,
      "outputs": []
    },
    {
      "cell_type": "code",
      "source": [
        "# Calcular el RMSE entre los valores reales y los valores predichos\n",
        "rmse_pca_1 = np.sqrt(mean_squared_error(y_test, y_pred))\n",
        "print('RMSE con 1 variables de entrada:', rmse_pca_1)"
      ],
      "metadata": {
        "colab": {
          "base_uri": "https://localhost:8080/"
        },
        "id": "2li3mFmD1kC4",
        "outputId": "ba8b5cde-19b4-4f60-91fd-a7f852928020"
      },
      "execution_count": null,
      "outputs": [
        {
          "output_type": "stream",
          "name": "stdout",
          "text": [
            "RMSE con 1 variables de entrada: 5.376476945206435\n"
          ]
        }
      ]
    },
    {
      "cell_type": "code",
      "source": [
        "print('RMSE con todas las variables de entrada:', rmse_orig)\n",
        "print('----------------------------------------')\n",
        "print('RMSE - SVD con 2 variables de entrada:', rmse_2)\n",
        "print('RMSE - SVD con 1 variable de entrada: ', rmse_1)\n",
        "print('----------------------------------------')\n",
        "print('RMSE - PCA con 2 variables de entrada:', rmse_pca_2)\n",
        "print('RMSE - PCA con 1 variable de entrada:', rmse_pca_1)\n"
      ],
      "metadata": {
        "colab": {
          "base_uri": "https://localhost:8080/"
        },
        "id": "Vq2MOR53DEq6",
        "outputId": "7204301f-a6f7-459b-c7bf-0c82d3f0c1f8"
      },
      "execution_count": null,
      "outputs": [
        {
          "output_type": "stream",
          "name": "stdout",
          "text": [
            "RMSE con todas las variables de entrada: 5.447230239494682\n",
            "----------------------------------------\n",
            "RMSE - SVD con 2 variables de entrada: 5.374443215391654\n",
            "RMSE - SVD con 1 variable de entrada:  5.378508787845286\n",
            "----------------------------------------\n",
            "RMSE - PCA con 2 variables de entrada: 5.37609134547973\n",
            "RMSE - PCA con 1 variable de entrada: 5.376476945206435\n"
          ]
        }
      ]
    }
  ]
}
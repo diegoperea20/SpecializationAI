{
  "nbformat": 4,
  "nbformat_minor": 0,
  "metadata": {
    "colab": {
      "provenance": []
    },
    "kernelspec": {
      "name": "python3",
      "display_name": "Python 3"
    },
    "language_info": {
      "name": "python"
    }
  },
  "cells": [
    {
      "cell_type": "markdown",
      "source": [
        "#TAREA 1: PROBLEMAS DE REGRESIÓN\n",
        "***\n",
        "##Equipo de trabajo\n",
        "###Samir Hassan - 2190041\n",
        "###Gabriel Jeannot - 2185887\n",
        "###Carlos Osorio - 2230894\n",
        "###Luis Pareja - 2185833\n",
        "###Diego Perea - 2185751"
      ],
      "metadata": {
        "id": "i9IGqd0QpZ4y"
      }
    },
    {
      "cell_type": "markdown",
      "source": [
        "# Libraries"
      ],
      "metadata": {
        "id": "bSUI4s70d1_b"
      }
    },
    {
      "cell_type": "code",
      "source": [
        "import pandas as pd\n",
        "import numpy as np\n",
        "from sklearn.linear_model import LinearRegression, Lasso, Ridge\n",
        "from sklearn.model_selection import train_test_split\n",
        "from sklearn.metrics import r2_score, mean_squared_error\n",
        "from scipy.stats import pearsonr\n",
        "import matplotlib.pyplot as plt"
      ],
      "metadata": {
        "id": "Q6z-CqKNrawN"
      },
      "execution_count": null,
      "outputs": []
    },
    {
      "cell_type": "markdown",
      "source": [
        "#Load Dataset"
      ],
      "metadata": {
        "id": "oJUysPZ7dip4"
      }
    },
    {
      "cell_type": "code",
      "source": [
        "#Print the total time taken to execute the code\n",
        "#import time\n",
        "#start_time = time.time()\n",
        "\n",
        "# Load the dataset\n",
        "dataset = pd.read_csv('https://raw.githubusercontent.com/shrikant-temburwar/Wine-Quality-Dataset/master/winequality-red.csv',sep=';' )\n",
        "dataset"
      ],
      "metadata": {
        "colab": {
          "base_uri": "https://localhost:8080/",
          "height": 423
        },
        "id": "z4Jg0_SepByc",
        "outputId": "07a5e4d7-bb9a-47cb-c75c-c15494f2dacf"
      },
      "execution_count": null,
      "outputs": [
        {
          "output_type": "execute_result",
          "data": {
            "text/plain": [
              "      fixed acidity  volatile acidity  citric acid  residual sugar  chlorides  \\\n",
              "0               7.4             0.700         0.00             1.9      0.076   \n",
              "1               7.8             0.880         0.00             2.6      0.098   \n",
              "2               7.8             0.760         0.04             2.3      0.092   \n",
              "3              11.2             0.280         0.56             1.9      0.075   \n",
              "4               7.4             0.700         0.00             1.9      0.076   \n",
              "...             ...               ...          ...             ...        ...   \n",
              "1594            6.2             0.600         0.08             2.0      0.090   \n",
              "1595            5.9             0.550         0.10             2.2      0.062   \n",
              "1596            6.3             0.510         0.13             2.3      0.076   \n",
              "1597            5.9             0.645         0.12             2.0      0.075   \n",
              "1598            6.0             0.310         0.47             3.6      0.067   \n",
              "\n",
              "      free sulfur dioxide  total sulfur dioxide  density    pH  sulphates  \\\n",
              "0                    11.0                  34.0  0.99780  3.51       0.56   \n",
              "1                    25.0                  67.0  0.99680  3.20       0.68   \n",
              "2                    15.0                  54.0  0.99700  3.26       0.65   \n",
              "3                    17.0                  60.0  0.99800  3.16       0.58   \n",
              "4                    11.0                  34.0  0.99780  3.51       0.56   \n",
              "...                   ...                   ...      ...   ...        ...   \n",
              "1594                 32.0                  44.0  0.99490  3.45       0.58   \n",
              "1595                 39.0                  51.0  0.99512  3.52       0.76   \n",
              "1596                 29.0                  40.0  0.99574  3.42       0.75   \n",
              "1597                 32.0                  44.0  0.99547  3.57       0.71   \n",
              "1598                 18.0                  42.0  0.99549  3.39       0.66   \n",
              "\n",
              "      alcohol  quality  \n",
              "0         9.4        5  \n",
              "1         9.8        5  \n",
              "2         9.8        5  \n",
              "3         9.8        6  \n",
              "4         9.4        5  \n",
              "...       ...      ...  \n",
              "1594     10.5        5  \n",
              "1595     11.2        6  \n",
              "1596     11.0        6  \n",
              "1597     10.2        5  \n",
              "1598     11.0        6  \n",
              "\n",
              "[1599 rows x 12 columns]"
            ],
            "text/html": [
              "\n",
              "  <div id=\"df-3c2ac823-9e4b-4962-bdfe-454122e79ffa\">\n",
              "    <div class=\"colab-df-container\">\n",
              "      <div>\n",
              "<style scoped>\n",
              "    .dataframe tbody tr th:only-of-type {\n",
              "        vertical-align: middle;\n",
              "    }\n",
              "\n",
              "    .dataframe tbody tr th {\n",
              "        vertical-align: top;\n",
              "    }\n",
              "\n",
              "    .dataframe thead th {\n",
              "        text-align: right;\n",
              "    }\n",
              "</style>\n",
              "<table border=\"1\" class=\"dataframe\">\n",
              "  <thead>\n",
              "    <tr style=\"text-align: right;\">\n",
              "      <th></th>\n",
              "      <th>fixed acidity</th>\n",
              "      <th>volatile acidity</th>\n",
              "      <th>citric acid</th>\n",
              "      <th>residual sugar</th>\n",
              "      <th>chlorides</th>\n",
              "      <th>free sulfur dioxide</th>\n",
              "      <th>total sulfur dioxide</th>\n",
              "      <th>density</th>\n",
              "      <th>pH</th>\n",
              "      <th>sulphates</th>\n",
              "      <th>alcohol</th>\n",
              "      <th>quality</th>\n",
              "    </tr>\n",
              "  </thead>\n",
              "  <tbody>\n",
              "    <tr>\n",
              "      <th>0</th>\n",
              "      <td>7.4</td>\n",
              "      <td>0.700</td>\n",
              "      <td>0.00</td>\n",
              "      <td>1.9</td>\n",
              "      <td>0.076</td>\n",
              "      <td>11.0</td>\n",
              "      <td>34.0</td>\n",
              "      <td>0.99780</td>\n",
              "      <td>3.51</td>\n",
              "      <td>0.56</td>\n",
              "      <td>9.4</td>\n",
              "      <td>5</td>\n",
              "    </tr>\n",
              "    <tr>\n",
              "      <th>1</th>\n",
              "      <td>7.8</td>\n",
              "      <td>0.880</td>\n",
              "      <td>0.00</td>\n",
              "      <td>2.6</td>\n",
              "      <td>0.098</td>\n",
              "      <td>25.0</td>\n",
              "      <td>67.0</td>\n",
              "      <td>0.99680</td>\n",
              "      <td>3.20</td>\n",
              "      <td>0.68</td>\n",
              "      <td>9.8</td>\n",
              "      <td>5</td>\n",
              "    </tr>\n",
              "    <tr>\n",
              "      <th>2</th>\n",
              "      <td>7.8</td>\n",
              "      <td>0.760</td>\n",
              "      <td>0.04</td>\n",
              "      <td>2.3</td>\n",
              "      <td>0.092</td>\n",
              "      <td>15.0</td>\n",
              "      <td>54.0</td>\n",
              "      <td>0.99700</td>\n",
              "      <td>3.26</td>\n",
              "      <td>0.65</td>\n",
              "      <td>9.8</td>\n",
              "      <td>5</td>\n",
              "    </tr>\n",
              "    <tr>\n",
              "      <th>3</th>\n",
              "      <td>11.2</td>\n",
              "      <td>0.280</td>\n",
              "      <td>0.56</td>\n",
              "      <td>1.9</td>\n",
              "      <td>0.075</td>\n",
              "      <td>17.0</td>\n",
              "      <td>60.0</td>\n",
              "      <td>0.99800</td>\n",
              "      <td>3.16</td>\n",
              "      <td>0.58</td>\n",
              "      <td>9.8</td>\n",
              "      <td>6</td>\n",
              "    </tr>\n",
              "    <tr>\n",
              "      <th>4</th>\n",
              "      <td>7.4</td>\n",
              "      <td>0.700</td>\n",
              "      <td>0.00</td>\n",
              "      <td>1.9</td>\n",
              "      <td>0.076</td>\n",
              "      <td>11.0</td>\n",
              "      <td>34.0</td>\n",
              "      <td>0.99780</td>\n",
              "      <td>3.51</td>\n",
              "      <td>0.56</td>\n",
              "      <td>9.4</td>\n",
              "      <td>5</td>\n",
              "    </tr>\n",
              "    <tr>\n",
              "      <th>...</th>\n",
              "      <td>...</td>\n",
              "      <td>...</td>\n",
              "      <td>...</td>\n",
              "      <td>...</td>\n",
              "      <td>...</td>\n",
              "      <td>...</td>\n",
              "      <td>...</td>\n",
              "      <td>...</td>\n",
              "      <td>...</td>\n",
              "      <td>...</td>\n",
              "      <td>...</td>\n",
              "      <td>...</td>\n",
              "    </tr>\n",
              "    <tr>\n",
              "      <th>1594</th>\n",
              "      <td>6.2</td>\n",
              "      <td>0.600</td>\n",
              "      <td>0.08</td>\n",
              "      <td>2.0</td>\n",
              "      <td>0.090</td>\n",
              "      <td>32.0</td>\n",
              "      <td>44.0</td>\n",
              "      <td>0.99490</td>\n",
              "      <td>3.45</td>\n",
              "      <td>0.58</td>\n",
              "      <td>10.5</td>\n",
              "      <td>5</td>\n",
              "    </tr>\n",
              "    <tr>\n",
              "      <th>1595</th>\n",
              "      <td>5.9</td>\n",
              "      <td>0.550</td>\n",
              "      <td>0.10</td>\n",
              "      <td>2.2</td>\n",
              "      <td>0.062</td>\n",
              "      <td>39.0</td>\n",
              "      <td>51.0</td>\n",
              "      <td>0.99512</td>\n",
              "      <td>3.52</td>\n",
              "      <td>0.76</td>\n",
              "      <td>11.2</td>\n",
              "      <td>6</td>\n",
              "    </tr>\n",
              "    <tr>\n",
              "      <th>1596</th>\n",
              "      <td>6.3</td>\n",
              "      <td>0.510</td>\n",
              "      <td>0.13</td>\n",
              "      <td>2.3</td>\n",
              "      <td>0.076</td>\n",
              "      <td>29.0</td>\n",
              "      <td>40.0</td>\n",
              "      <td>0.99574</td>\n",
              "      <td>3.42</td>\n",
              "      <td>0.75</td>\n",
              "      <td>11.0</td>\n",
              "      <td>6</td>\n",
              "    </tr>\n",
              "    <tr>\n",
              "      <th>1597</th>\n",
              "      <td>5.9</td>\n",
              "      <td>0.645</td>\n",
              "      <td>0.12</td>\n",
              "      <td>2.0</td>\n",
              "      <td>0.075</td>\n",
              "      <td>32.0</td>\n",
              "      <td>44.0</td>\n",
              "      <td>0.99547</td>\n",
              "      <td>3.57</td>\n",
              "      <td>0.71</td>\n",
              "      <td>10.2</td>\n",
              "      <td>5</td>\n",
              "    </tr>\n",
              "    <tr>\n",
              "      <th>1598</th>\n",
              "      <td>6.0</td>\n",
              "      <td>0.310</td>\n",
              "      <td>0.47</td>\n",
              "      <td>3.6</td>\n",
              "      <td>0.067</td>\n",
              "      <td>18.0</td>\n",
              "      <td>42.0</td>\n",
              "      <td>0.99549</td>\n",
              "      <td>3.39</td>\n",
              "      <td>0.66</td>\n",
              "      <td>11.0</td>\n",
              "      <td>6</td>\n",
              "    </tr>\n",
              "  </tbody>\n",
              "</table>\n",
              "<p>1599 rows × 12 columns</p>\n",
              "</div>\n",
              "      <button class=\"colab-df-convert\" onclick=\"convertToInteractive('df-3c2ac823-9e4b-4962-bdfe-454122e79ffa')\"\n",
              "              title=\"Convert this dataframe to an interactive table.\"\n",
              "              style=\"display:none;\">\n",
              "        \n",
              "  <svg xmlns=\"http://www.w3.org/2000/svg\" height=\"24px\"viewBox=\"0 0 24 24\"\n",
              "       width=\"24px\">\n",
              "    <path d=\"M0 0h24v24H0V0z\" fill=\"none\"/>\n",
              "    <path d=\"M18.56 5.44l.94 2.06.94-2.06 2.06-.94-2.06-.94-.94-2.06-.94 2.06-2.06.94zm-11 1L8.5 8.5l.94-2.06 2.06-.94-2.06-.94L8.5 2.5l-.94 2.06-2.06.94zm10 10l.94 2.06.94-2.06 2.06-.94-2.06-.94-.94-2.06-.94 2.06-2.06.94z\"/><path d=\"M17.41 7.96l-1.37-1.37c-.4-.4-.92-.59-1.43-.59-.52 0-1.04.2-1.43.59L10.3 9.45l-7.72 7.72c-.78.78-.78 2.05 0 2.83L4 21.41c.39.39.9.59 1.41.59.51 0 1.02-.2 1.41-.59l7.78-7.78 2.81-2.81c.8-.78.8-2.07 0-2.86zM5.41 20L4 18.59l7.72-7.72 1.47 1.35L5.41 20z\"/>\n",
              "  </svg>\n",
              "      </button>\n",
              "      \n",
              "  <style>\n",
              "    .colab-df-container {\n",
              "      display:flex;\n",
              "      flex-wrap:wrap;\n",
              "      gap: 12px;\n",
              "    }\n",
              "\n",
              "    .colab-df-convert {\n",
              "      background-color: #E8F0FE;\n",
              "      border: none;\n",
              "      border-radius: 50%;\n",
              "      cursor: pointer;\n",
              "      display: none;\n",
              "      fill: #1967D2;\n",
              "      height: 32px;\n",
              "      padding: 0 0 0 0;\n",
              "      width: 32px;\n",
              "    }\n",
              "\n",
              "    .colab-df-convert:hover {\n",
              "      background-color: #E2EBFA;\n",
              "      box-shadow: 0px 1px 2px rgba(60, 64, 67, 0.3), 0px 1px 3px 1px rgba(60, 64, 67, 0.15);\n",
              "      fill: #174EA6;\n",
              "    }\n",
              "\n",
              "    [theme=dark] .colab-df-convert {\n",
              "      background-color: #3B4455;\n",
              "      fill: #D2E3FC;\n",
              "    }\n",
              "\n",
              "    [theme=dark] .colab-df-convert:hover {\n",
              "      background-color: #434B5C;\n",
              "      box-shadow: 0px 1px 3px 1px rgba(0, 0, 0, 0.15);\n",
              "      filter: drop-shadow(0px 1px 2px rgba(0, 0, 0, 0.3));\n",
              "      fill: #FFFFFF;\n",
              "    }\n",
              "  </style>\n",
              "\n",
              "      <script>\n",
              "        const buttonEl =\n",
              "          document.querySelector('#df-3c2ac823-9e4b-4962-bdfe-454122e79ffa button.colab-df-convert');\n",
              "        buttonEl.style.display =\n",
              "          google.colab.kernel.accessAllowed ? 'block' : 'none';\n",
              "\n",
              "        async function convertToInteractive(key) {\n",
              "          const element = document.querySelector('#df-3c2ac823-9e4b-4962-bdfe-454122e79ffa');\n",
              "          const dataTable =\n",
              "            await google.colab.kernel.invokeFunction('convertToInteractive',\n",
              "                                                     [key], {});\n",
              "          if (!dataTable) return;\n",
              "\n",
              "          const docLinkHtml = 'Like what you see? Visit the ' +\n",
              "            '<a target=\"_blank\" href=https://colab.research.google.com/notebooks/data_table.ipynb>data table notebook</a>'\n",
              "            + ' to learn more about interactive tables.';\n",
              "          element.innerHTML = '';\n",
              "          dataTable['output_type'] = 'display_data';\n",
              "          await google.colab.output.renderOutput(dataTable, element);\n",
              "          const docLink = document.createElement('div');\n",
              "          docLink.innerHTML = docLinkHtml;\n",
              "          element.appendChild(docLink);\n",
              "        }\n",
              "      </script>\n",
              "    </div>\n",
              "  </div>\n",
              "  "
            ]
          },
          "metadata": {},
          "execution_count": 2
        }
      ]
    },
    {
      "cell_type": "code",
      "source": [
        "dataset.describe()"
      ],
      "metadata": {
        "colab": {
          "base_uri": "https://localhost:8080/",
          "height": 300
        },
        "id": "k1KozYsBpTsx",
        "outputId": "2868e43c-c614-4c3b-c265-23c4ded07090"
      },
      "execution_count": null,
      "outputs": [
        {
          "output_type": "execute_result",
          "data": {
            "text/plain": [
              "       fixed acidity  volatile acidity  citric acid  residual sugar  \\\n",
              "count    1599.000000       1599.000000  1599.000000     1599.000000   \n",
              "mean        8.319637          0.527821     0.270976        2.538806   \n",
              "std         1.741096          0.179060     0.194801        1.409928   \n",
              "min         4.600000          0.120000     0.000000        0.900000   \n",
              "25%         7.100000          0.390000     0.090000        1.900000   \n",
              "50%         7.900000          0.520000     0.260000        2.200000   \n",
              "75%         9.200000          0.640000     0.420000        2.600000   \n",
              "max        15.900000          1.580000     1.000000       15.500000   \n",
              "\n",
              "         chlorides  free sulfur dioxide  total sulfur dioxide      density  \\\n",
              "count  1599.000000          1599.000000           1599.000000  1599.000000   \n",
              "mean      0.087467            15.874922             46.467792     0.996747   \n",
              "std       0.047065            10.460157             32.895324     0.001887   \n",
              "min       0.012000             1.000000              6.000000     0.990070   \n",
              "25%       0.070000             7.000000             22.000000     0.995600   \n",
              "50%       0.079000            14.000000             38.000000     0.996750   \n",
              "75%       0.090000            21.000000             62.000000     0.997835   \n",
              "max       0.611000            72.000000            289.000000     1.003690   \n",
              "\n",
              "                pH    sulphates      alcohol      quality  \n",
              "count  1599.000000  1599.000000  1599.000000  1599.000000  \n",
              "mean      3.311113     0.658149    10.422983     5.636023  \n",
              "std       0.154386     0.169507     1.065668     0.807569  \n",
              "min       2.740000     0.330000     8.400000     3.000000  \n",
              "25%       3.210000     0.550000     9.500000     5.000000  \n",
              "50%       3.310000     0.620000    10.200000     6.000000  \n",
              "75%       3.400000     0.730000    11.100000     6.000000  \n",
              "max       4.010000     2.000000    14.900000     8.000000  "
            ],
            "text/html": [
              "\n",
              "  <div id=\"df-249c1e40-2f3f-43bf-89d1-dcc04b009f4f\">\n",
              "    <div class=\"colab-df-container\">\n",
              "      <div>\n",
              "<style scoped>\n",
              "    .dataframe tbody tr th:only-of-type {\n",
              "        vertical-align: middle;\n",
              "    }\n",
              "\n",
              "    .dataframe tbody tr th {\n",
              "        vertical-align: top;\n",
              "    }\n",
              "\n",
              "    .dataframe thead th {\n",
              "        text-align: right;\n",
              "    }\n",
              "</style>\n",
              "<table border=\"1\" class=\"dataframe\">\n",
              "  <thead>\n",
              "    <tr style=\"text-align: right;\">\n",
              "      <th></th>\n",
              "      <th>fixed acidity</th>\n",
              "      <th>volatile acidity</th>\n",
              "      <th>citric acid</th>\n",
              "      <th>residual sugar</th>\n",
              "      <th>chlorides</th>\n",
              "      <th>free sulfur dioxide</th>\n",
              "      <th>total sulfur dioxide</th>\n",
              "      <th>density</th>\n",
              "      <th>pH</th>\n",
              "      <th>sulphates</th>\n",
              "      <th>alcohol</th>\n",
              "      <th>quality</th>\n",
              "    </tr>\n",
              "  </thead>\n",
              "  <tbody>\n",
              "    <tr>\n",
              "      <th>count</th>\n",
              "      <td>1599.000000</td>\n",
              "      <td>1599.000000</td>\n",
              "      <td>1599.000000</td>\n",
              "      <td>1599.000000</td>\n",
              "      <td>1599.000000</td>\n",
              "      <td>1599.000000</td>\n",
              "      <td>1599.000000</td>\n",
              "      <td>1599.000000</td>\n",
              "      <td>1599.000000</td>\n",
              "      <td>1599.000000</td>\n",
              "      <td>1599.000000</td>\n",
              "      <td>1599.000000</td>\n",
              "    </tr>\n",
              "    <tr>\n",
              "      <th>mean</th>\n",
              "      <td>8.319637</td>\n",
              "      <td>0.527821</td>\n",
              "      <td>0.270976</td>\n",
              "      <td>2.538806</td>\n",
              "      <td>0.087467</td>\n",
              "      <td>15.874922</td>\n",
              "      <td>46.467792</td>\n",
              "      <td>0.996747</td>\n",
              "      <td>3.311113</td>\n",
              "      <td>0.658149</td>\n",
              "      <td>10.422983</td>\n",
              "      <td>5.636023</td>\n",
              "    </tr>\n",
              "    <tr>\n",
              "      <th>std</th>\n",
              "      <td>1.741096</td>\n",
              "      <td>0.179060</td>\n",
              "      <td>0.194801</td>\n",
              "      <td>1.409928</td>\n",
              "      <td>0.047065</td>\n",
              "      <td>10.460157</td>\n",
              "      <td>32.895324</td>\n",
              "      <td>0.001887</td>\n",
              "      <td>0.154386</td>\n",
              "      <td>0.169507</td>\n",
              "      <td>1.065668</td>\n",
              "      <td>0.807569</td>\n",
              "    </tr>\n",
              "    <tr>\n",
              "      <th>min</th>\n",
              "      <td>4.600000</td>\n",
              "      <td>0.120000</td>\n",
              "      <td>0.000000</td>\n",
              "      <td>0.900000</td>\n",
              "      <td>0.012000</td>\n",
              "      <td>1.000000</td>\n",
              "      <td>6.000000</td>\n",
              "      <td>0.990070</td>\n",
              "      <td>2.740000</td>\n",
              "      <td>0.330000</td>\n",
              "      <td>8.400000</td>\n",
              "      <td>3.000000</td>\n",
              "    </tr>\n",
              "    <tr>\n",
              "      <th>25%</th>\n",
              "      <td>7.100000</td>\n",
              "      <td>0.390000</td>\n",
              "      <td>0.090000</td>\n",
              "      <td>1.900000</td>\n",
              "      <td>0.070000</td>\n",
              "      <td>7.000000</td>\n",
              "      <td>22.000000</td>\n",
              "      <td>0.995600</td>\n",
              "      <td>3.210000</td>\n",
              "      <td>0.550000</td>\n",
              "      <td>9.500000</td>\n",
              "      <td>5.000000</td>\n",
              "    </tr>\n",
              "    <tr>\n",
              "      <th>50%</th>\n",
              "      <td>7.900000</td>\n",
              "      <td>0.520000</td>\n",
              "      <td>0.260000</td>\n",
              "      <td>2.200000</td>\n",
              "      <td>0.079000</td>\n",
              "      <td>14.000000</td>\n",
              "      <td>38.000000</td>\n",
              "      <td>0.996750</td>\n",
              "      <td>3.310000</td>\n",
              "      <td>0.620000</td>\n",
              "      <td>10.200000</td>\n",
              "      <td>6.000000</td>\n",
              "    </tr>\n",
              "    <tr>\n",
              "      <th>75%</th>\n",
              "      <td>9.200000</td>\n",
              "      <td>0.640000</td>\n",
              "      <td>0.420000</td>\n",
              "      <td>2.600000</td>\n",
              "      <td>0.090000</td>\n",
              "      <td>21.000000</td>\n",
              "      <td>62.000000</td>\n",
              "      <td>0.997835</td>\n",
              "      <td>3.400000</td>\n",
              "      <td>0.730000</td>\n",
              "      <td>11.100000</td>\n",
              "      <td>6.000000</td>\n",
              "    </tr>\n",
              "    <tr>\n",
              "      <th>max</th>\n",
              "      <td>15.900000</td>\n",
              "      <td>1.580000</td>\n",
              "      <td>1.000000</td>\n",
              "      <td>15.500000</td>\n",
              "      <td>0.611000</td>\n",
              "      <td>72.000000</td>\n",
              "      <td>289.000000</td>\n",
              "      <td>1.003690</td>\n",
              "      <td>4.010000</td>\n",
              "      <td>2.000000</td>\n",
              "      <td>14.900000</td>\n",
              "      <td>8.000000</td>\n",
              "    </tr>\n",
              "  </tbody>\n",
              "</table>\n",
              "</div>\n",
              "      <button class=\"colab-df-convert\" onclick=\"convertToInteractive('df-249c1e40-2f3f-43bf-89d1-dcc04b009f4f')\"\n",
              "              title=\"Convert this dataframe to an interactive table.\"\n",
              "              style=\"display:none;\">\n",
              "        \n",
              "  <svg xmlns=\"http://www.w3.org/2000/svg\" height=\"24px\"viewBox=\"0 0 24 24\"\n",
              "       width=\"24px\">\n",
              "    <path d=\"M0 0h24v24H0V0z\" fill=\"none\"/>\n",
              "    <path d=\"M18.56 5.44l.94 2.06.94-2.06 2.06-.94-2.06-.94-.94-2.06-.94 2.06-2.06.94zm-11 1L8.5 8.5l.94-2.06 2.06-.94-2.06-.94L8.5 2.5l-.94 2.06-2.06.94zm10 10l.94 2.06.94-2.06 2.06-.94-2.06-.94-.94-2.06-.94 2.06-2.06.94z\"/><path d=\"M17.41 7.96l-1.37-1.37c-.4-.4-.92-.59-1.43-.59-.52 0-1.04.2-1.43.59L10.3 9.45l-7.72 7.72c-.78.78-.78 2.05 0 2.83L4 21.41c.39.39.9.59 1.41.59.51 0 1.02-.2 1.41-.59l7.78-7.78 2.81-2.81c.8-.78.8-2.07 0-2.86zM5.41 20L4 18.59l7.72-7.72 1.47 1.35L5.41 20z\"/>\n",
              "  </svg>\n",
              "      </button>\n",
              "      \n",
              "  <style>\n",
              "    .colab-df-container {\n",
              "      display:flex;\n",
              "      flex-wrap:wrap;\n",
              "      gap: 12px;\n",
              "    }\n",
              "\n",
              "    .colab-df-convert {\n",
              "      background-color: #E8F0FE;\n",
              "      border: none;\n",
              "      border-radius: 50%;\n",
              "      cursor: pointer;\n",
              "      display: none;\n",
              "      fill: #1967D2;\n",
              "      height: 32px;\n",
              "      padding: 0 0 0 0;\n",
              "      width: 32px;\n",
              "    }\n",
              "\n",
              "    .colab-df-convert:hover {\n",
              "      background-color: #E2EBFA;\n",
              "      box-shadow: 0px 1px 2px rgba(60, 64, 67, 0.3), 0px 1px 3px 1px rgba(60, 64, 67, 0.15);\n",
              "      fill: #174EA6;\n",
              "    }\n",
              "\n",
              "    [theme=dark] .colab-df-convert {\n",
              "      background-color: #3B4455;\n",
              "      fill: #D2E3FC;\n",
              "    }\n",
              "\n",
              "    [theme=dark] .colab-df-convert:hover {\n",
              "      background-color: #434B5C;\n",
              "      box-shadow: 0px 1px 3px 1px rgba(0, 0, 0, 0.15);\n",
              "      filter: drop-shadow(0px 1px 2px rgba(0, 0, 0, 0.3));\n",
              "      fill: #FFFFFF;\n",
              "    }\n",
              "  </style>\n",
              "\n",
              "      <script>\n",
              "        const buttonEl =\n",
              "          document.querySelector('#df-249c1e40-2f3f-43bf-89d1-dcc04b009f4f button.colab-df-convert');\n",
              "        buttonEl.style.display =\n",
              "          google.colab.kernel.accessAllowed ? 'block' : 'none';\n",
              "\n",
              "        async function convertToInteractive(key) {\n",
              "          const element = document.querySelector('#df-249c1e40-2f3f-43bf-89d1-dcc04b009f4f');\n",
              "          const dataTable =\n",
              "            await google.colab.kernel.invokeFunction('convertToInteractive',\n",
              "                                                     [key], {});\n",
              "          if (!dataTable) return;\n",
              "\n",
              "          const docLinkHtml = 'Like what you see? Visit the ' +\n",
              "            '<a target=\"_blank\" href=https://colab.research.google.com/notebooks/data_table.ipynb>data table notebook</a>'\n",
              "            + ' to learn more about interactive tables.';\n",
              "          element.innerHTML = '';\n",
              "          dataTable['output_type'] = 'display_data';\n",
              "          await google.colab.output.renderOutput(dataTable, element);\n",
              "          const docLink = document.createElement('div');\n",
              "          docLink.innerHTML = docLinkHtml;\n",
              "          element.appendChild(docLink);\n",
              "        }\n",
              "      </script>\n",
              "    </div>\n",
              "  </div>\n",
              "  "
            ]
          },
          "metadata": {},
          "execution_count": 3
        }
      ]
    },
    {
      "cell_type": "markdown",
      "source": [
        "Ejemplo 1 (se debe normalizar): Supongamos que tenemos un conjunto de datos que representa la altura de personas en centímetros y su respectivo peso en kilogramos. Los valores mínimos y máximos son los siguientes:\n",
        "\n",
        "Altura: min=150cm, max=190cm Peso: min=50kg, max=120kg Podemos observar que la diferencia entre el mínimo y el máximo de altura es mucho mayor que la diferencia entre el mínimo y el máximo de peso. Por lo tanto, si queremos aplicar un algoritmo de aprendizaje automático que tenga en cuenta ambas características de manera igual, es necesario normalizar los datos para que ambas características estén en la misma escala.\n",
        "\n",
        "Ejemplo 2 (no se debe normalizar): Supongamos que tenemos un conjunto de datos que representa la temperatura ambiente en grados Celsius y la temperatura del agua en grados Celsius en diferentes momentos del día. Los valores mínimos y máximos son los siguientes:\n",
        "\n",
        "Temperatura ambiente: min=15°C, max=35°C Temperatura del agua: min=18°C, max=22°C En este caso, las diferencias entre los mínimos y máximos son similares en ambas características, por lo que no es necesario normalizar los datos. Además, en este caso, normalizar los datos podría incluso eliminar información importante, ya que la diferencia entre la temperatura ambiente y la del agua es una característica importante que debe mantenerse en la escala original."
      ],
      "metadata": {
        "id": "R4JZg_E8pXpi"
      }
    },
    {
      "cell_type": "code",
      "source": [
        "dataset.hist(figsize=(15,15))"
      ],
      "metadata": {
        "colab": {
          "base_uri": "https://localhost:8080/",
          "height": 1000
        },
        "id": "T9EXboBapWK8",
        "outputId": "db028b79-95a9-4286-e364-94eee65910f4"
      },
      "execution_count": null,
      "outputs": [
        {
          "output_type": "execute_result",
          "data": {
            "text/plain": [
              "array([[<Axes: title={'center': 'fixed acidity'}>,\n",
              "        <Axes: title={'center': 'volatile acidity'}>,\n",
              "        <Axes: title={'center': 'citric acid'}>],\n",
              "       [<Axes: title={'center': 'residual sugar'}>,\n",
              "        <Axes: title={'center': 'chlorides'}>,\n",
              "        <Axes: title={'center': 'free sulfur dioxide'}>],\n",
              "       [<Axes: title={'center': 'total sulfur dioxide'}>,\n",
              "        <Axes: title={'center': 'density'}>,\n",
              "        <Axes: title={'center': 'pH'}>],\n",
              "       [<Axes: title={'center': 'sulphates'}>,\n",
              "        <Axes: title={'center': 'alcohol'}>,\n",
              "        <Axes: title={'center': 'quality'}>]], dtype=object)"
            ]
          },
          "metadata": {},
          "execution_count": 4
        },
        {
          "output_type": "display_data",
          "data": {
            "text/plain": [
              "<Figure size 1500x1500 with 12 Axes>"
            ],
            "image/png": "[encoded data removed]"
          },
          "metadata": {}
        }
      ]
    },
    {
      "cell_type": "markdown",
      "source": [
        "#Normalizar"
      ],
      "metadata": {
        "id": "GPVLxNCDdmXC"
      }
    },
    {
      "cell_type": "code",
      "source": [
        "def normalizar(x, xmax, xmin, ymax, ymin):\n",
        "  m = (ymax - ymin) / (xmax - xmin)\n",
        "  b = ymin - m*xmin\n",
        "\n",
        "  y = m*x+b\n",
        "\n",
        "  return y"
      ],
      "metadata": {
        "id": "S69B0Ncopds0"
      },
      "execution_count": null,
      "outputs": []
    },
    {
      "cell_type": "code",
      "source": [
        "max = np.max(dataset).values\n",
        "min = np.min(dataset).values\n",
        "data = normalizar(dataset,max,min,1,0)\n",
        "data.head(5)"
      ],
      "metadata": {
        "colab": {
          "base_uri": "https://localhost:8080/",
          "height": 299
        },
        "id": "G_n9H9Q8peMI",
        "outputId": "89cdf035-d105-47e6-c448-2ac4807e085e"
      },
      "execution_count": null,
      "outputs": [
        {
          "output_type": "stream",
          "name": "stderr",
          "text": [
            "/usr/local/lib/python3.9/dist-packages/numpy/core/fromnumeric.py:84: FutureWarning: In a future version, DataFrame.max(axis=None) will return a scalar max over the entire DataFrame. To retain the old behavior, use 'frame.max(axis=0)' or just 'frame.max()'\n",
            "  return reduction(axis=axis, out=out, **passkwargs)\n",
            "/usr/local/lib/python3.9/dist-packages/numpy/core/fromnumeric.py:84: FutureWarning: In a future version, DataFrame.min(axis=None) will return a scalar min over the entire DataFrame. To retain the old behavior, use 'frame.min(axis=0)' or just 'frame.min()'\n",
            "  return reduction(axis=axis, out=out, **passkwargs)\n"
          ]
        },
        {
          "output_type": "execute_result",
          "data": {
            "text/plain": [
              "   fixed acidity  volatile acidity  citric acid  residual sugar  chlorides  \\\n",
              "0       0.247788          0.397260         0.00        0.068493   0.106845   \n",
              "1       0.283186          0.520548         0.00        0.116438   0.143573   \n",
              "2       0.283186          0.438356         0.04        0.095890   0.133556   \n",
              "3       0.584071          0.109589         0.56        0.068493   0.105175   \n",
              "4       0.247788          0.397260         0.00        0.068493   0.106845   \n",
              "\n",
              "   free sulfur dioxide  total sulfur dioxide   density        pH  sulphates  \\\n",
              "0             0.140845              0.098940  0.567548  0.606299   0.137725   \n",
              "1             0.338028              0.215548  0.494126  0.362205   0.209581   \n",
              "2             0.197183              0.169611  0.508811  0.409449   0.191617   \n",
              "3             0.225352              0.190813  0.582232  0.330709   0.149701   \n",
              "4             0.140845              0.098940  0.567548  0.606299   0.137725   \n",
              "\n",
              "    alcohol  quality  \n",
              "0  0.153846      0.4  \n",
              "1  0.215385      0.4  \n",
              "2  0.215385      0.4  \n",
              "3  0.215385      0.6  \n",
              "4  0.153846      0.4  "
            ],
            "text/html": [
              "\n",
              "  <div id=\"df-33f27c76-d1c1-46cc-857f-9e77a6342f0d\">\n",
              "    <div class=\"colab-df-container\">\n",
              "      <div>\n",
              "<style scoped>\n",
              "    .dataframe tbody tr th:only-of-type {\n",
              "        vertical-align: middle;\n",
              "    }\n",
              "\n",
              "    .dataframe tbody tr th {\n",
              "        vertical-align: top;\n",
              "    }\n",
              "\n",
              "    .dataframe thead th {\n",
              "        text-align: right;\n",
              "    }\n",
              "</style>\n",
              "<table border=\"1\" class=\"dataframe\">\n",
              "  <thead>\n",
              "    <tr style=\"text-align: right;\">\n",
              "      <th></th>\n",
              "      <th>fixed acidity</th>\n",
              "      <th>volatile acidity</th>\n",
              "      <th>citric acid</th>\n",
              "      <th>residual sugar</th>\n",
              "      <th>chlorides</th>\n",
              "      <th>free sulfur dioxide</th>\n",
              "      <th>total sulfur dioxide</th>\n",
              "      <th>density</th>\n",
              "      <th>pH</th>\n",
              "      <th>sulphates</th>\n",
              "      <th>alcohol</th>\n",
              "      <th>quality</th>\n",
              "    </tr>\n",
              "  </thead>\n",
              "  <tbody>\n",
              "    <tr>\n",
              "      <th>0</th>\n",
              "      <td>0.247788</td>\n",
              "      <td>0.397260</td>\n",
              "      <td>0.00</td>\n",
              "      <td>0.068493</td>\n",
              "      <td>0.106845</td>\n",
              "      <td>0.140845</td>\n",
              "      <td>0.098940</td>\n",
              "      <td>0.567548</td>\n",
              "      <td>0.606299</td>\n",
              "      <td>0.137725</td>\n",
              "      <td>0.153846</td>\n",
              "      <td>0.4</td>\n",
              "    </tr>\n",
              "    <tr>\n",
              "      <th>1</th>\n",
              "      <td>0.283186</td>\n",
              "      <td>0.520548</td>\n",
              "      <td>0.00</td>\n",
              "      <td>0.116438</td>\n",
              "      <td>0.143573</td>\n",
              "      <td>0.338028</td>\n",
              "      <td>0.215548</td>\n",
              "      <td>0.494126</td>\n",
              "      <td>0.362205</td>\n",
              "      <td>0.209581</td>\n",
              "      <td>0.215385</td>\n",
              "      <td>0.4</td>\n",
              "    </tr>\n",
              "    <tr>\n",
              "      <th>2</th>\n",
              "      <td>0.283186</td>\n",
              "      <td>0.438356</td>\n",
              "      <td>0.04</td>\n",
              "      <td>0.095890</td>\n",
              "      <td>0.133556</td>\n",
              "      <td>0.197183</td>\n",
              "      <td>0.169611</td>\n",
              "      <td>0.508811</td>\n",
              "      <td>0.409449</td>\n",
              "      <td>0.191617</td>\n",
              "      <td>0.215385</td>\n",
              "      <td>0.4</td>\n",
              "    </tr>\n",
              "    <tr>\n",
              "      <th>3</th>\n",
              "      <td>0.584071</td>\n",
              "      <td>0.109589</td>\n",
              "      <td>0.56</td>\n",
              "      <td>0.068493</td>\n",
              "      <td>0.105175</td>\n",
              "      <td>0.225352</td>\n",
              "      <td>0.190813</td>\n",
              "      <td>0.582232</td>\n",
              "      <td>0.330709</td>\n",
              "      <td>0.149701</td>\n",
              "      <td>0.215385</td>\n",
              "      <td>0.6</td>\n",
              "    </tr>\n",
              "    <tr>\n",
              "      <th>4</th>\n",
              "      <td>0.247788</td>\n",
              "      <td>0.397260</td>\n",
              "      <td>0.00</td>\n",
              "      <td>0.068493</td>\n",
              "      <td>0.106845</td>\n",
              "      <td>0.140845</td>\n",
              "      <td>0.098940</td>\n",
              "      <td>0.567548</td>\n",
              "      <td>0.606299</td>\n",
              "      <td>0.137725</td>\n",
              "      <td>0.153846</td>\n",
              "      <td>0.4</td>\n",
              "    </tr>\n",
              "  </tbody>\n",
              "</table>\n",
              "</div>\n",
              "      <button class=\"colab-df-convert\" onclick=\"convertToInteractive('df-33f27c76-d1c1-46cc-857f-9e77a6342f0d')\"\n",
              "              title=\"Convert this dataframe to an interactive table.\"\n",
              "              style=\"display:none;\">\n",
              "        \n",
              "  <svg xmlns=\"http://www.w3.org/2000/svg\" height=\"24px\"viewBox=\"0 0 24 24\"\n",
              "       width=\"24px\">\n",
              "    <path d=\"M0 0h24v24H0V0z\" fill=\"none\"/>\n",
              "    <path d=\"M18.56 5.44l.94 2.06.94-2.06 2.06-.94-2.06-.94-.94-2.06-.94 2.06-2.06.94zm-11 1L8.5 8.5l.94-2.06 2.06-.94-2.06-.94L8.5 2.5l-.94 2.06-2.06.94zm10 10l.94 2.06.94-2.06 2.06-.94-2.06-.94-.94-2.06-.94 2.06-2.06.94z\"/><path d=\"M17.41 7.96l-1.37-1.37c-.4-.4-.92-.59-1.43-.59-.52 0-1.04.2-1.43.59L10.3 9.45l-7.72 7.72c-.78.78-.78 2.05 0 2.83L4 21.41c.39.39.9.59 1.41.59.51 0 1.02-.2 1.41-.59l7.78-7.78 2.81-2.81c.8-.78.8-2.07 0-2.86zM5.41 20L4 18.59l7.72-7.72 1.47 1.35L5.41 20z\"/>\n",
              "  </svg>\n",
              "      </button>\n",
              "      \n",
              "  <style>\n",
              "    .colab-df-container {\n",
              "      display:flex;\n",
              "      flex-wrap:wrap;\n",
              "      gap: 12px;\n",
              "    }\n",
              "\n",
              "    .colab-df-convert {\n",
              "      background-color: #E8F0FE;\n",
              "      border: none;\n",
              "      border-radius: 50%;\n",
              "      cursor: pointer;\n",
              "      display: none;\n",
              "      fill: #1967D2;\n",
              "      height: 32px;\n",
              "      padding: 0 0 0 0;\n",
              "      width: 32px;\n",
              "    }\n",
              "\n",
              "    .colab-df-convert:hover {\n",
              "      background-color: #E2EBFA;\n",
              "      box-shadow: 0px 1px 2px rgba(60, 64, 67, 0.3), 0px 1px 3px 1px rgba(60, 64, 67, 0.15);\n",
              "      fill: #174EA6;\n",
              "    }\n",
              "\n",
              "    [theme=dark] .colab-df-convert {\n",
              "      background-color: #3B4455;\n",
              "      fill: #D2E3FC;\n",
              "    }\n",
              "\n",
              "    [theme=dark] .colab-df-convert:hover {\n",
              "      background-color: #434B5C;\n",
              "      box-shadow: 0px 1px 3px 1px rgba(0, 0, 0, 0.15);\n",
              "      filter: drop-shadow(0px 1px 2px rgba(0, 0, 0, 0.3));\n",
              "      fill: #FFFFFF;\n",
              "    }\n",
              "  </style>\n",
              "\n",
              "      <script>\n",
              "        const buttonEl =\n",
              "          document.querySelector('#df-33f27c76-d1c1-46cc-857f-9e77a6342f0d button.colab-df-convert');\n",
              "        buttonEl.style.display =\n",
              "          google.colab.kernel.accessAllowed ? 'block' : 'none';\n",
              "\n",
              "        async function convertToInteractive(key) {\n",
              "          const element = document.querySelector('#df-33f27c76-d1c1-46cc-857f-9e77a6342f0d');\n",
              "          const dataTable =\n",
              "            await google.colab.kernel.invokeFunction('convertToInteractive',\n",
              "                                                     [key], {});\n",
              "          if (!dataTable) return;\n",
              "\n",
              "          const docLinkHtml = 'Like what you see? Visit the ' +\n",
              "            '<a target=\"_blank\" href=https://colab.research.google.com/notebooks/data_table.ipynb>data table notebook</a>'\n",
              "            + ' to learn more about interactive tables.';\n",
              "          element.innerHTML = '';\n",
              "          dataTable['output_type'] = 'display_data';\n",
              "          await google.colab.output.renderOutput(dataTable, element);\n",
              "          const docLink = document.createElement('div');\n",
              "          docLink.innerHTML = docLinkHtml;\n",
              "          element.appendChild(docLink);\n",
              "        }\n",
              "      </script>\n",
              "    </div>\n",
              "  </div>\n",
              "  "
            ]
          },
          "metadata": {},
          "execution_count": 6
        }
      ]
    },
    {
      "cell_type": "markdown",
      "source": [
        "#Split the data into features and labels"
      ],
      "metadata": {
        "id": "WAlay6Bfdpbj"
      }
    },
    {
      "cell_type": "code",
      "source": [
        "# Split the data into features and labels\n",
        "X = data.drop('quality', axis=1)\n",
        "y = data['quality']"
      ],
      "metadata": {
        "id": "3AI1mg6dpjNC"
      },
      "execution_count": null,
      "outputs": []
    },
    {
      "cell_type": "code",
      "source": [
        "X.head(4)"
      ],
      "metadata": {
        "colab": {
          "base_uri": "https://localhost:8080/",
          "height": 175
        },
        "id": "QyMHovfwpk0I",
        "outputId": "4fd6b4ec-d81c-44cd-8dd4-3b60ec39c2b7"
      },
      "execution_count": null,
      "outputs": [
        {
          "output_type": "execute_result",
          "data": {
            "text/plain": [
              "   fixed acidity  volatile acidity  citric acid  residual sugar  chlorides  \\\n",
              "0       0.247788          0.397260         0.00        0.068493   0.106845   \n",
              "1       0.283186          0.520548         0.00        0.116438   0.143573   \n",
              "2       0.283186          0.438356         0.04        0.095890   0.133556   \n",
              "3       0.584071          0.109589         0.56        0.068493   0.105175   \n",
              "\n",
              "   free sulfur dioxide  total sulfur dioxide   density        pH  sulphates  \\\n",
              "0             0.140845              0.098940  0.567548  0.606299   0.137725   \n",
              "1             0.338028              0.215548  0.494126  0.362205   0.209581   \n",
              "2             0.197183              0.169611  0.508811  0.409449   0.191617   \n",
              "3             0.225352              0.190813  0.582232  0.330709   0.149701   \n",
              "\n",
              "    alcohol  \n",
              "0  0.153846  \n",
              "1  0.215385  \n",
              "2  0.215385  \n",
              "3  0.215385  "
            ],
            "text/html": [
              "\n",
              "  <div id=\"df-0c0eaa90-34bc-4553-9e4b-94b29f2b7bc3\">\n",
              "    <div class=\"colab-df-container\">\n",
              "      <div>\n",
              "<style scoped>\n",
              "    .dataframe tbody tr th:only-of-type {\n",
              "        vertical-align: middle;\n",
              "    }\n",
              "\n",
              "    .dataframe tbody tr th {\n",
              "        vertical-align: top;\n",
              "    }\n",
              "\n",
              "    .dataframe thead th {\n",
              "        text-align: right;\n",
              "    }\n",
              "</style>\n",
              "<table border=\"1\" class=\"dataframe\">\n",
              "  <thead>\n",
              "    <tr style=\"text-align: right;\">\n",
              "      <th></th>\n",
              "      <th>fixed acidity</th>\n",
              "      <th>volatile acidity</th>\n",
              "      <th>citric acid</th>\n",
              "      <th>residual sugar</th>\n",
              "      <th>chlorides</th>\n",
              "      <th>free sulfur dioxide</th>\n",
              "      <th>total sulfur dioxide</th>\n",
              "      <th>density</th>\n",
              "      <th>pH</th>\n",
              "      <th>sulphates</th>\n",
              "      <th>alcohol</th>\n",
              "    </tr>\n",
              "  </thead>\n",
              "  <tbody>\n",
              "    <tr>\n",
              "      <th>0</th>\n",
              "      <td>0.247788</td>\n",
              "      <td>0.397260</td>\n",
              "      <td>0.00</td>\n",
              "      <td>0.068493</td>\n",
              "      <td>0.106845</td>\n",
              "      <td>0.140845</td>\n",
              "      <td>0.098940</td>\n",
              "      <td>0.567548</td>\n",
              "      <td>0.606299</td>\n",
              "      <td>0.137725</td>\n",
              "      <td>0.153846</td>\n",
              "    </tr>\n",
              "    <tr>\n",
              "      <th>1</th>\n",
              "      <td>0.283186</td>\n",
              "      <td>0.520548</td>\n",
              "      <td>0.00</td>\n",
              "      <td>0.116438</td>\n",
              "      <td>0.143573</td>\n",
              "      <td>0.338028</td>\n",
              "      <td>0.215548</td>\n",
              "      <td>0.494126</td>\n",
              "      <td>0.362205</td>\n",
              "      <td>0.209581</td>\n",
              "      <td>0.215385</td>\n",
              "    </tr>\n",
              "    <tr>\n",
              "      <th>2</th>\n",
              "      <td>0.283186</td>\n",
              "      <td>0.438356</td>\n",
              "      <td>0.04</td>\n",
              "      <td>0.095890</td>\n",
              "      <td>0.133556</td>\n",
              "      <td>0.197183</td>\n",
              "      <td>0.169611</td>\n",
              "      <td>0.508811</td>\n",
              "      <td>0.409449</td>\n",
              "      <td>0.191617</td>\n",
              "      <td>0.215385</td>\n",
              "    </tr>\n",
              "    <tr>\n",
              "      <th>3</th>\n",
              "      <td>0.584071</td>\n",
              "      <td>0.109589</td>\n",
              "      <td>0.56</td>\n",
              "      <td>0.068493</td>\n",
              "      <td>0.105175</td>\n",
              "      <td>0.225352</td>\n",
              "      <td>0.190813</td>\n",
              "      <td>0.582232</td>\n",
              "      <td>0.330709</td>\n",
              "      <td>0.149701</td>\n",
              "      <td>0.215385</td>\n",
              "    </tr>\n",
              "  </tbody>\n",
              "</table>\n",
              "</div>\n",
              "      <button class=\"colab-df-convert\" onclick=\"convertToInteractive('df-0c0eaa90-34bc-4553-9e4b-94b29f2b7bc3')\"\n",
              "              title=\"Convert this dataframe to an interactive table.\"\n",
              "              style=\"display:none;\">\n",
              "        \n",
              "  <svg xmlns=\"http://www.w3.org/2000/svg\" height=\"24px\"viewBox=\"0 0 24 24\"\n",
              "       width=\"24px\">\n",
              "    <path d=\"M0 0h24v24H0V0z\" fill=\"none\"/>\n",
              "    <path d=\"M18.56 5.44l.94 2.06.94-2.06 2.06-.94-2.06-.94-.94-2.06-.94 2.06-2.06.94zm-11 1L8.5 8.5l.94-2.06 2.06-.94-2.06-.94L8.5 2.5l-.94 2.06-2.06.94zm10 10l.94 2.06.94-2.06 2.06-.94-2.06-.94-.94-2.06-.94 2.06-2.06.94z\"/><path d=\"M17.41 7.96l-1.37-1.37c-.4-.4-.92-.59-1.43-.59-.52 0-1.04.2-1.43.59L10.3 9.45l-7.72 7.72c-.78.78-.78 2.05 0 2.83L4 21.41c.39.39.9.59 1.41.59.51 0 1.02-.2 1.41-.59l7.78-7.78 2.81-2.81c.8-.78.8-2.07 0-2.86zM5.41 20L4 18.59l7.72-7.72 1.47 1.35L5.41 20z\"/>\n",
              "  </svg>\n",
              "      </button>\n",
              "      \n",
              "  <style>\n",
              "    .colab-df-container {\n",
              "      display:flex;\n",
              "      flex-wrap:wrap;\n",
              "      gap: 12px;\n",
              "    }\n",
              "\n",
              "    .colab-df-convert {\n",
              "      background-color: #E8F0FE;\n",
              "      border: none;\n",
              "      border-radius: 50%;\n",
              "      cursor: pointer;\n",
              "      display: none;\n",
              "      fill: #1967D2;\n",
              "      height: 32px;\n",
              "      padding: 0 0 0 0;\n",
              "      width: 32px;\n",
              "    }\n",
              "\n",
              "    .colab-df-convert:hover {\n",
              "      background-color: #E2EBFA;\n",
              "      box-shadow: 0px 1px 2px rgba(60, 64, 67, 0.3), 0px 1px 3px 1px rgba(60, 64, 67, 0.15);\n",
              "      fill: #174EA6;\n",
              "    }\n",
              "\n",
              "    [theme=dark] .colab-df-convert {\n",
              "      background-color: #3B4455;\n",
              "      fill: #D2E3FC;\n",
              "    }\n",
              "\n",
              "    [theme=dark] .colab-df-convert:hover {\n",
              "      background-color: #434B5C;\n",
              "      box-shadow: 0px 1px 3px 1px rgba(0, 0, 0, 0.15);\n",
              "      filter: drop-shadow(0px 1px 2px rgba(0, 0, 0, 0.3));\n",
              "      fill: #FFFFFF;\n",
              "    }\n",
              "  </style>\n",
              "\n",
              "      <script>\n",
              "        const buttonEl =\n",
              "          document.querySelector('#df-0c0eaa90-34bc-4553-9e4b-94b29f2b7bc3 button.colab-df-convert');\n",
              "        buttonEl.style.display =\n",
              "          google.colab.kernel.accessAllowed ? 'block' : 'none';\n",
              "\n",
              "        async function convertToInteractive(key) {\n",
              "          const element = document.querySelector('#df-0c0eaa90-34bc-4553-9e4b-94b29f2b7bc3');\n",
              "          const dataTable =\n",
              "            await google.colab.kernel.invokeFunction('convertToInteractive',\n",
              "                                                     [key], {});\n",
              "          if (!dataTable) return;\n",
              "\n",
              "          const docLinkHtml = 'Like what you see? Visit the ' +\n",
              "            '<a target=\"_blank\" href=https://colab.research.google.com/notebooks/data_table.ipynb>data table notebook</a>'\n",
              "            + ' to learn more about interactive tables.';\n",
              "          element.innerHTML = '';\n",
              "          dataTable['output_type'] = 'display_data';\n",
              "          await google.colab.output.renderOutput(dataTable, element);\n",
              "          const docLink = document.createElement('div');\n",
              "          docLink.innerHTML = docLinkHtml;\n",
              "          element.appendChild(docLink);\n",
              "        }\n",
              "      </script>\n",
              "    </div>\n",
              "  </div>\n",
              "  "
            ]
          },
          "metadata": {},
          "execution_count": 8
        }
      ]
    },
    {
      "cell_type": "code",
      "source": [
        "y.head(4)"
      ],
      "metadata": {
        "colab": {
          "base_uri": "https://localhost:8080/"
        },
        "id": "mDuCR2S3plhn",
        "outputId": "78a752d7-66ef-46b7-e088-7a99340a54b2"
      },
      "execution_count": null,
      "outputs": [
        {
          "output_type": "execute_result",
          "data": {
            "text/plain": [
              "0    0.4\n",
              "1    0.4\n",
              "2    0.4\n",
              "3    0.6\n",
              "Name: quality, dtype: float64"
            ]
          },
          "metadata": {},
          "execution_count": 9
        }
      ]
    },
    {
      "cell_type": "markdown",
      "source": [
        "#Split the data into training and testing sets"
      ],
      "metadata": {
        "id": "CqgPCSkBduC2"
      }
    },
    {
      "cell_type": "code",
      "source": [
        "# Split the data into training and testing sets\n",
        "X_train, X_test, y_train, y_test = train_test_split(X, y, test_size=0.3)\n",
        "\n",
        "input_shape=(X_train.shape[1])\n",
        "print(input_shape)"
      ],
      "metadata": {
        "colab": {
          "base_uri": "https://localhost:8080/"
        },
        "id": "8YItW-Tzps_j",
        "outputId": "7ad507ab-94d4-4f74-d289-6304f7d2a31c"
      },
      "execution_count": null,
      "outputs": [
        {
          "output_type": "stream",
          "name": "stdout",
          "text": [
            "11\n"
          ]
        }
      ]
    },
    {
      "cell_type": "markdown",
      "source": [
        "#Metodo 1"
      ],
      "metadata": {
        "id": "3X2Ol4ioJfJj"
      }
    },
    {
      "cell_type": "code",
      "source": [
        "# Método 1: Cálculo mediante la Ecuación Normal\n",
        "# Agregar columna de unos para el término independiente\n",
        "X1 = np.hstack((np.ones((X.shape[0], 1)), X))\n",
        "# Calcular los parámetros de regresión\n",
        "theta1 = np.linalg.inv(X1.T @ X1) @ X1.T @ y\n",
        "# Realizar la predicción\n",
        "y_pred1 = X1 @ theta1\n",
        "# Calcular los errores de entrenamiento y validación\n",
        "train_error1 = mean_squared_error(y, y_pred1)\n",
        "X_train, X_test, y_train, y_test = train_test_split(X, y, test_size=0.2, random_state=0)\n",
        "X_train1 = np.hstack((np.ones((X_train.shape[0], 1)), X_train))\n",
        "X_test1 = np.hstack((np.ones((X_test.shape[0], 1)), X_test))\n",
        "y_train_pred1 = X_train1 @ theta1\n",
        "y_test_pred1 = X_test1 @ theta1\n",
        "test_error1 = mean_squared_error(y_test, y_test_pred1)"
      ],
      "metadata": {
        "id": "RyKAq3i7rTNl"
      },
      "execution_count": null,
      "outputs": []
    },
    {
      "cell_type": "code",
      "source": [
        "#Imprimir los resultados\n",
        "print(\"Método 1: Cálculo mediante la Ecuación Normal\")\n",
        "print(\"Parámetros de regresión: \", theta1)\n",
        "print(\"Coeficiente de regresión: \", pearsonr(y, y_pred1)[0])\n",
        "print(\"R2_score (entrenamiento): \", r2_score(y, y_pred1))\n",
        "print(\"MSE (entrenamiento): \", train_error1)\n",
        "print(\"RMSE (entrenamiento): \", np.sqrt(train_error1))\n",
        "print(\"MSE (validación): \", test_error1)\n",
        "print(\"RMSE (validación): \", np.sqrt(test_error1))\n",
        "print(\"\")"
      ],
      "metadata": {
        "colab": {
          "base_uri": "https://localhost:8080/"
        },
        "id": "x2CHBXZSsK5u",
        "outputId": "8c958eba-db8a-4391-c683-3bae2b07e010"
      },
      "execution_count": null,
      "outputs": [
        {
          "output_type": "stream",
          "name": "stdout",
          "text": [
            "Método 1: Cálculo mediante la Ecuación Normal\n",
            "Parámetros de regresión:  [ 0.5425106   0.05647865 -0.31640836 -0.03651279  0.04768731 -0.22453217\n",
            "  0.06193093 -0.18477521 -0.04870829 -0.1050679   0.30605569  0.35905701]\n",
            "Coeficiente de regresión:  0.6004595765234227\n",
            "R2_score (entrenamiento):  0.3605517030386879\n",
            "MSE (entrenamiento):  0.016670686688856337\n",
            "RMSE (entrenamiento):  0.129115013413841\n",
            "MSE (validación):  0.015101719996609244\n",
            "RMSE (validación):  0.12288905564210852\n",
            "\n"
          ]
        }
      ]
    },
    {
      "cell_type": "markdown",
      "source": [
        "# Metodo 1 detallado"
      ],
      "metadata": {
        "id": "fbv-rEcFgJ27"
      }
    },
    {
      "cell_type": "code",
      "source": [
        "#Metodo 1: calculo medinte un sistema de ecuaciones normales:\n",
        "\n",
        "#Debido a la necesidad de ubicar el BIAS en la matriz de datos de entrada, se crea una matriz de unos con la misma cantidad de filas.\n",
        "matrizUnos = np.ones((1599,1))\n",
        "\n",
        "#Se crea la matriz de datos de entrada final, esto, al combinarse con la matriz de unos creada previamente.\n",
        "matrizVariable_Entrada = np.hstack((matrizUnos, X))\n",
        "#Se crea una matriz transpuesta de la matriz anterior, esto con el fin de tener una de las variable solicitadas en el calculo de la regresion lineal mediante el sistema de ecuaciones con minimos cuadrados.\n",
        "matrizVariable_Entrada_Transpuesta = matrizVariable_Entrada.T\n",
        "\n",
        "#Teniendo en cuenta que la ecuacion general de la normal es = [datos_entrada_transpuesta . datos_salida = datos_entrada_transpuesta . datos_entrada . Matriz_thethas]\n",
        "# Se realiza la ecuación pseudoinversa, con el fin de encontrar theta_sub_n = [((datos_entrada_transpuesta . datos_entrada)**-1) . (datos_entrada_transpuesta) . (datos_salida)]\n",
        "parte1 = np.dot(matrizVariable_Entrada_Transpuesta, matrizVariable_Entrada)\n",
        "parte2 = np.dot(matrizVariable_Entrada_Transpuesta, y)\n",
        "EcuacionFinal = np.dot(np.linalg.inv(parte1), parte2)\n",
        "\n",
        "\n",
        "print(EcuacionFinal)"
      ],
      "metadata": {
        "id": "NWzj1p0ngNrH"
      },
      "execution_count": null,
      "outputs": []
    },
    {
      "cell_type": "code",
      "source": [
        "#Una vez se han obtenido los valores de los coeficientes de la ecuación normal, se procede a evaluar el modelo de regresión con una fila del data set (en este caso la fila 3) que genera esta ecuación: \n",
        "prediccionM = 0.5425106 +  (0.05647865*(0.584071)) - (0.31640836*0.109589) - (0.03651279*0.560000) + (0.04768731*0.068493) - (0.22453217*0.105175) + (0.06193093*0.225352) - (0.18477521*0.190813) - (0.04870829*0.582232) - (0.1050679*0.330709) + (0.30605569*0.149701) + (0.35905701*0.215385)\n",
        "#Se imprime el valor que se predice de la calidad del vino, a partir de las diferentes variables del data set.\n",
        "print(\"Predicción de la calidad del vino :\",prediccionM)\n",
        "print(\"Valor real : 0.60000 \")\n",
        "\n",
        "#Se analiza el error, el cual es la diferencia entre ambos valores\n",
        "Error = 0.60000 - prediccionM\n",
        "print(\"Error :\", Error)\n",
        "\n",
        "#Hallamos el coeficiente de determnación para medir la precisión del modelo (tomando en cuenta un solo valor comparado).\n",
        "Coef_det = prediccionM / 0.60000\n",
        "print(\"Coeficiente de determinación :\", Coef_det)"
      ],
      "metadata": {
        "id": "Ev31c_1zgRC2"
      },
      "execution_count": null,
      "outputs": []
    },
    {
      "cell_type": "markdown",
      "source": [
        "### Cálculo de los errores relativos"
      ],
      "metadata": {
        "id": "u5VOqCj7gbXI"
      }
    },
    {
      "cell_type": "code",
      "source": [
        "# Calcular los errores relativos de entrenamiento y validación\n",
        "relative_train_error_1 = abs(train_error1- test_error1 ) / train_error1\n",
        "relative_test_error_1 = abs(train_error1 - test_error1 ) / train_error1\n",
        "\n",
        "# Graficar los errores relativos\n",
        "plt.bar(['Entrenamiento', 'Validación'], [relative_train_error_1 , relative_test_error_1])\n",
        "plt.title('Error relativo de entrenamiento y validación')\n",
        "plt.ylabel('Error relativo')\n",
        "plt.ylim(0, 1)\n",
        "plt.show()\n",
        "print(f'Error de entrenamiento: {relative_train_error_1 }' )\n",
        "print(f'Error de validacion:  {relative_test_error_1}')\n",
        "print(f'Diferencia de train - validacion :   {relative_test_error_1- relative_train_error_1 }')"
      ],
      "metadata": {
        "colab": {
          "base_uri": "https://localhost:8080/",
          "height": 508
        },
        "id": "s3bRAI6na5WB",
        "outputId": "1cf6eb71-ea1c-4782-c51f-ba788ce8915b"
      },
      "execution_count": null,
      "outputs": [
        {
          "output_type": "display_data",
          "data": {
            "text/plain": [
              "<Figure size 640x480 with 1 Axes>"
            ],
            "image/png": "[encoded data removed]"
          },
          "metadata": {}
        },
        {
          "output_type": "stream",
          "name": "stdout",
          "text": [
            "Error de entrenamiento: 0.0941153007989696\n",
            "Error de validacion:  0.0941153007989696\n",
            "Diferencia de train - validacion :   0.0\n"
          ]
        }
      ]
    },
    {
      "cell_type": "markdown",
      "source": [
        "#Metodo 2 "
      ],
      "metadata": {
        "id": "E0oRvxdNJwQn"
      }
    },
    {
      "cell_type": "markdown",
      "source": [
        "Lasso se utiliza sobre los métodos de regresión para una predicción más precisa. Este modelo utiliza la contracción. La contracción es donde los valores de los datos se reducen hacia un punto central como la media. Este metodo de regularizacion es bueno cuando el modelo cuenta con pocos parámetros."
      ],
      "metadata": {
        "id": "DoOLgjMHnX82"
      }
    },
    {
      "cell_type": "code",
      "source": [
        "# Método 2: Scikit-learn con regularización Lasso y Ridge\n",
        "# Dividir los datos en conjunto de entrenamiento y validación\n",
        "X_train, X_test, y_train, y_test = train_test_split(X, y, test_size=0.2, random_state=0)\n",
        "# Realizar la regresión con regularización Lasso\n",
        "lasso = Lasso(alpha=0.1)+\n",
        "lasso.fit(X_train, y_train)\n",
        "y_train_pred2a = lasso.predict(X_train)\n",
        "y_test_pred2a = lasso.predict(X_test)\n",
        "train_error2a = mean_squared_error(y_train, y_train_pred2a)\n",
        "test_error2a = mean_squared_error(y_test, y_test_pred2a)"
      ],
      "metadata": {
        "id": "vJDQh0GLrq7C"
      },
      "execution_count": null,
      "outputs": []
    },
    {
      "cell_type": "markdown",
      "source": [
        "Si los pesos del modelo son grandes, el parametro alpha nos dice que tanto se van a penalizar estos coeficientes.\n",
        "Coeficientes grandes = Overfitting"
      ],
      "metadata": {
        "id": "X3szyzr92w_7"
      }
    },
    {
      "cell_type": "code",
      "source": [
        "print(\"Método 2a: Scikit-learn con regularización Lasso\")\n",
        "print(\"Parámetros de regresión: \", lasso.coef_)\n",
        "print(\"Coeficiente de regresión: \", pearsonr(y_test, y_test_pred2a)[0])\n",
        "print(\"R2_score (entrenamiento): \", lasso.score(X_train, y_train))\n",
        "print(\"MSE (entrenamiento): \", train_error2a)\n",
        "print(\"RMSE (entrenamiento): \", np.sqrt(train_error2a))\n",
        "print(\"MSE (validación): \", test_error2a)\n",
        "print(\"RMSE (validación): \", np.sqrt(test_error2a))\n",
        "print(\"\")"
      ],
      "metadata": {
        "colab": {
          "base_uri": "https://localhost:8080/"
        },
        "outputId": "5566eeba-bc12-464d-8a8e-dea97b518df2",
        "id": "R8HWx7hVJ5Hw"
      },
      "execution_count": null,
      "outputs": [
        {
          "output_type": "stream",
          "name": "stdout",
          "text": [
            "Método 2a: Scikit-learn con regularización Lasso\n",
            "Parámetros de regresión:  [ 0. -0.  0.  0. -0. -0. -0. -0. -0.  0.  0.]\n",
            "Coeficiente de regresión:  nan\n",
            "R2_score (entrenamiento):  0.0\n",
            "MSE (entrenamiento):  0.026841679600890327\n",
            "RMSE (entrenamiento):  0.16383430532367246\n",
            "MSE (validación):  0.023010157772057328\n",
            "RMSE (validación):  0.1516909943670267\n",
            "\n"
          ]
        },
        {
          "output_type": "stream",
          "name": "stderr",
          "text": [
            "/usr/local/lib/python3.9/dist-packages/scipy/stats/_stats_py.py:4424: ConstantInputWarning: An input array is constant; the correlation coefficient is not defined.\n",
            "  warnings.warn(stats.ConstantInputWarning(msg))\n"
          ]
        }
      ]
    },
    {
      "cell_type": "code",
      "source": [
        "\n",
        "\n",
        "# Calcular los errores relativos de entrenamiento y validación\n",
        "relative_train_error_a = abs(train_error2a - test_error2a) / train_error2a\n",
        "relative_test_error_a = abs(train_error2a - test_error2a) / test_error2a\n",
        "\n",
        "# Graficar los errores relativos\n",
        "plt.bar(['Entrenamiento', 'Validación'], [relative_train_error_a, relative_test_error_a])\n",
        "plt.title('Error relativo de entrenamiento y validación')\n",
        "plt.ylabel('Error relativo')\n",
        "plt.ylim(0, 1)\n",
        "plt.show()\n",
        "print(f'Error de entrenamiento: {relative_train_error_a}' )\n",
        "print(f'Error de validacion:  {relative_test_error_a}')\n",
        "print(f'Diferencia de train - validacion :   {relative_test_error_a - relative_train_error_a}')"
      ],
      "metadata": {
        "colab": {
          "base_uri": "https://localhost:8080/",
          "height": 508
        },
        "id": "2jxxvetPZpHK",
        "outputId": "caf17e35-8c75-4a73-ff8f-24a69efb84e7"
      },
      "execution_count": null,
      "outputs": [
        {
          "output_type": "display_data",
          "data": {
            "text/plain": [
              "<Figure size 640x480 with 1 Axes>"
            ],
            "image/png": "[encoded data removed]"
          },
          "metadata": {}
        },
        {
          "output_type": "stream",
          "name": "stdout",
          "text": [
            "Error de entrenamiento: 0.14274523374855833\n",
            "Error de validacion:  0.1665143658200317\n",
            "Diferencia de train - validacion :   0.02376913207147338\n"
          ]
        }
      ]
    },
    {
      "cell_type": "markdown",
      "source": [
        "La regresión con regularización **Ridge** es útil para **evitar el sobreajuste** en modelos de regresión lineal y mejorar la capacidad de generalización del modelo."
      ],
      "metadata": {
        "id": "-spo6LGUPuY3"
      }
    },
    {
      "cell_type": "code",
      "source": [
        "# Realizar la regresión con regularización Ridge\n",
        "# Se crea un objeto de tipo Ridge con un valor de alpha de 1.0\n",
        "\"\"\"Un valor más alto de alpha implica una mayor penalización para los coeficientes del modelo, lo que conduce a un modelo más simple con coeficientes más pequeños. El valor predeterminado de alpha es 1.0.\"\"\"\n",
        "ridge = Ridge(alpha=1.0)\n",
        "\n",
        "# Se ajusta el modelo de regresión Ridge a los datos de entrenamiento\n",
        "ridge.fit(X_train, y_train)\n",
        "\n",
        "# Se realiza la predicción sobre los datos de entrenamiento\n",
        "y_train_pred2b = ridge.predict(X_train)\n",
        "\n",
        "# Se realiza la predicción sobre los datos de prueba\n",
        "y_test_pred2b = ridge.predict(X_test)\n",
        "\n",
        "# Se calcula el error cuadrático medio de entrenamiento\n",
        "train_error2b = mean_squared_error(y_train, y_train_pred2b)\n",
        "\n",
        "# Se calcula el error cuadrático medio de prueba\n",
        "test_error2b = mean_squared_error(y_test, y_test_pred2b)\n"
      ],
      "metadata": {
        "id": "XS6L7qxOrzfB"
      },
      "execution_count": null,
      "outputs": []
    },
    {
      "cell_type": "code",
      "source": [
        "print(\"Método 2b: Scikit-learn con regularización Ridge\")\n",
        "print(\"Parámetros de regresión: \", ridge.coef_)\n",
        "print(\"Coeficiente de regresión: \", pearsonr(y_test, y_test_pred2b)[0])\n",
        "print(\"R2_score (entrenamiento): \", ridge.score(X_train, y_train))\n",
        "print(\"MSE (entrenamiento): \", train_error2b)\n",
        "print(\"RMSE (entrenamiento): \", np.sqrt(train_error2b))\n",
        "print(\"MSE (validación): \", test_error2b)\n",
        "print(\"RMSE (validación): \", np.sqrt(test_error2b))\n",
        "print(\"\")"
      ],
      "metadata": {
        "colab": {
          "base_uri": "https://localhost:8080/"
        },
        "outputId": "ee08671b-0065-47d5-fdd2-566cc03fb942",
        "id": "e08zTBxLJ_Ha"
      },
      "execution_count": null,
      "outputs": [
        {
          "output_type": "stream",
          "name": "stdout",
          "text": [
            "Método 2b: Scikit-learn con regularización Ridge\n",
            "Parámetros de regresión:  [ 0.08972626 -0.32089814 -0.02218253  0.07073323 -0.19264409  0.03229688\n",
            " -0.14534158 -0.08486475 -0.05450447  0.27996601  0.34354333]\n",
            "Coeficiente de regresión:  0.5835178884459116\n",
            "R2_score (entrenamiento):  0.36474169015704894\n",
            "MSE (entrenamiento):  0.017051400016607605\n",
            "RMSE (entrenamiento):  0.13058100940262182\n",
            "MSE (validación):  0.015356669293400732\n",
            "RMSE (validación):  0.12392202908845841\n",
            "\n"
          ]
        }
      ]
    },
    {
      "cell_type": "markdown",
      "source": [
        "print(\"Parámetros de regresión: \", ridge.coef_): Imprime los coeficientes de la regresión obtenidos por el modelo de regresión Ridge. son los pesos asignados a cada una de las características o variables independientes en la ecuación de regresión.Por ejemplo, si el coeficiente de una característica es grande y positivo, eso significa que un aumento en esa característica se correlaciona con un aumento en la variable dependiente, mientras que un coeficiente grande y negativo indica una correlación inversa. Si un coeficiente es pequeño en comparación con otros, podemos concluir que esa característica no es muy relevante para la predicción de la variable dependiente.\n",
        "\n",
        "print(\"Coeficiente de regresión: \", pearsonr(y_test, y_test_pred2b)[0]): Imprime el coeficiente de correlación de Pearson entre las etiquetas verdaderas y las predichas en el conjunto de validación. Este coeficiente mide la relación lineal entre las dos variables y varía entre -1 y 1, donde un valor de 1 indica una relación lineal positiva perfecta, un valor de 0 indica ausencia de relación lineal y un valor de -1 indica una relación lineal negativa perfecta.\n",
        "\n",
        "print(\"R2_score (entrenamiento): \", ridge.score(X_train, y_train)): Imprime el coeficiente de determinación R2 para el conjunto de entrenamiento. Este coeficiente mide la proporción de la varianza en la variable de respuesta que es predecible a partir de las variables predictoras y varía entre 0 y 1, donde un valor de 1 indica una predicción perfecta y un valor de 0 indica que el modelo no tiene capacidad predictiva.\n",
        "\n",
        "print(\"MSE (entrenamiento): \", train_error2b): Imprime el error cuadrático medio (MSE) en el conjunto de entrenamiento. Este error mide la diferencia cuadrática media entre las etiquetas verdaderas y las predichas y es un indicador de la calidad de la regresión.\n",
        "\n",
        "print(\"RMSE (entrenamiento): \", np.sqrt(train_error2b)): Imprime la raíz del error cuadrático medio (RMSE) en el conjunto de entrenamiento. Este error es simplemente la raíz cuadrada del MSE y tiene la misma interpretación.\n",
        "\n",
        "print(\"MSE (validación): \", test_error2b): Imprime el error cuadrático medio (MSE) en el conjunto de validación. Este error mide la diferencia cuadrática media entre las etiquetas verdaderas y las predichas y es un indicador de la capacidad predictiva del modelo.\n",
        "\n",
        "print(\"RMSE (validación): \", np.sqrt(test_error2b)): Imprime la raíz del error cuadrático medio (RMSE) en el conjunto de validación. Este error es simplemente la raíz cuadrada del MSE y tiene la misma interpretación."
      ],
      "metadata": {
        "id": "Z31DbXzdRdNW"
      }
    },
    {
      "cell_type": "code",
      "source": [
        "\n",
        "\n",
        "# Calcular los errores relativos de entrenamiento y validación\n",
        "relative_train_error = abs(train_error2b - test_error2b) / train_error2b\n",
        "relative_test_error = abs(train_error2b - test_error2b) / test_error2b\n",
        "\n",
        "# Graficar los errores relativos\n",
        "plt.bar(['Entrenamiento', 'Validación'], [relative_train_error, relative_test_error])\n",
        "plt.title('Error relativo de entrenamiento y validación')\n",
        "plt.ylabel('Error relativo')\n",
        "plt.ylim(0, 1)\n",
        "plt.show()\n",
        "print(f'Error de entrenamiento: {relative_train_error}' )\n",
        "print(f'Error de validacion:  {relative_test_error}')\n",
        "print(f'Diferencia de train - validacion :   {relative_test_error - relative_train_error}')"
      ],
      "metadata": {
        "colab": {
          "base_uri": "https://localhost:8080/",
          "height": 508
        },
        "outputId": "b0debb37-f6d2-4711-ac4e-128decb8ff0d",
        "id": "0mzzsPThKDSI"
      },
      "execution_count": null,
      "outputs": [
        {
          "output_type": "display_data",
          "data": {
            "text/plain": [
              "<Figure size 640x480 with 1 Axes>"
            ],
            "image/png": "[encoded data removed]"
          },
          "metadata": {}
        },
        {
          "output_type": "stream",
          "name": "stdout",
          "text": [
            "Error de entrenamiento: 0.09938953526140087\n",
            "Error de validacion:  0.11035796179677808\n",
            "Diferencia de train - validacion :   0.010968426535377204\n"
          ]
        }
      ]
    },
    {
      "cell_type": "markdown",
      "source": [
        "La **principal diferencia entre la regresión Ridge y Lasso** es que la regresión Ridge utiliza la suma de los cuadrados de los coeficientes de la regresión como término de penalización, mientras que la regresión Lasso utiliza la suma de los valores absolutos de los coeficientes de la regresión como término de penalización. Esto significa que la regresión Lasso tiende a generar modelos dispersos, donde algunos coeficientes son exactamente iguales a cero, mientras que la regresión Ridge no establece coeficientes exactamente iguales a cero, aunque pueden ser muy pequeños."
      ],
      "metadata": {
        "id": "Vo0KZJRKT_rw"
      }
    },
    {
      "cell_type": "markdown",
      "source": [
        "# Metodo 3"
      ],
      "metadata": {
        "id": "GbyDJitXKIyb"
      }
    },
    {
      "cell_type": "code",
      "source": [
        "# Método 3: Cálculo del gradiente descendente\n",
        "# Normalizar los datos para acelerar la convergencia\n",
        "X_norm = (X - np.mean(X, axis=0))\n",
        "X2 = np.hstack((np.ones((X_norm.shape[0], 1)), X_norm))\n",
        "#Definir los parámetros del algoritmo de gradiente descendente\n",
        "alpha = 0.01\n",
        "iters = 1000\n",
        "theta2 = np.zeros(X2.shape[1])\n",
        "#Realizar el algoritmo de gradiente descendente\n",
        "for i in range(iters):\n",
        "  h = X2 @ theta2\n",
        "  gradient = X2.T @ (h - y) / y.size\n",
        "  theta2 -= alpha * gradient\n",
        "#Realizar la predicción\n",
        "y_pred3 = X2 @ theta2"
      ],
      "metadata": {
        "id": "-fcLODTdr1_E"
      },
      "execution_count": null,
      "outputs": []
    },
    {
      "cell_type": "code",
      "source": [
        "#Calcular los errores de entrenamiento y validación\n",
        "train_error3 = mean_squared_error(y, y_pred3)\n",
        "X_train, X_test, y_train, y_test = train_test_split(X_norm, y, test_size=0.2, random_state=0)\n",
        "X_train2 = np.hstack((np.ones((X_train.shape[0], 1)), X_train))\n",
        "X_test2 = np.hstack((np.ones((X_test.shape[0], 1)), X_test))\n",
        "y_train_pred3 = X_train2 @ theta2\n",
        "y_test_pred3 = X_test2 @ theta2\n",
        "test_error3 = mean_squared_error(y_test, y_test_pred3)"
      ],
      "metadata": {
        "id": "G85xlQRVsGWT"
      },
      "execution_count": null,
      "outputs": []
    },
    {
      "cell_type": "code",
      "source": [
        "print(\"Método 3: Cálculo del gradiente descendente\")\n",
        "print(\"Parámetros de regresión: \", theta2)\n",
        "print(\"Coeficiente de regresión: \", pearsonr(y, y_pred3)[0])\n",
        "print(\"R2_score (entrenamiento): \", r2_score(y, y_pred3))\n",
        "print(\"MSE (entrenamiento): \", train_error3)\n",
        "print(\"RMSE (entrenamiento): \", np.sqrt(train_error3))\n",
        "print(\"MSE (validación): \", test_error3)\n",
        "print(\"RMSE (validación): \", np.sqrt(test_error3))"
      ],
      "metadata": {
        "colab": {
          "base_uri": "https://localhost:8080/"
        },
        "id": "5PB4YfTxscxn",
        "outputId": "5d72f1e5-c485-4e62-acb3-0094cb52e765"
      },
      "execution_count": null,
      "outputs": [
        {
          "output_type": "stream",
          "name": "stdout",
          "text": [
            "Método 3: Cálculo del gradiente descendente\n",
            "Parámetros de regresión:  [ 0.52718174  0.02240574 -0.06447965  0.0516288   0.00199775 -0.01531111\n",
            " -0.007679   -0.02944978 -0.03420712 -0.00737646  0.03576475  0.10571733]\n",
            "Coeficiente de regresión:  0.5595003591390224\n",
            "R2_score (entrenamiento):  0.1725480494406485\n",
            "MSE (entrenamiento):  0.021572021199225383\n",
            "RMSE (entrenamiento):  0.1468741679098996\n",
            "MSE (validación):  0.018999821451216557\n",
            "RMSE (validación):  0.13783983985487128\n"
          ]
        }
      ]
    },
    {
      "cell_type": "code",
      "source": [
        "# Calcular los errores relativos de entrenamiento y validación\n",
        "relative_train_error_3 = abs(train_error3- test_error3 ) / train_error3\n",
        "relative_test_error_3 = abs(train_error3 - test_error3 ) / train_error3\n",
        "\n",
        "# Graficar los errores relativos\n",
        "plt.bar(['Entrenamiento', 'Validación'], [relative_train_error_3 , relative_test_error_3])\n",
        "plt.title('Error relativo de entrenamiento y validación')\n",
        "plt.ylabel('Error relativo')\n",
        "plt.ylim(0, 1)\n",
        "plt.show()\n",
        "print(f'Error de entrenamiento: {relative_train_error_3 }' )\n",
        "print(f'Error de validacion:  {relative_test_error_3}')\n",
        "print(f'Diferencia de train - validacion :   {relative_test_error_3 - relative_train_error_3 }')"
      ],
      "metadata": {
        "colab": {
          "base_uri": "https://localhost:8080/",
          "height": 508
        },
        "id": "ItH9yQaXbbfH",
        "outputId": "79cf8efd-c0ce-4f74-a45b-2fdbcc395b2b"
      },
      "execution_count": null,
      "outputs": [
        {
          "output_type": "display_data",
          "data": {
            "text/plain": [
              "<Figure size 640x480 with 1 Axes>"
            ],
            "image/png": "[encoded data removed]"
          },
          "metadata": {}
        },
        {
          "output_type": "stream",
          "name": "stdout",
          "text": [
            "Error de entrenamiento: 0.11923777212406918\n",
            "Error de validacion:  0.11923777212406918\n",
            "Diferencia de train - validacion :   0.0\n"
          ]
        }
      ]
    },
    {
      "cell_type": "markdown",
      "source": [
        "#Preguntas"
      ],
      "metadata": {
        "id": "jJDryoRgdJmg"
      }
    },
    {
      "cell_type": "markdown",
      "source": [
        "Responder las siguientes preguntas:\n",
        "1. ¿Es posible que se presente el fenómeno de sobreajuste (overfitting) en la regresión \n",
        "lineal? ¿Se presento el fenómeno de sobreajuste en el modelo entrenado?\n",
        "2. ¿El data set seleccionado presenta valores atípicos (outliers)? ¿Cómo se \n",
        "identificaron los valores atípicos?\n",
        "3. ¿Es necesario eliminar los valores atípicos (outliers)? ¿Por qué sí o por qué no?\n",
        "4. ¿Qué es el escalado (Normalization)? ¿Cuándo es necesario?\n",
        "5. ¿En qué escenario es preferible utilizar el Descenso del Gradiente en lugar de la Regresión Ordinaria por Mínimos Cuadrados (Ecuación Normal) y por qué?"
      ],
      "metadata": {
        "id": "Rgblf07h0ZFR"
      }
    },
    {
      "cell_type": "markdown",
      "source": [
        "#Solución"
      ],
      "metadata": {
        "id": "BQbBUy_AdP41"
      }
    },
    {
      "cell_type": "markdown",
      "source": [
        "\n",
        "1. Claro que es posible que se presente el fenómeno de sobreajuste en la regresión lineal. El sobreajuste ocurre cuando un modelo se ajusta demasiado bien a los datos de entrenamiento y pierde su capacidad de generalización a datos nuevos. En el caso de la regresión lineal, el modelo podría ajustarse demasiado a los datos de entrenamiento, lo que significa que la línea de regresión podría pasar muy cerca de cada punto de datos individual, en lugar de capturar la tendencia general de los datos.\n",
        "\n",
        "  El sobreajuste puede ocurrir en la regresión lineal si se utilizan demasiados predictores o variables independientes en el modelo en relación al número de observaciones de datos disponibles. También puede ocurrir si se utilizan técnicas de regularización insuficientes para evitar el ajuste excesivo, o si se utilizan conjuntos de datos de entrenamiento demasiado pequeños.\n",
        "\n",
        " -----\n",
        "  En el metodo 1 no existe overfitting debido a la diferencia del error de entrenamiento con error de validacion es 0 .\n",
        "\n",
        "  En el metodo 2a no existe overfitting debido a la diferencia del error de entrenamiento con error de validacion es 0.023 .\n",
        "\n",
        " En el método 2b Ridge no existe overfittig, ya que la diferencia de error de entrenamiento con el error de validación no es considerablemente grande. Debido a que su diferencia es de \"0.010968426535377204\", podemos afirmar que el modelo parece generalizar bien a los datos de validación y que no hay evidencia clara de overfitting.\n",
        "\n",
        " En el metodo 3 no existe overfitting debido a la diferencia del error de entrenamiento con error de validacion es 0 .\n",
        "\n",
        "2. No presenta valores atipicos debido a que sus valores estan bien distribuidos en sus parámetros. Esto se puede comprobar en los histogramas que muestran la distribución de los valores para cada una de las variables del dataset.\n",
        "\n",
        "3. Depende del contexto y del análisis que se quiera realizar. En algunos casos, los valores atípicos pueden ser verdaderos datos atípicos o excepciones que no representan el comportamiento general del conjunto de datos, y en estos casos, su eliminación podría ser justificada. Por ejemplo, en la detección de fraudes financieros, puede ser importante eliminar los valores atípicos que podrían indicar transacciones sospechosas.\n",
        "\n",
        " Por otro lado, en algunos casos, los valores atípicos pueden ser datos legítimos y relevantes para el análisis. Por ejemplo, en el análisis de precios de bienes raíces, es posible que existan propiedades que se vendan a precios mucho más altos o bajos que el promedio debido a características únicas o situaciones específicas, y estos valores atípicos podrían ser relevantes para la estimación del precio de otras propiedades.\n",
        "\n",
        " En resumen, la eliminación de valores atípicos depende del contexto y de la naturaleza del análisis que se quiera realizar, y debe ser justificada en función de los objetivos y las hipótesis del estudio\n",
        "\n",
        "4. El escalado, también conocido como normalización, es un proceso de transformación de los datos para que se ajusten a una escala común. En el contexto del aprendizaje automático, el escalado se utiliza para asegurarse de que las variables independientes (características) tengan un rango similar.\n",
        "\n",
        " El escalado es necesario cuando las variables independientes tienen diferentes escalas y unidades de medida. Por ejemplo, si una variable mide en miles de dólares y otra en porcentajes, es probable que tengan diferentes escalas y, por lo tanto, afecten la regresión de manera desproporcionada. El escalado también puede mejorar la eficacia y la eficiencia de algunos algoritmos de aprendizaje automático, como la regresión logística y el k-means.\n",
        "\n",
        " El escalado no siempre es necesario, ya que depende de los datos y el algoritmo que se esté utilizando. En algunos casos, las variables pueden tener escalas similares y no requerir escalado. En otros casos, el algoritmo utilizado puede estar diseñado para manejar variables con diferentes escalas. Es importante tener en cuenta que el escalado debe realizarse en los datos de entrenamiento y, posteriormente, aplicarse al conjunto de datos de prueba para evitar la contaminación de información del conjunto de prueba.\n",
        "\n",
        "5. El Descenso del Gradiente y la Regresión Ordinaria por Mínimos Cuadrados son dos técnicas muy populares para resolver problemas de regresión. Ambas técnicas buscan encontrar los parámetros óptimos para ajustar una línea o una curva a un conjunto de datos.\n",
        "La Regresión Ordinaria por Mínimos Cuadrados utiliza la Ecuación Normal para encontrar los valores óptimos de los parámetros. Esta técnica es muy eficiente cuando se trata de conjuntos de datos pequeños, ya que el cálculo de los parámetros es una operación directa que se puede realizar en una sola operación matricial. Sin embargo, cuando el conjunto de datos es grande, el cálculo de la inversa de la matriz puede ser computacionalmente costoso y requerir mucha memoria.\n",
        "Por otro lado, el Descenso del Gradiente es un algoritmo iterativo que ajusta los parámetros en cada iteración para minimizar la función de costo. Esta técnica es muy eficiente en grandes conjuntos de datos, ya que los cálculos se realizan de forma incremental y la memoria necesaria es muy baja. Además, el Descenso del Gradiente se puede utilizar para optimizar cualquier función de costo, lo que lo hace muy versátil.\n",
        "En general, es preferible utilizar el Descenso del Gradiente cuando se trabaja con grandes conjuntos de datos y/o cuando la función de costo no es convexa (es decir, tiene múltiples mínimos locales). La Regresión Ordinaria por Mínimos Cuadrados es preferible cuando se trabaja con conjuntos de datos pequeños y la función de costo es convexa. Se puede concluir que ambas técnicas son útiles y efectivas para resolver problemas de regresión, y la elección entre ellas dependerá del tamaño del conjunto de datos y la complejidad de la función de costo."
      ],
      "metadata": {
        "id": "8loncAf-EO2Z"
      }
    },
    {
      "cell_type": "code",
      "source": [],
      "metadata": {
        "id": "lCQUkeef00rb"
      },
      "execution_count": null,
      "outputs": []
    }
  ]
}